{
 "cells": [
  {
   "cell_type": "markdown",
   "metadata": {},
   "source": [
    "# WeatherPy\n",
    "----\n",
    "\n",
    "#### Note\n",
    "* Instructions have been included for each segment. You do not have to follow them exactly, but they are included to help you think through the steps."
   ]
  },
  {
   "cell_type": "code",
   "execution_count": 135,
   "metadata": {
    "scrolled": true
   },
   "outputs": [
    {
     "name": "stdout",
     "output_type": "stream",
     "text": [
      "aad29af8ad8465da8fc4785fb3164b34\n"
     ]
    }
   ],
   "source": [
    "#dependencies\n",
    "import requests\n",
    "import matplotlib.pyplot as plt\n",
    "import pandas as pd\n",
    "import json\n",
    "import numpy as np\n",
    "import scipy.stats as sts\n",
    "\n",
    "\n",
    "from pprint import pprint\n",
    "from config import api_key\n",
    "from citipy import citipy\n",
    "\n",
    "print(api_key)"
   ]
  },
  {
   "cell_type": "markdown",
   "metadata": {},
   "source": [
    "## Generate Cities List"
   ]
  },
  {
   "cell_type": "code",
   "execution_count": 136,
   "metadata": {},
   "outputs": [
    {
     "data": {
      "text/html": [
       "<div>\n",
       "<style scoped>\n",
       "    .dataframe tbody tr th:only-of-type {\n",
       "        vertical-align: middle;\n",
       "    }\n",
       "\n",
       "    .dataframe tbody tr th {\n",
       "        vertical-align: top;\n",
       "    }\n",
       "\n",
       "    .dataframe thead th {\n",
       "        text-align: right;\n",
       "    }\n",
       "</style>\n",
       "<table border=\"1\" class=\"dataframe\">\n",
       "  <thead>\n",
       "    <tr style=\"text-align: right;\">\n",
       "      <th></th>\n",
       "      <th>lat</th>\n",
       "      <th>long</th>\n",
       "    </tr>\n",
       "  </thead>\n",
       "  <tbody>\n",
       "    <tr>\n",
       "      <th>0</th>\n",
       "      <td>-61.39</td>\n",
       "      <td>-176.08</td>\n",
       "    </tr>\n",
       "    <tr>\n",
       "      <th>1</th>\n",
       "      <td>-0.60</td>\n",
       "      <td>141.44</td>\n",
       "    </tr>\n",
       "    <tr>\n",
       "      <th>2</th>\n",
       "      <td>-14.85</td>\n",
       "      <td>-92.34</td>\n",
       "    </tr>\n",
       "    <tr>\n",
       "      <th>3</th>\n",
       "      <td>-72.99</td>\n",
       "      <td>-21.29</td>\n",
       "    </tr>\n",
       "    <tr>\n",
       "      <th>4</th>\n",
       "      <td>-33.80</td>\n",
       "      <td>-92.43</td>\n",
       "    </tr>\n",
       "  </tbody>\n",
       "</table>\n",
       "</div>"
      ],
      "text/plain": [
       "     lat    long\n",
       "0 -61.39 -176.08\n",
       "1  -0.60  141.44\n",
       "2 -14.85  -92.34\n",
       "3 -72.99  -21.29\n",
       "4 -33.80  -92.43"
      ]
     },
     "execution_count": 136,
     "metadata": {},
     "output_type": "execute_result"
    }
   ],
   "source": [
    "# generate cities as needed \n",
    "import random\n",
    "\n",
    "lat = []\n",
    "long = []\n",
    "\n",
    "#while len(city_df) < 550:\n",
    "\n",
    "\n",
    "for x in range(600):\n",
    "    lat.append(round(random.uniform(-90,90),2))\n",
    "    long.append(round(random.uniform(-180,180),2))\n",
    "\n",
    "#print(lat)\n",
    "\n",
    "city_loc_df = {\n",
    "    \"lat\" : lat,\n",
    "    \"long\" : long\n",
    "}\n",
    "\n",
    "city_df = pd.DataFrame(city_loc_df)\n",
    "\n",
    "city_df.head()\n"
   ]
  },
  {
   "cell_type": "code",
   "execution_count": 137,
   "metadata": {},
   "outputs": [
    {
     "name": "stdout",
     "output_type": "stream",
     "text": [
      "318 318\n"
     ]
    },
    {
     "data": {
      "text/html": [
       "<div>\n",
       "<style scoped>\n",
       "    .dataframe tbody tr th:only-of-type {\n",
       "        vertical-align: middle;\n",
       "    }\n",
       "\n",
       "    .dataframe tbody tr th {\n",
       "        vertical-align: top;\n",
       "    }\n",
       "\n",
       "    .dataframe thead th {\n",
       "        text-align: right;\n",
       "    }\n",
       "</style>\n",
       "<table border=\"1\" class=\"dataframe\">\n",
       "  <thead>\n",
       "    <tr style=\"text-align: right;\">\n",
       "      <th></th>\n",
       "      <th>Name</th>\n",
       "      <th>Country</th>\n",
       "    </tr>\n",
       "  </thead>\n",
       "  <tbody>\n",
       "    <tr>\n",
       "      <th>0</th>\n",
       "      <td>vaini</td>\n",
       "      <td>to</td>\n",
       "    </tr>\n",
       "    <tr>\n",
       "      <th>1</th>\n",
       "      <td>vanimo</td>\n",
       "      <td>pg</td>\n",
       "    </tr>\n",
       "    <tr>\n",
       "      <th>2</th>\n",
       "      <td>san cristobal</td>\n",
       "      <td>ec</td>\n",
       "    </tr>\n",
       "    <tr>\n",
       "      <th>3</th>\n",
       "      <td>mar del plata</td>\n",
       "      <td>ar</td>\n",
       "    </tr>\n",
       "    <tr>\n",
       "      <th>4</th>\n",
       "      <td>lebu</td>\n",
       "      <td>cl</td>\n",
       "    </tr>\n",
       "    <tr>\n",
       "      <th>...</th>\n",
       "      <td>...</td>\n",
       "      <td>...</td>\n",
       "    </tr>\n",
       "    <tr>\n",
       "      <th>313</th>\n",
       "      <td>ankpa</td>\n",
       "      <td>ng</td>\n",
       "    </tr>\n",
       "    <tr>\n",
       "      <th>314</th>\n",
       "      <td>izhma</td>\n",
       "      <td>ru</td>\n",
       "    </tr>\n",
       "    <tr>\n",
       "      <th>315</th>\n",
       "      <td>alto araguaia</td>\n",
       "      <td>br</td>\n",
       "    </tr>\n",
       "    <tr>\n",
       "      <th>316</th>\n",
       "      <td>fairbanks</td>\n",
       "      <td>us</td>\n",
       "    </tr>\n",
       "    <tr>\n",
       "      <th>317</th>\n",
       "      <td>marsh harbour</td>\n",
       "      <td>bs</td>\n",
       "    </tr>\n",
       "  </tbody>\n",
       "</table>\n",
       "<p>318 rows × 2 columns</p>\n",
       "</div>"
      ],
      "text/plain": [
       "              Name Country\n",
       "0            vaini      to\n",
       "1           vanimo      pg\n",
       "2    san cristobal      ec\n",
       "3    mar del plata      ar\n",
       "4             lebu      cl\n",
       "..             ...     ...\n",
       "313          ankpa      ng\n",
       "314          izhma      ru\n",
       "315  alto araguaia      br\n",
       "316      fairbanks      us\n",
       "317  marsh harbour      bs\n",
       "\n",
       "[318 rows x 2 columns]"
      ]
     },
     "execution_count": 137,
     "metadata": {},
     "output_type": "execute_result"
    }
   ],
   "source": [
    "#convert random lat and Long into city names via citipy nearest_city\n",
    "from citipy import citipy\n",
    "\n",
    "city_name =[]\n",
    "city_country = []\n",
    "\n",
    "\n",
    "for row in range(len(city_df)):\n",
    "    lati = city_df['lat'][row]\n",
    "    longi =city_df['long'][row]\n",
    "    \n",
    "    city = citipy.nearest_city(lati,longi)\n",
    "    \n",
    "    if city.city_name not in city_name:\n",
    "    \n",
    "        city_name.append(city.city_name)\n",
    "        city_country.append(city.country_code)\n",
    "        \n",
    "print(len(city_name), len(city_country))        \n",
    "\n",
    "data = {'Name': city_name, 'Country': city_country}\n",
    "\n",
    "city_df = pd.DataFrame(data)\n",
    "city_df"
   ]
  },
  {
   "cell_type": "markdown",
   "metadata": {},
   "source": [
    "### Perform API Calls\n",
    "* Perform a weather check on each city using a series of successive API calls.\n",
    "* Include a print log of each city as it'sbeing processed (with the city number and city name).\n"
   ]
  },
  {
   "cell_type": "code",
   "execution_count": 138,
   "metadata": {
    "scrolled": true
   },
   "outputs": [
    {
     "name": "stdout",
     "output_type": "stream",
     "text": [
      "vaini\n",
      "http://api.openweathermap.org/data/2.5/weather?q=vaini&units=imperial&appid=aad29af8ad8465da8fc4785fb3164b34\n",
      "vanimo\n",
      "http://api.openweathermap.org/data/2.5/weather?q=vanimo&units=imperial&appid=aad29af8ad8465da8fc4785fb3164b34\n",
      "san cristobal\n",
      "http://api.openweathermap.org/data/2.5/weather?q=san cristobal&units=imperial&appid=aad29af8ad8465da8fc4785fb3164b34\n",
      "mar del plata\n",
      "http://api.openweathermap.org/data/2.5/weather?q=mar del plata&units=imperial&appid=aad29af8ad8465da8fc4785fb3164b34\n",
      "lebu\n",
      "http://api.openweathermap.org/data/2.5/weather?q=lebu&units=imperial&appid=aad29af8ad8465da8fc4785fb3164b34\n",
      "busselton\n",
      "http://api.openweathermap.org/data/2.5/weather?q=busselton&units=imperial&appid=aad29af8ad8465da8fc4785fb3164b34\n",
      "khor\n",
      "http://api.openweathermap.org/data/2.5/weather?q=khor&units=imperial&appid=aad29af8ad8465da8fc4785fb3164b34\n",
      "taolanaro\n",
      "http://api.openweathermap.org/data/2.5/weather?q=taolanaro&units=imperial&appid=aad29af8ad8465da8fc4785fb3164b34\n",
      "tautira\n",
      "http://api.openweathermap.org/data/2.5/weather?q=tautira&units=imperial&appid=aad29af8ad8465da8fc4785fb3164b34\n",
      "leh\n",
      "http://api.openweathermap.org/data/2.5/weather?q=leh&units=imperial&appid=aad29af8ad8465da8fc4785fb3164b34\n",
      "rikitea\n",
      "http://api.openweathermap.org/data/2.5/weather?q=rikitea&units=imperial&appid=aad29af8ad8465da8fc4785fb3164b34\n",
      "phek\n",
      "http://api.openweathermap.org/data/2.5/weather?q=phek&units=imperial&appid=aad29af8ad8465da8fc4785fb3164b34\n",
      "faya\n",
      "http://api.openweathermap.org/data/2.5/weather?q=faya&units=imperial&appid=aad29af8ad8465da8fc4785fb3164b34\n",
      "barrow\n",
      "http://api.openweathermap.org/data/2.5/weather?q=barrow&units=imperial&appid=aad29af8ad8465da8fc4785fb3164b34\n",
      "gat\n",
      "http://api.openweathermap.org/data/2.5/weather?q=gat&units=imperial&appid=aad29af8ad8465da8fc4785fb3164b34\n",
      "tumannyy\n",
      "http://api.openweathermap.org/data/2.5/weather?q=tumannyy&units=imperial&appid=aad29af8ad8465da8fc4785fb3164b34\n",
      "caravelas\n",
      "http://api.openweathermap.org/data/2.5/weather?q=caravelas&units=imperial&appid=aad29af8ad8465da8fc4785fb3164b34\n",
      "chuy\n",
      "http://api.openweathermap.org/data/2.5/weather?q=chuy&units=imperial&appid=aad29af8ad8465da8fc4785fb3164b34\n",
      "chaiya\n",
      "http://api.openweathermap.org/data/2.5/weather?q=chaiya&units=imperial&appid=aad29af8ad8465da8fc4785fb3164b34\n",
      "mataura\n",
      "http://api.openweathermap.org/data/2.5/weather?q=mataura&units=imperial&appid=aad29af8ad8465da8fc4785fb3164b34\n",
      "walajapet\n",
      "http://api.openweathermap.org/data/2.5/weather?q=walajapet&units=imperial&appid=aad29af8ad8465da8fc4785fb3164b34\n",
      "cidreira\n",
      "http://api.openweathermap.org/data/2.5/weather?q=cidreira&units=imperial&appid=aad29af8ad8465da8fc4785fb3164b34\n",
      "lagoa\n",
      "http://api.openweathermap.org/data/2.5/weather?q=lagoa&units=imperial&appid=aad29af8ad8465da8fc4785fb3164b34\n",
      "tiznit\n",
      "http://api.openweathermap.org/data/2.5/weather?q=tiznit&units=imperial&appid=aad29af8ad8465da8fc4785fb3164b34\n",
      "wajima\n",
      "http://api.openweathermap.org/data/2.5/weather?q=wajima&units=imperial&appid=aad29af8ad8465da8fc4785fb3164b34\n",
      "el seibo\n",
      "http://api.openweathermap.org/data/2.5/weather?q=el seibo&units=imperial&appid=aad29af8ad8465da8fc4785fb3164b34\n",
      "yaan\n",
      "http://api.openweathermap.org/data/2.5/weather?q=yaan&units=imperial&appid=aad29af8ad8465da8fc4785fb3164b34\n",
      "ampanihy\n",
      "http://api.openweathermap.org/data/2.5/weather?q=ampanihy&units=imperial&appid=aad29af8ad8465da8fc4785fb3164b34\n",
      "kodiak\n",
      "http://api.openweathermap.org/data/2.5/weather?q=kodiak&units=imperial&appid=aad29af8ad8465da8fc4785fb3164b34\n",
      "albany\n",
      "http://api.openweathermap.org/data/2.5/weather?q=albany&units=imperial&appid=aad29af8ad8465da8fc4785fb3164b34\n",
      "ushuaia\n",
      "http://api.openweathermap.org/data/2.5/weather?q=ushuaia&units=imperial&appid=aad29af8ad8465da8fc4785fb3164b34\n",
      "tres lagoas\n",
      "http://api.openweathermap.org/data/2.5/weather?q=tres lagoas&units=imperial&appid=aad29af8ad8465da8fc4785fb3164b34\n",
      "rio cuarto\n",
      "http://api.openweathermap.org/data/2.5/weather?q=rio cuarto&units=imperial&appid=aad29af8ad8465da8fc4785fb3164b34\n",
      "new norfolk\n",
      "http://api.openweathermap.org/data/2.5/weather?q=new norfolk&units=imperial&appid=aad29af8ad8465da8fc4785fb3164b34\n",
      "dikson\n",
      "http://api.openweathermap.org/data/2.5/weather?q=dikson&units=imperial&appid=aad29af8ad8465da8fc4785fb3164b34\n",
      "salalah\n",
      "http://api.openweathermap.org/data/2.5/weather?q=salalah&units=imperial&appid=aad29af8ad8465da8fc4785fb3164b34\n",
      "opuwo\n",
      "http://api.openweathermap.org/data/2.5/weather?q=opuwo&units=imperial&appid=aad29af8ad8465da8fc4785fb3164b34\n",
      "kapaa\n",
      "http://api.openweathermap.org/data/2.5/weather?q=kapaa&units=imperial&appid=aad29af8ad8465da8fc4785fb3164b34\n",
      "faanui\n",
      "http://api.openweathermap.org/data/2.5/weather?q=faanui&units=imperial&appid=aad29af8ad8465da8fc4785fb3164b34\n",
      "nueva loja\n",
      "http://api.openweathermap.org/data/2.5/weather?q=nueva loja&units=imperial&appid=aad29af8ad8465da8fc4785fb3164b34\n",
      "vila velha\n",
      "http://api.openweathermap.org/data/2.5/weather?q=vila velha&units=imperial&appid=aad29af8ad8465da8fc4785fb3164b34\n",
      "pevek\n",
      "http://api.openweathermap.org/data/2.5/weather?q=pevek&units=imperial&appid=aad29af8ad8465da8fc4785fb3164b34\n",
      "puerto ayora\n",
      "http://api.openweathermap.org/data/2.5/weather?q=puerto ayora&units=imperial&appid=aad29af8ad8465da8fc4785fb3164b34\n",
      "longyearbyen\n",
      "http://api.openweathermap.org/data/2.5/weather?q=longyearbyen&units=imperial&appid=aad29af8ad8465da8fc4785fb3164b34\n",
      "arlit\n",
      "http://api.openweathermap.org/data/2.5/weather?q=arlit&units=imperial&appid=aad29af8ad8465da8fc4785fb3164b34\n",
      "hambantota\n",
      "http://api.openweathermap.org/data/2.5/weather?q=hambantota&units=imperial&appid=aad29af8ad8465da8fc4785fb3164b34\n",
      "illoqqortoormiut\n",
      "http://api.openweathermap.org/data/2.5/weather?q=illoqqortoormiut&units=imperial&appid=aad29af8ad8465da8fc4785fb3164b34\n",
      "fortuna\n",
      "http://api.openweathermap.org/data/2.5/weather?q=fortuna&units=imperial&appid=aad29af8ad8465da8fc4785fb3164b34\n",
      "beringovskiy\n",
      "http://api.openweathermap.org/data/2.5/weather?q=beringovskiy&units=imperial&appid=aad29af8ad8465da8fc4785fb3164b34\n",
      "halalo\n",
      "http://api.openweathermap.org/data/2.5/weather?q=halalo&units=imperial&appid=aad29af8ad8465da8fc4785fb3164b34\n",
      "alamosa\n",
      "http://api.openweathermap.org/data/2.5/weather?q=alamosa&units=imperial&appid=aad29af8ad8465da8fc4785fb3164b34\n",
      "butaritari\n",
      "http://api.openweathermap.org/data/2.5/weather?q=butaritari&units=imperial&appid=aad29af8ad8465da8fc4785fb3164b34\n",
      "raahe\n",
      "http://api.openweathermap.org/data/2.5/weather?q=raahe&units=imperial&appid=aad29af8ad8465da8fc4785fb3164b34\n",
      "cape town\n",
      "http://api.openweathermap.org/data/2.5/weather?q=cape town&units=imperial&appid=aad29af8ad8465da8fc4785fb3164b34\n",
      "udala\n",
      "http://api.openweathermap.org/data/2.5/weather?q=udala&units=imperial&appid=aad29af8ad8465da8fc4785fb3164b34\n",
      "guaruja\n",
      "http://api.openweathermap.org/data/2.5/weather?q=guaruja&units=imperial&appid=aad29af8ad8465da8fc4785fb3164b34\n",
      "samarinda\n",
      "http://api.openweathermap.org/data/2.5/weather?q=samarinda&units=imperial&appid=aad29af8ad8465da8fc4785fb3164b34\n",
      "paso de carrasco\n",
      "http://api.openweathermap.org/data/2.5/weather?q=paso de carrasco&units=imperial&appid=aad29af8ad8465da8fc4785fb3164b34\n",
      "castro\n",
      "http://api.openweathermap.org/data/2.5/weather?q=castro&units=imperial&appid=aad29af8ad8465da8fc4785fb3164b34\n",
      "bolungarvik\n",
      "http://api.openweathermap.org/data/2.5/weather?q=bolungarvik&units=imperial&appid=aad29af8ad8465da8fc4785fb3164b34\n",
      "panama city\n",
      "http://api.openweathermap.org/data/2.5/weather?q=panama city&units=imperial&appid=aad29af8ad8465da8fc4785fb3164b34\n",
      "geraldton\n",
      "http://api.openweathermap.org/data/2.5/weather?q=geraldton&units=imperial&appid=aad29af8ad8465da8fc4785fb3164b34\n",
      "jamestown\n",
      "http://api.openweathermap.org/data/2.5/weather?q=jamestown&units=imperial&appid=aad29af8ad8465da8fc4785fb3164b34\n",
      "port alfred\n",
      "http://api.openweathermap.org/data/2.5/weather?q=port alfred&units=imperial&appid=aad29af8ad8465da8fc4785fb3164b34\n",
      "rafaela\n",
      "http://api.openweathermap.org/data/2.5/weather?q=rafaela&units=imperial&appid=aad29af8ad8465da8fc4785fb3164b34\n",
      "umzimvubu\n",
      "http://api.openweathermap.org/data/2.5/weather?q=umzimvubu&units=imperial&appid=aad29af8ad8465da8fc4785fb3164b34\n",
      "yar-sale\n",
      "http://api.openweathermap.org/data/2.5/weather?q=yar-sale&units=imperial&appid=aad29af8ad8465da8fc4785fb3164b34\n",
      "bam\n",
      "http://api.openweathermap.org/data/2.5/weather?q=bam&units=imperial&appid=aad29af8ad8465da8fc4785fb3164b34\n",
      "aklavik\n",
      "http://api.openweathermap.org/data/2.5/weather?q=aklavik&units=imperial&appid=aad29af8ad8465da8fc4785fb3164b34\n",
      "praia da vitoria\n",
      "http://api.openweathermap.org/data/2.5/weather?q=praia da vitoria&units=imperial&appid=aad29af8ad8465da8fc4785fb3164b34\n",
      "samfya\n",
      "http://api.openweathermap.org/data/2.5/weather?q=samfya&units=imperial&appid=aad29af8ad8465da8fc4785fb3164b34\n"
     ]
    },
    {
     "name": "stdout",
     "output_type": "stream",
     "text": [
      "hermanus\n",
      "http://api.openweathermap.org/data/2.5/weather?q=hermanus&units=imperial&appid=aad29af8ad8465da8fc4785fb3164b34\n",
      "arraial do cabo\n",
      "http://api.openweathermap.org/data/2.5/weather?q=arraial do cabo&units=imperial&appid=aad29af8ad8465da8fc4785fb3164b34\n",
      "borogontsy\n",
      "http://api.openweathermap.org/data/2.5/weather?q=borogontsy&units=imperial&appid=aad29af8ad8465da8fc4785fb3164b34\n",
      "atuona\n",
      "http://api.openweathermap.org/data/2.5/weather?q=atuona&units=imperial&appid=aad29af8ad8465da8fc4785fb3164b34\n",
      "punta arenas\n",
      "http://api.openweathermap.org/data/2.5/weather?q=punta arenas&units=imperial&appid=aad29af8ad8465da8fc4785fb3164b34\n",
      "thabazimbi\n",
      "http://api.openweathermap.org/data/2.5/weather?q=thabazimbi&units=imperial&appid=aad29af8ad8465da8fc4785fb3164b34\n",
      "shakawe\n",
      "http://api.openweathermap.org/data/2.5/weather?q=shakawe&units=imperial&appid=aad29af8ad8465da8fc4785fb3164b34\n",
      "gimli\n",
      "http://api.openweathermap.org/data/2.5/weather?q=gimli&units=imperial&appid=aad29af8ad8465da8fc4785fb3164b34\n",
      "khatanga\n",
      "http://api.openweathermap.org/data/2.5/weather?q=khatanga&units=imperial&appid=aad29af8ad8465da8fc4785fb3164b34\n",
      "kanallakion\n",
      "http://api.openweathermap.org/data/2.5/weather?q=kanallakion&units=imperial&appid=aad29af8ad8465da8fc4785fb3164b34\n",
      "bengkulu\n",
      "http://api.openweathermap.org/data/2.5/weather?q=bengkulu&units=imperial&appid=aad29af8ad8465da8fc4785fb3164b34\n",
      "skagastrond\n",
      "http://api.openweathermap.org/data/2.5/weather?q=skagastrond&units=imperial&appid=aad29af8ad8465da8fc4785fb3164b34\n",
      "bethel\n",
      "http://api.openweathermap.org/data/2.5/weather?q=bethel&units=imperial&appid=aad29af8ad8465da8fc4785fb3164b34\n",
      "wa\n",
      "http://api.openweathermap.org/data/2.5/weather?q=wa&units=imperial&appid=aad29af8ad8465da8fc4785fb3164b34\n",
      "esperance\n",
      "http://api.openweathermap.org/data/2.5/weather?q=esperance&units=imperial&appid=aad29af8ad8465da8fc4785fb3164b34\n",
      "ribeira grande\n",
      "http://api.openweathermap.org/data/2.5/weather?q=ribeira grande&units=imperial&appid=aad29af8ad8465da8fc4785fb3164b34\n",
      "concepcion del oro\n",
      "http://api.openweathermap.org/data/2.5/weather?q=concepcion del oro&units=imperial&appid=aad29af8ad8465da8fc4785fb3164b34\n",
      "norman wells\n",
      "http://api.openweathermap.org/data/2.5/weather?q=norman wells&units=imperial&appid=aad29af8ad8465da8fc4785fb3164b34\n",
      "nantucket\n",
      "http://api.openweathermap.org/data/2.5/weather?q=nantucket&units=imperial&appid=aad29af8ad8465da8fc4785fb3164b34\n",
      "dingle\n",
      "http://api.openweathermap.org/data/2.5/weather?q=dingle&units=imperial&appid=aad29af8ad8465da8fc4785fb3164b34\n",
      "nanortalik\n",
      "http://api.openweathermap.org/data/2.5/weather?q=nanortalik&units=imperial&appid=aad29af8ad8465da8fc4785fb3164b34\n",
      "hobart\n",
      "http://api.openweathermap.org/data/2.5/weather?q=hobart&units=imperial&appid=aad29af8ad8465da8fc4785fb3164b34\n",
      "leningradskiy\n",
      "http://api.openweathermap.org/data/2.5/weather?q=leningradskiy&units=imperial&appid=aad29af8ad8465da8fc4785fb3164b34\n",
      "qaanaaq\n",
      "http://api.openweathermap.org/data/2.5/weather?q=qaanaaq&units=imperial&appid=aad29af8ad8465da8fc4785fb3164b34\n",
      "krabi\n",
      "http://api.openweathermap.org/data/2.5/weather?q=krabi&units=imperial&appid=aad29af8ad8465da8fc4785fb3164b34\n",
      "barra do garcas\n",
      "http://api.openweathermap.org/data/2.5/weather?q=barra do garcas&units=imperial&appid=aad29af8ad8465da8fc4785fb3164b34\n",
      "constitucion\n",
      "http://api.openweathermap.org/data/2.5/weather?q=constitucion&units=imperial&appid=aad29af8ad8465da8fc4785fb3164b34\n",
      "ochamchira\n",
      "http://api.openweathermap.org/data/2.5/weather?q=ochamchira&units=imperial&appid=aad29af8ad8465da8fc4785fb3164b34\n",
      "kushiro\n",
      "http://api.openweathermap.org/data/2.5/weather?q=kushiro&units=imperial&appid=aad29af8ad8465da8fc4785fb3164b34\n",
      "pittsfield\n",
      "http://api.openweathermap.org/data/2.5/weather?q=pittsfield&units=imperial&appid=aad29af8ad8465da8fc4785fb3164b34\n",
      "skalistyy\n",
      "http://api.openweathermap.org/data/2.5/weather?q=skalistyy&units=imperial&appid=aad29af8ad8465da8fc4785fb3164b34\n",
      "camacha\n",
      "http://api.openweathermap.org/data/2.5/weather?q=camacha&units=imperial&appid=aad29af8ad8465da8fc4785fb3164b34\n",
      "husavik\n",
      "http://api.openweathermap.org/data/2.5/weather?q=husavik&units=imperial&appid=aad29af8ad8465da8fc4785fb3164b34\n",
      "comodoro rivadavia\n",
      "http://api.openweathermap.org/data/2.5/weather?q=comodoro rivadavia&units=imperial&appid=aad29af8ad8465da8fc4785fb3164b34\n",
      "elbistan\n",
      "http://api.openweathermap.org/data/2.5/weather?q=elbistan&units=imperial&appid=aad29af8ad8465da8fc4785fb3164b34\n",
      "davila\n",
      "http://api.openweathermap.org/data/2.5/weather?q=davila&units=imperial&appid=aad29af8ad8465da8fc4785fb3164b34\n",
      "portland\n",
      "http://api.openweathermap.org/data/2.5/weather?q=portland&units=imperial&appid=aad29af8ad8465da8fc4785fb3164b34\n",
      "tsihombe\n",
      "http://api.openweathermap.org/data/2.5/weather?q=tsihombe&units=imperial&appid=aad29af8ad8465da8fc4785fb3164b34\n",
      "hay river\n",
      "http://api.openweathermap.org/data/2.5/weather?q=hay river&units=imperial&appid=aad29af8ad8465da8fc4785fb3164b34\n",
      "butajira\n",
      "http://api.openweathermap.org/data/2.5/weather?q=butajira&units=imperial&appid=aad29af8ad8465da8fc4785fb3164b34\n",
      "hofn\n",
      "http://api.openweathermap.org/data/2.5/weather?q=hofn&units=imperial&appid=aad29af8ad8465da8fc4785fb3164b34\n",
      "waingapu\n",
      "http://api.openweathermap.org/data/2.5/weather?q=waingapu&units=imperial&appid=aad29af8ad8465da8fc4785fb3164b34\n",
      "taoudenni\n",
      "http://api.openweathermap.org/data/2.5/weather?q=taoudenni&units=imperial&appid=aad29af8ad8465da8fc4785fb3164b34\n",
      "olafsvik\n",
      "http://api.openweathermap.org/data/2.5/weather?q=olafsvik&units=imperial&appid=aad29af8ad8465da8fc4785fb3164b34\n",
      "santa clara\n",
      "http://api.openweathermap.org/data/2.5/weather?q=santa clara&units=imperial&appid=aad29af8ad8465da8fc4785fb3164b34\n",
      "sioux lookout\n",
      "http://api.openweathermap.org/data/2.5/weather?q=sioux lookout&units=imperial&appid=aad29af8ad8465da8fc4785fb3164b34\n",
      "mahebourg\n",
      "http://api.openweathermap.org/data/2.5/weather?q=mahebourg&units=imperial&appid=aad29af8ad8465da8fc4785fb3164b34\n",
      "dunedin\n",
      "http://api.openweathermap.org/data/2.5/weather?q=dunedin&units=imperial&appid=aad29af8ad8465da8fc4785fb3164b34\n",
      "kondinskoye\n",
      "http://api.openweathermap.org/data/2.5/weather?q=kondinskoye&units=imperial&appid=aad29af8ad8465da8fc4785fb3164b34\n",
      "godalming\n",
      "http://api.openweathermap.org/data/2.5/weather?q=godalming&units=imperial&appid=aad29af8ad8465da8fc4785fb3164b34\n",
      "sarnia\n",
      "http://api.openweathermap.org/data/2.5/weather?q=sarnia&units=imperial&appid=aad29af8ad8465da8fc4785fb3164b34\n",
      "ayan\n",
      "http://api.openweathermap.org/data/2.5/weather?q=ayan&units=imperial&appid=aad29af8ad8465da8fc4785fb3164b34\n",
      "eureka\n",
      "http://api.openweathermap.org/data/2.5/weather?q=eureka&units=imperial&appid=aad29af8ad8465da8fc4785fb3164b34\n",
      "watertown\n",
      "http://api.openweathermap.org/data/2.5/weather?q=watertown&units=imperial&appid=aad29af8ad8465da8fc4785fb3164b34\n",
      "hearst\n",
      "http://api.openweathermap.org/data/2.5/weather?q=hearst&units=imperial&appid=aad29af8ad8465da8fc4785fb3164b34\n",
      "bambanglipuro\n",
      "http://api.openweathermap.org/data/2.5/weather?q=bambanglipuro&units=imperial&appid=aad29af8ad8465da8fc4785fb3164b34\n",
      "ancud\n",
      "http://api.openweathermap.org/data/2.5/weather?q=ancud&units=imperial&appid=aad29af8ad8465da8fc4785fb3164b34\n",
      "rudnaya pristan\n",
      "http://api.openweathermap.org/data/2.5/weather?q=rudnaya pristan&units=imperial&appid=aad29af8ad8465da8fc4785fb3164b34\n",
      "beloha\n",
      "http://api.openweathermap.org/data/2.5/weather?q=beloha&units=imperial&appid=aad29af8ad8465da8fc4785fb3164b34\n",
      "upernavik\n",
      "http://api.openweathermap.org/data/2.5/weather?q=upernavik&units=imperial&appid=aad29af8ad8465da8fc4785fb3164b34\n",
      "bredasdorp\n",
      "http://api.openweathermap.org/data/2.5/weather?q=bredasdorp&units=imperial&appid=aad29af8ad8465da8fc4785fb3164b34\n",
      "tiksi\n",
      "http://api.openweathermap.org/data/2.5/weather?q=tiksi&units=imperial&appid=aad29af8ad8465da8fc4785fb3164b34\n",
      "warqla\n",
      "http://api.openweathermap.org/data/2.5/weather?q=warqla&units=imperial&appid=aad29af8ad8465da8fc4785fb3164b34\n",
      "konstantinovka\n",
      "http://api.openweathermap.org/data/2.5/weather?q=konstantinovka&units=imperial&appid=aad29af8ad8465da8fc4785fb3164b34\n",
      "villa vazquez\n",
      "http://api.openweathermap.org/data/2.5/weather?q=villa vazquez&units=imperial&appid=aad29af8ad8465da8fc4785fb3164b34\n",
      "bilaspur\n",
      "http://api.openweathermap.org/data/2.5/weather?q=bilaspur&units=imperial&appid=aad29af8ad8465da8fc4785fb3164b34\n",
      "praia\n",
      "http://api.openweathermap.org/data/2.5/weather?q=praia&units=imperial&appid=aad29af8ad8465da8fc4785fb3164b34\n",
      "bowen\n",
      "http://api.openweathermap.org/data/2.5/weather?q=bowen&units=imperial&appid=aad29af8ad8465da8fc4785fb3164b34\n"
     ]
    },
    {
     "name": "stdout",
     "output_type": "stream",
     "text": [
      "severo-kurilsk\n",
      "http://api.openweathermap.org/data/2.5/weather?q=severo-kurilsk&units=imperial&appid=aad29af8ad8465da8fc4785fb3164b34\n",
      "prince rupert\n",
      "http://api.openweathermap.org/data/2.5/weather?q=prince rupert&units=imperial&appid=aad29af8ad8465da8fc4785fb3164b34\n",
      "saryagash\n",
      "http://api.openweathermap.org/data/2.5/weather?q=saryagash&units=imperial&appid=aad29af8ad8465da8fc4785fb3164b34\n",
      "jalu\n",
      "http://api.openweathermap.org/data/2.5/weather?q=jalu&units=imperial&appid=aad29af8ad8465da8fc4785fb3164b34\n",
      "santa lucia\n",
      "http://api.openweathermap.org/data/2.5/weather?q=santa lucia&units=imperial&appid=aad29af8ad8465da8fc4785fb3164b34\n",
      "satuk\n",
      "http://api.openweathermap.org/data/2.5/weather?q=satuk&units=imperial&appid=aad29af8ad8465da8fc4785fb3164b34\n",
      "karpathos\n",
      "http://api.openweathermap.org/data/2.5/weather?q=karpathos&units=imperial&appid=aad29af8ad8465da8fc4785fb3164b34\n",
      "hilo\n",
      "http://api.openweathermap.org/data/2.5/weather?q=hilo&units=imperial&appid=aad29af8ad8465da8fc4785fb3164b34\n",
      "hervey bay\n",
      "http://api.openweathermap.org/data/2.5/weather?q=hervey bay&units=imperial&appid=aad29af8ad8465da8fc4785fb3164b34\n",
      "saint-philippe\n",
      "http://api.openweathermap.org/data/2.5/weather?q=saint-philippe&units=imperial&appid=aad29af8ad8465da8fc4785fb3164b34\n",
      "east london\n",
      "http://api.openweathermap.org/data/2.5/weather?q=east london&units=imperial&appid=aad29af8ad8465da8fc4785fb3164b34\n",
      "bubaque\n",
      "http://api.openweathermap.org/data/2.5/weather?q=bubaque&units=imperial&appid=aad29af8ad8465da8fc4785fb3164b34\n",
      "tasiilaq\n",
      "http://api.openweathermap.org/data/2.5/weather?q=tasiilaq&units=imperial&appid=aad29af8ad8465da8fc4785fb3164b34\n",
      "bambous virieux\n",
      "http://api.openweathermap.org/data/2.5/weather?q=bambous virieux&units=imperial&appid=aad29af8ad8465da8fc4785fb3164b34\n",
      "kirakira\n",
      "http://api.openweathermap.org/data/2.5/weather?q=kirakira&units=imperial&appid=aad29af8ad8465da8fc4785fb3164b34\n",
      "nome\n",
      "http://api.openweathermap.org/data/2.5/weather?q=nome&units=imperial&appid=aad29af8ad8465da8fc4785fb3164b34\n",
      "saint-pierre\n",
      "http://api.openweathermap.org/data/2.5/weather?q=saint-pierre&units=imperial&appid=aad29af8ad8465da8fc4785fb3164b34\n",
      "ksenyevka\n",
      "http://api.openweathermap.org/data/2.5/weather?q=ksenyevka&units=imperial&appid=aad29af8ad8465da8fc4785fb3164b34\n",
      "bluff\n",
      "http://api.openweathermap.org/data/2.5/weather?q=bluff&units=imperial&appid=aad29af8ad8465da8fc4785fb3164b34\n",
      "torbay\n",
      "http://api.openweathermap.org/data/2.5/weather?q=torbay&units=imperial&appid=aad29af8ad8465da8fc4785fb3164b34\n",
      "fare\n",
      "http://api.openweathermap.org/data/2.5/weather?q=fare&units=imperial&appid=aad29af8ad8465da8fc4785fb3164b34\n",
      "barentsburg\n",
      "http://api.openweathermap.org/data/2.5/weather?q=barentsburg&units=imperial&appid=aad29af8ad8465da8fc4785fb3164b34\n",
      "ginir\n",
      "http://api.openweathermap.org/data/2.5/weather?q=ginir&units=imperial&appid=aad29af8ad8465da8fc4785fb3164b34\n",
      "idlib\n",
      "http://api.openweathermap.org/data/2.5/weather?q=idlib&units=imperial&appid=aad29af8ad8465da8fc4785fb3164b34\n",
      "onguday\n",
      "http://api.openweathermap.org/data/2.5/weather?q=onguday&units=imperial&appid=aad29af8ad8465da8fc4785fb3164b34\n",
      "karasjok\n",
      "http://api.openweathermap.org/data/2.5/weather?q=karasjok&units=imperial&appid=aad29af8ad8465da8fc4785fb3164b34\n",
      "ponta do sol\n",
      "http://api.openweathermap.org/data/2.5/weather?q=ponta do sol&units=imperial&appid=aad29af8ad8465da8fc4785fb3164b34\n",
      "veselynove\n",
      "http://api.openweathermap.org/data/2.5/weather?q=veselynove&units=imperial&appid=aad29af8ad8465da8fc4785fb3164b34\n",
      "kandrian\n",
      "http://api.openweathermap.org/data/2.5/weather?q=kandrian&units=imperial&appid=aad29af8ad8465da8fc4785fb3164b34\n",
      "talwara\n",
      "http://api.openweathermap.org/data/2.5/weather?q=talwara&units=imperial&appid=aad29af8ad8465da8fc4785fb3164b34\n",
      "camargo\n",
      "http://api.openweathermap.org/data/2.5/weather?q=camargo&units=imperial&appid=aad29af8ad8465da8fc4785fb3164b34\n",
      "tibagi\n",
      "http://api.openweathermap.org/data/2.5/weather?q=tibagi&units=imperial&appid=aad29af8ad8465da8fc4785fb3164b34\n",
      "te anau\n",
      "http://api.openweathermap.org/data/2.5/weather?q=te anau&units=imperial&appid=aad29af8ad8465da8fc4785fb3164b34\n",
      "puntarenas\n",
      "http://api.openweathermap.org/data/2.5/weather?q=puntarenas&units=imperial&appid=aad29af8ad8465da8fc4785fb3164b34\n",
      "mantua\n",
      "http://api.openweathermap.org/data/2.5/weather?q=mantua&units=imperial&appid=aad29af8ad8465da8fc4785fb3164b34\n",
      "coihaique\n",
      "http://api.openweathermap.org/data/2.5/weather?q=coihaique&units=imperial&appid=aad29af8ad8465da8fc4785fb3164b34\n",
      "airai\n",
      "http://api.openweathermap.org/data/2.5/weather?q=airai&units=imperial&appid=aad29af8ad8465da8fc4785fb3164b34\n",
      "sao felix do xingu\n",
      "http://api.openweathermap.org/data/2.5/weather?q=sao felix do xingu&units=imperial&appid=aad29af8ad8465da8fc4785fb3164b34\n",
      "vestmannaeyjar\n",
      "http://api.openweathermap.org/data/2.5/weather?q=vestmannaeyjar&units=imperial&appid=aad29af8ad8465da8fc4785fb3164b34\n",
      "troyes\n",
      "http://api.openweathermap.org/data/2.5/weather?q=troyes&units=imperial&appid=aad29af8ad8465da8fc4785fb3164b34\n",
      "wai\n",
      "http://api.openweathermap.org/data/2.5/weather?q=wai&units=imperial&appid=aad29af8ad8465da8fc4785fb3164b34\n",
      "saskylakh\n",
      "http://api.openweathermap.org/data/2.5/weather?q=saskylakh&units=imperial&appid=aad29af8ad8465da8fc4785fb3164b34\n",
      "porto novo\n",
      "http://api.openweathermap.org/data/2.5/weather?q=porto novo&units=imperial&appid=aad29af8ad8465da8fc4785fb3164b34\n",
      "carnarvon\n",
      "http://api.openweathermap.org/data/2.5/weather?q=carnarvon&units=imperial&appid=aad29af8ad8465da8fc4785fb3164b34\n",
      "dudinka\n",
      "http://api.openweathermap.org/data/2.5/weather?q=dudinka&units=imperial&appid=aad29af8ad8465da8fc4785fb3164b34\n",
      "guia de isora\n",
      "http://api.openweathermap.org/data/2.5/weather?q=guia de isora&units=imperial&appid=aad29af8ad8465da8fc4785fb3164b34\n",
      "lorengau\n",
      "http://api.openweathermap.org/data/2.5/weather?q=lorengau&units=imperial&appid=aad29af8ad8465da8fc4785fb3164b34\n",
      "buchanan\n",
      "http://api.openweathermap.org/data/2.5/weather?q=buchanan&units=imperial&appid=aad29af8ad8465da8fc4785fb3164b34\n",
      "arroyo\n",
      "http://api.openweathermap.org/data/2.5/weather?q=arroyo&units=imperial&appid=aad29af8ad8465da8fc4785fb3164b34\n",
      "nikolskoye\n",
      "http://api.openweathermap.org/data/2.5/weather?q=nikolskoye&units=imperial&appid=aad29af8ad8465da8fc4785fb3164b34\n",
      "hobyo\n",
      "http://api.openweathermap.org/data/2.5/weather?q=hobyo&units=imperial&appid=aad29af8ad8465da8fc4785fb3164b34\n",
      "pacific grove\n",
      "http://api.openweathermap.org/data/2.5/weather?q=pacific grove&units=imperial&appid=aad29af8ad8465da8fc4785fb3164b34\n",
      "robat karim\n",
      "http://api.openweathermap.org/data/2.5/weather?q=robat karim&units=imperial&appid=aad29af8ad8465da8fc4785fb3164b34\n",
      "kushima\n",
      "http://api.openweathermap.org/data/2.5/weather?q=kushima&units=imperial&appid=aad29af8ad8465da8fc4785fb3164b34\n",
      "puerto leguizamo\n",
      "http://api.openweathermap.org/data/2.5/weather?q=puerto leguizamo&units=imperial&appid=aad29af8ad8465da8fc4785fb3164b34\n",
      "georgetown\n",
      "http://api.openweathermap.org/data/2.5/weather?q=georgetown&units=imperial&appid=aad29af8ad8465da8fc4785fb3164b34\n",
      "batagay-alyta\n",
      "http://api.openweathermap.org/data/2.5/weather?q=batagay-alyta&units=imperial&appid=aad29af8ad8465da8fc4785fb3164b34\n",
      "dubbo\n",
      "http://api.openweathermap.org/data/2.5/weather?q=dubbo&units=imperial&appid=aad29af8ad8465da8fc4785fb3164b34\n",
      "ust-nera\n",
      "http://api.openweathermap.org/data/2.5/weather?q=ust-nera&units=imperial&appid=aad29af8ad8465da8fc4785fb3164b34\n",
      "richards bay\n",
      "http://api.openweathermap.org/data/2.5/weather?q=richards bay&units=imperial&appid=aad29af8ad8465da8fc4785fb3164b34\n",
      "bayji\n",
      "http://api.openweathermap.org/data/2.5/weather?q=bayji&units=imperial&appid=aad29af8ad8465da8fc4785fb3164b34\n",
      "tianpeng\n",
      "http://api.openweathermap.org/data/2.5/weather?q=tianpeng&units=imperial&appid=aad29af8ad8465da8fc4785fb3164b34\n",
      "labuan\n",
      "http://api.openweathermap.org/data/2.5/weather?q=labuan&units=imperial&appid=aad29af8ad8465da8fc4785fb3164b34\n",
      "ilinsko-podomskoye\n",
      "http://api.openweathermap.org/data/2.5/weather?q=ilinsko-podomskoye&units=imperial&appid=aad29af8ad8465da8fc4785fb3164b34\n",
      "kavaratti\n",
      "http://api.openweathermap.org/data/2.5/weather?q=kavaratti&units=imperial&appid=aad29af8ad8465da8fc4785fb3164b34\n",
      "talnakh\n",
      "http://api.openweathermap.org/data/2.5/weather?q=talnakh&units=imperial&appid=aad29af8ad8465da8fc4785fb3164b34\n",
      "tuktoyaktuk\n",
      "http://api.openweathermap.org/data/2.5/weather?q=tuktoyaktuk&units=imperial&appid=aad29af8ad8465da8fc4785fb3164b34\n",
      "saldanha\n",
      "http://api.openweathermap.org/data/2.5/weather?q=saldanha&units=imperial&appid=aad29af8ad8465da8fc4785fb3164b34\n"
     ]
    },
    {
     "name": "stdout",
     "output_type": "stream",
     "text": [
      "yellowknife\n",
      "http://api.openweathermap.org/data/2.5/weather?q=yellowknife&units=imperial&appid=aad29af8ad8465da8fc4785fb3164b34\n",
      "tecolutla\n",
      "http://api.openweathermap.org/data/2.5/weather?q=tecolutla&units=imperial&appid=aad29af8ad8465da8fc4785fb3164b34\n",
      "nizhneyansk\n",
      "http://api.openweathermap.org/data/2.5/weather?q=nizhneyansk&units=imperial&appid=aad29af8ad8465da8fc4785fb3164b34\n",
      "parkes\n",
      "http://api.openweathermap.org/data/2.5/weather?q=parkes&units=imperial&appid=aad29af8ad8465da8fc4785fb3164b34\n",
      "ahipara\n",
      "http://api.openweathermap.org/data/2.5/weather?q=ahipara&units=imperial&appid=aad29af8ad8465da8fc4785fb3164b34\n",
      "abu kamal\n",
      "http://api.openweathermap.org/data/2.5/weather?q=abu kamal&units=imperial&appid=aad29af8ad8465da8fc4785fb3164b34\n",
      "belushya guba\n",
      "http://api.openweathermap.org/data/2.5/weather?q=belushya guba&units=imperial&appid=aad29af8ad8465da8fc4785fb3164b34\n",
      "mount isa\n",
      "http://api.openweathermap.org/data/2.5/weather?q=mount isa&units=imperial&appid=aad29af8ad8465da8fc4785fb3164b34\n",
      "mafra\n",
      "http://api.openweathermap.org/data/2.5/weather?q=mafra&units=imperial&appid=aad29af8ad8465da8fc4785fb3164b34\n",
      "berlevag\n",
      "http://api.openweathermap.org/data/2.5/weather?q=berlevag&units=imperial&appid=aad29af8ad8465da8fc4785fb3164b34\n",
      "san jose\n",
      "http://api.openweathermap.org/data/2.5/weather?q=san jose&units=imperial&appid=aad29af8ad8465da8fc4785fb3164b34\n",
      "paita\n",
      "http://api.openweathermap.org/data/2.5/weather?q=paita&units=imperial&appid=aad29af8ad8465da8fc4785fb3164b34\n",
      "rawson\n",
      "http://api.openweathermap.org/data/2.5/weather?q=rawson&units=imperial&appid=aad29af8ad8465da8fc4785fb3164b34\n",
      "bagotville\n",
      "http://api.openweathermap.org/data/2.5/weather?q=bagotville&units=imperial&appid=aad29af8ad8465da8fc4785fb3164b34\n",
      "takapau\n",
      "http://api.openweathermap.org/data/2.5/weather?q=takapau&units=imperial&appid=aad29af8ad8465da8fc4785fb3164b34\n",
      "ardakan\n",
      "http://api.openweathermap.org/data/2.5/weather?q=ardakan&units=imperial&appid=aad29af8ad8465da8fc4785fb3164b34\n",
      "souillac\n",
      "http://api.openweathermap.org/data/2.5/weather?q=souillac&units=imperial&appid=aad29af8ad8465da8fc4785fb3164b34\n",
      "havoysund\n",
      "http://api.openweathermap.org/data/2.5/weather?q=havoysund&units=imperial&appid=aad29af8ad8465da8fc4785fb3164b34\n",
      "port lincoln\n",
      "http://api.openweathermap.org/data/2.5/weather?q=port lincoln&units=imperial&appid=aad29af8ad8465da8fc4785fb3164b34\n",
      "tuatapere\n",
      "http://api.openweathermap.org/data/2.5/weather?q=tuatapere&units=imperial&appid=aad29af8ad8465da8fc4785fb3164b34\n",
      "mount gambier\n",
      "http://api.openweathermap.org/data/2.5/weather?q=mount gambier&units=imperial&appid=aad29af8ad8465da8fc4785fb3164b34\n",
      "sharjah\n",
      "http://api.openweathermap.org/data/2.5/weather?q=sharjah&units=imperial&appid=aad29af8ad8465da8fc4785fb3164b34\n",
      "shingu\n",
      "http://api.openweathermap.org/data/2.5/weather?q=shingu&units=imperial&appid=aad29af8ad8465da8fc4785fb3164b34\n",
      "karratha\n",
      "http://api.openweathermap.org/data/2.5/weather?q=karratha&units=imperial&appid=aad29af8ad8465da8fc4785fb3164b34\n",
      "beira\n",
      "http://api.openweathermap.org/data/2.5/weather?q=beira&units=imperial&appid=aad29af8ad8465da8fc4785fb3164b34\n",
      "murakami\n",
      "http://api.openweathermap.org/data/2.5/weather?q=murakami&units=imperial&appid=aad29af8ad8465da8fc4785fb3164b34\n",
      "sao gotardo\n",
      "http://api.openweathermap.org/data/2.5/weather?q=sao gotardo&units=imperial&appid=aad29af8ad8465da8fc4785fb3164b34\n",
      "sakakah\n",
      "http://api.openweathermap.org/data/2.5/weather?q=sakakah&units=imperial&appid=aad29af8ad8465da8fc4785fb3164b34\n",
      "alice springs\n",
      "http://api.openweathermap.org/data/2.5/weather?q=alice springs&units=imperial&appid=aad29af8ad8465da8fc4785fb3164b34\n",
      "taltal\n",
      "http://api.openweathermap.org/data/2.5/weather?q=taltal&units=imperial&appid=aad29af8ad8465da8fc4785fb3164b34\n",
      "hualmay\n",
      "http://api.openweathermap.org/data/2.5/weather?q=hualmay&units=imperial&appid=aad29af8ad8465da8fc4785fb3164b34\n",
      "mecca\n",
      "http://api.openweathermap.org/data/2.5/weather?q=mecca&units=imperial&appid=aad29af8ad8465da8fc4785fb3164b34\n",
      "khandyga\n",
      "http://api.openweathermap.org/data/2.5/weather?q=khandyga&units=imperial&appid=aad29af8ad8465da8fc4785fb3164b34\n",
      "talcahuano\n",
      "http://api.openweathermap.org/data/2.5/weather?q=talcahuano&units=imperial&appid=aad29af8ad8465da8fc4785fb3164b34\n",
      "bagdarin\n",
      "http://api.openweathermap.org/data/2.5/weather?q=bagdarin&units=imperial&appid=aad29af8ad8465da8fc4785fb3164b34\n",
      "guerrero negro\n",
      "http://api.openweathermap.org/data/2.5/weather?q=guerrero negro&units=imperial&appid=aad29af8ad8465da8fc4785fb3164b34\n",
      "flin flon\n",
      "http://api.openweathermap.org/data/2.5/weather?q=flin flon&units=imperial&appid=aad29af8ad8465da8fc4785fb3164b34\n",
      "werda\n",
      "http://api.openweathermap.org/data/2.5/weather?q=werda&units=imperial&appid=aad29af8ad8465da8fc4785fb3164b34\n",
      "port elizabeth\n",
      "http://api.openweathermap.org/data/2.5/weather?q=port elizabeth&units=imperial&appid=aad29af8ad8465da8fc4785fb3164b34\n",
      "taunton\n",
      "http://api.openweathermap.org/data/2.5/weather?q=taunton&units=imperial&appid=aad29af8ad8465da8fc4785fb3164b34\n",
      "epernay\n",
      "http://api.openweathermap.org/data/2.5/weather?q=epernay&units=imperial&appid=aad29af8ad8465da8fc4785fb3164b34\n",
      "ilinskiy\n",
      "http://api.openweathermap.org/data/2.5/weather?q=ilinskiy&units=imperial&appid=aad29af8ad8465da8fc4785fb3164b34\n",
      "san patricio\n",
      "http://api.openweathermap.org/data/2.5/weather?q=san patricio&units=imperial&appid=aad29af8ad8465da8fc4785fb3164b34\n",
      "bacolod\n",
      "http://api.openweathermap.org/data/2.5/weather?q=bacolod&units=imperial&appid=aad29af8ad8465da8fc4785fb3164b34\n",
      "valdivia\n",
      "http://api.openweathermap.org/data/2.5/weather?q=valdivia&units=imperial&appid=aad29af8ad8465da8fc4785fb3164b34\n",
      "conde\n",
      "http://api.openweathermap.org/data/2.5/weather?q=conde&units=imperial&appid=aad29af8ad8465da8fc4785fb3164b34\n",
      "ilulissat\n",
      "http://api.openweathermap.org/data/2.5/weather?q=ilulissat&units=imperial&appid=aad29af8ad8465da8fc4785fb3164b34\n",
      "ewa beach\n",
      "http://api.openweathermap.org/data/2.5/weather?q=ewa beach&units=imperial&appid=aad29af8ad8465da8fc4785fb3164b34\n",
      "komsomolskiy\n",
      "http://api.openweathermap.org/data/2.5/weather?q=komsomolskiy&units=imperial&appid=aad29af8ad8465da8fc4785fb3164b34\n",
      "lafayette\n",
      "http://api.openweathermap.org/data/2.5/weather?q=lafayette&units=imperial&appid=aad29af8ad8465da8fc4785fb3164b34\n",
      "yen bai\n",
      "http://api.openweathermap.org/data/2.5/weather?q=yen bai&units=imperial&appid=aad29af8ad8465da8fc4785fb3164b34\n",
      "kaukauna\n",
      "http://api.openweathermap.org/data/2.5/weather?q=kaukauna&units=imperial&appid=aad29af8ad8465da8fc4785fb3164b34\n",
      "tabou\n",
      "http://api.openweathermap.org/data/2.5/weather?q=tabou&units=imperial&appid=aad29af8ad8465da8fc4785fb3164b34\n",
      "sisimiut\n",
      "http://api.openweathermap.org/data/2.5/weather?q=sisimiut&units=imperial&appid=aad29af8ad8465da8fc4785fb3164b34\n",
      "klaksvik\n",
      "http://api.openweathermap.org/data/2.5/weather?q=klaksvik&units=imperial&appid=aad29af8ad8465da8fc4785fb3164b34\n",
      "santo angelo\n",
      "http://api.openweathermap.org/data/2.5/weather?q=santo angelo&units=imperial&appid=aad29af8ad8465da8fc4785fb3164b34\n",
      "mys shmidta\n",
      "http://api.openweathermap.org/data/2.5/weather?q=mys shmidta&units=imperial&appid=aad29af8ad8465da8fc4785fb3164b34\n",
      "fernie\n",
      "http://api.openweathermap.org/data/2.5/weather?q=fernie&units=imperial&appid=aad29af8ad8465da8fc4785fb3164b34\n",
      "cherskiy\n",
      "http://api.openweathermap.org/data/2.5/weather?q=cherskiy&units=imperial&appid=aad29af8ad8465da8fc4785fb3164b34\n",
      "burica\n",
      "http://api.openweathermap.org/data/2.5/weather?q=burica&units=imperial&appid=aad29af8ad8465da8fc4785fb3164b34\n",
      "chokurdakh\n",
      "http://api.openweathermap.org/data/2.5/weather?q=chokurdakh&units=imperial&appid=aad29af8ad8465da8fc4785fb3164b34\n",
      "vitim\n",
      "http://api.openweathermap.org/data/2.5/weather?q=vitim&units=imperial&appid=aad29af8ad8465da8fc4785fb3164b34\n",
      "tripoli\n",
      "http://api.openweathermap.org/data/2.5/weather?q=tripoli&units=imperial&appid=aad29af8ad8465da8fc4785fb3164b34\n",
      "bethanien\n",
      "http://api.openweathermap.org/data/2.5/weather?q=bethanien&units=imperial&appid=aad29af8ad8465da8fc4785fb3164b34\n",
      "ilhabela\n",
      "http://api.openweathermap.org/data/2.5/weather?q=ilhabela&units=imperial&appid=aad29af8ad8465da8fc4785fb3164b34\n",
      "klyuchi\n",
      "http://api.openweathermap.org/data/2.5/weather?q=klyuchi&units=imperial&appid=aad29af8ad8465da8fc4785fb3164b34\n",
      "nguiu\n",
      "http://api.openweathermap.org/data/2.5/weather?q=nguiu&units=imperial&appid=aad29af8ad8465da8fc4785fb3164b34\n",
      "caninde\n",
      "http://api.openweathermap.org/data/2.5/weather?q=caninde&units=imperial&appid=aad29af8ad8465da8fc4785fb3164b34\n"
     ]
    },
    {
     "name": "stdout",
     "output_type": "stream",
     "text": [
      "nushki\n",
      "http://api.openweathermap.org/data/2.5/weather?q=nushki&units=imperial&appid=aad29af8ad8465da8fc4785fb3164b34\n",
      "trairi\n",
      "http://api.openweathermap.org/data/2.5/weather?q=trairi&units=imperial&appid=aad29af8ad8465da8fc4785fb3164b34\n",
      "nouadhibou\n",
      "http://api.openweathermap.org/data/2.5/weather?q=nouadhibou&units=imperial&appid=aad29af8ad8465da8fc4785fb3164b34\n",
      "kasane\n",
      "http://api.openweathermap.org/data/2.5/weather?q=kasane&units=imperial&appid=aad29af8ad8465da8fc4785fb3164b34\n",
      "usinsk\n",
      "http://api.openweathermap.org/data/2.5/weather?q=usinsk&units=imperial&appid=aad29af8ad8465da8fc4785fb3164b34\n",
      "menongue\n",
      "http://api.openweathermap.org/data/2.5/weather?q=menongue&units=imperial&appid=aad29af8ad8465da8fc4785fb3164b34\n",
      "brownwood\n",
      "http://api.openweathermap.org/data/2.5/weather?q=brownwood&units=imperial&appid=aad29af8ad8465da8fc4785fb3164b34\n",
      "lasa\n",
      "http://api.openweathermap.org/data/2.5/weather?q=lasa&units=imperial&appid=aad29af8ad8465da8fc4785fb3164b34\n",
      "erenhot\n",
      "http://api.openweathermap.org/data/2.5/weather?q=erenhot&units=imperial&appid=aad29af8ad8465da8fc4785fb3164b34\n",
      "skeldon\n",
      "http://api.openweathermap.org/data/2.5/weather?q=skeldon&units=imperial&appid=aad29af8ad8465da8fc4785fb3164b34\n",
      "dong hoi\n",
      "http://api.openweathermap.org/data/2.5/weather?q=dong hoi&units=imperial&appid=aad29af8ad8465da8fc4785fb3164b34\n",
      "asfi\n",
      "http://api.openweathermap.org/data/2.5/weather?q=asfi&units=imperial&appid=aad29af8ad8465da8fc4785fb3164b34\n",
      "vredendal\n",
      "http://api.openweathermap.org/data/2.5/weather?q=vredendal&units=imperial&appid=aad29af8ad8465da8fc4785fb3164b34\n",
      "celestun\n",
      "http://api.openweathermap.org/data/2.5/weather?q=celestun&units=imperial&appid=aad29af8ad8465da8fc4785fb3164b34\n",
      "venado\n",
      "http://api.openweathermap.org/data/2.5/weather?q=venado&units=imperial&appid=aad29af8ad8465da8fc4785fb3164b34\n",
      "bathsheba\n",
      "http://api.openweathermap.org/data/2.5/weather?q=bathsheba&units=imperial&appid=aad29af8ad8465da8fc4785fb3164b34\n",
      "lompoc\n",
      "http://api.openweathermap.org/data/2.5/weather?q=lompoc&units=imperial&appid=aad29af8ad8465da8fc4785fb3164b34\n",
      "voru\n",
      "http://api.openweathermap.org/data/2.5/weather?q=voru&units=imperial&appid=aad29af8ad8465da8fc4785fb3164b34\n",
      "teya\n",
      "http://api.openweathermap.org/data/2.5/weather?q=teya&units=imperial&appid=aad29af8ad8465da8fc4785fb3164b34\n",
      "sheridan\n",
      "http://api.openweathermap.org/data/2.5/weather?q=sheridan&units=imperial&appid=aad29af8ad8465da8fc4785fb3164b34\n",
      "eufaula\n",
      "http://api.openweathermap.org/data/2.5/weather?q=eufaula&units=imperial&appid=aad29af8ad8465da8fc4785fb3164b34\n",
      "mahadday weyne\n",
      "http://api.openweathermap.org/data/2.5/weather?q=mahadday weyne&units=imperial&appid=aad29af8ad8465da8fc4785fb3164b34\n",
      "atar\n",
      "http://api.openweathermap.org/data/2.5/weather?q=atar&units=imperial&appid=aad29af8ad8465da8fc4785fb3164b34\n",
      "gazojak\n",
      "http://api.openweathermap.org/data/2.5/weather?q=gazojak&units=imperial&appid=aad29af8ad8465da8fc4785fb3164b34\n",
      "lata\n",
      "http://api.openweathermap.org/data/2.5/weather?q=lata&units=imperial&appid=aad29af8ad8465da8fc4785fb3164b34\n",
      "egvekinot\n",
      "http://api.openweathermap.org/data/2.5/weather?q=egvekinot&units=imperial&appid=aad29af8ad8465da8fc4785fb3164b34\n",
      "januaria\n",
      "http://api.openweathermap.org/data/2.5/weather?q=januaria&units=imperial&appid=aad29af8ad8465da8fc4785fb3164b34\n",
      "apucarana\n",
      "http://api.openweathermap.org/data/2.5/weather?q=apucarana&units=imperial&appid=aad29af8ad8465da8fc4785fb3164b34\n",
      "chumikan\n",
      "http://api.openweathermap.org/data/2.5/weather?q=chumikan&units=imperial&appid=aad29af8ad8465da8fc4785fb3164b34\n",
      "veraval\n",
      "http://api.openweathermap.org/data/2.5/weather?q=veraval&units=imperial&appid=aad29af8ad8465da8fc4785fb3164b34\n",
      "urusha\n",
      "http://api.openweathermap.org/data/2.5/weather?q=urusha&units=imperial&appid=aad29af8ad8465da8fc4785fb3164b34\n",
      "hithadhoo\n",
      "http://api.openweathermap.org/data/2.5/weather?q=hithadhoo&units=imperial&appid=aad29af8ad8465da8fc4785fb3164b34\n",
      "zacoalco\n",
      "http://api.openweathermap.org/data/2.5/weather?q=zacoalco&units=imperial&appid=aad29af8ad8465da8fc4785fb3164b34\n",
      "tucuman\n",
      "http://api.openweathermap.org/data/2.5/weather?q=tucuman&units=imperial&appid=aad29af8ad8465da8fc4785fb3164b34\n",
      "gornopravdinsk\n",
      "http://api.openweathermap.org/data/2.5/weather?q=gornopravdinsk&units=imperial&appid=aad29af8ad8465da8fc4785fb3164b34\n",
      "labuhan\n",
      "http://api.openweathermap.org/data/2.5/weather?q=labuhan&units=imperial&appid=aad29af8ad8465da8fc4785fb3164b34\n",
      "qasigiannguit\n",
      "http://api.openweathermap.org/data/2.5/weather?q=qasigiannguit&units=imperial&appid=aad29af8ad8465da8fc4785fb3164b34\n",
      "jertih\n",
      "http://api.openweathermap.org/data/2.5/weather?q=jertih&units=imperial&appid=aad29af8ad8465da8fc4785fb3164b34\n",
      "ankpa\n",
      "http://api.openweathermap.org/data/2.5/weather?q=ankpa&units=imperial&appid=aad29af8ad8465da8fc4785fb3164b34\n",
      "izhma\n",
      "http://api.openweathermap.org/data/2.5/weather?q=izhma&units=imperial&appid=aad29af8ad8465da8fc4785fb3164b34\n",
      "alto araguaia\n",
      "http://api.openweathermap.org/data/2.5/weather?q=alto araguaia&units=imperial&appid=aad29af8ad8465da8fc4785fb3164b34\n",
      "fairbanks\n",
      "http://api.openweathermap.org/data/2.5/weather?q=fairbanks&units=imperial&appid=aad29af8ad8465da8fc4785fb3164b34\n",
      "marsh harbour\n",
      "http://api.openweathermap.org/data/2.5/weather?q=marsh harbour&units=imperial&appid=aad29af8ad8465da8fc4785fb3164b34\n"
     ]
    },
    {
     "ename": "ValueError",
     "evalue": "arrays must all be same length",
     "output_type": "error",
     "traceback": [
      "\u001b[1;31m---------------------------------------------------------------------------\u001b[0m",
      "\u001b[1;31mValueError\u001b[0m                                Traceback (most recent call last)",
      "\u001b[1;32m<ipython-input-138-9d083fc6d4b4>\u001b[0m in \u001b[0;36m<module>\u001b[1;34m\u001b[0m\n\u001b[0;32m     50\u001b[0m \u001b[1;33m\u001b[0m\u001b[0m\n\u001b[0;32m     51\u001b[0m \u001b[1;33m\u001b[0m\u001b[0m\n\u001b[1;32m---> 52\u001b[1;33m \u001b[0mcity2_df\u001b[0m \u001b[1;33m=\u001b[0m \u001b[0mpd\u001b[0m\u001b[1;33m.\u001b[0m\u001b[0mDataFrame\u001b[0m\u001b[1;33m(\u001b[0m\u001b[0mcity_loc_df\u001b[0m\u001b[1;33m)\u001b[0m\u001b[1;33m\u001b[0m\u001b[1;33m\u001b[0m\u001b[0m\n\u001b[0m\u001b[0;32m     53\u001b[0m \u001b[0mcity2_df\u001b[0m\u001b[1;33m.\u001b[0m\u001b[0mhead\u001b[0m\u001b[1;33m(\u001b[0m\u001b[1;33m)\u001b[0m\u001b[1;33m\u001b[0m\u001b[1;33m\u001b[0m\u001b[0m\n",
      "\u001b[1;32m~\\anaconda3\\envs\\PythonData\\lib\\site-packages\\pandas\\core\\frame.py\u001b[0m in \u001b[0;36m__init__\u001b[1;34m(self, data, index, columns, dtype, copy)\u001b[0m\n\u001b[0;32m    466\u001b[0m \u001b[1;33m\u001b[0m\u001b[0m\n\u001b[0;32m    467\u001b[0m         \u001b[1;32melif\u001b[0m \u001b[0misinstance\u001b[0m\u001b[1;33m(\u001b[0m\u001b[0mdata\u001b[0m\u001b[1;33m,\u001b[0m \u001b[0mdict\u001b[0m\u001b[1;33m)\u001b[0m\u001b[1;33m:\u001b[0m\u001b[1;33m\u001b[0m\u001b[1;33m\u001b[0m\u001b[0m\n\u001b[1;32m--> 468\u001b[1;33m             \u001b[0mmgr\u001b[0m \u001b[1;33m=\u001b[0m \u001b[0minit_dict\u001b[0m\u001b[1;33m(\u001b[0m\u001b[0mdata\u001b[0m\u001b[1;33m,\u001b[0m \u001b[0mindex\u001b[0m\u001b[1;33m,\u001b[0m \u001b[0mcolumns\u001b[0m\u001b[1;33m,\u001b[0m \u001b[0mdtype\u001b[0m\u001b[1;33m=\u001b[0m\u001b[0mdtype\u001b[0m\u001b[1;33m)\u001b[0m\u001b[1;33m\u001b[0m\u001b[1;33m\u001b[0m\u001b[0m\n\u001b[0m\u001b[0;32m    469\u001b[0m         \u001b[1;32melif\u001b[0m \u001b[0misinstance\u001b[0m\u001b[1;33m(\u001b[0m\u001b[0mdata\u001b[0m\u001b[1;33m,\u001b[0m \u001b[0mma\u001b[0m\u001b[1;33m.\u001b[0m\u001b[0mMaskedArray\u001b[0m\u001b[1;33m)\u001b[0m\u001b[1;33m:\u001b[0m\u001b[1;33m\u001b[0m\u001b[1;33m\u001b[0m\u001b[0m\n\u001b[0;32m    470\u001b[0m             \u001b[1;32mimport\u001b[0m \u001b[0mnumpy\u001b[0m\u001b[1;33m.\u001b[0m\u001b[0mma\u001b[0m\u001b[1;33m.\u001b[0m\u001b[0mmrecords\u001b[0m \u001b[1;32mas\u001b[0m \u001b[0mmrecords\u001b[0m\u001b[1;33m\u001b[0m\u001b[1;33m\u001b[0m\u001b[0m\n",
      "\u001b[1;32m~\\anaconda3\\envs\\PythonData\\lib\\site-packages\\pandas\\core\\internals\\construction.py\u001b[0m in \u001b[0;36minit_dict\u001b[1;34m(data, index, columns, dtype)\u001b[0m\n\u001b[0;32m    281\u001b[0m             \u001b[0marr\u001b[0m \u001b[1;32mif\u001b[0m \u001b[1;32mnot\u001b[0m \u001b[0mis_datetime64tz_dtype\u001b[0m\u001b[1;33m(\u001b[0m\u001b[0marr\u001b[0m\u001b[1;33m)\u001b[0m \u001b[1;32melse\u001b[0m \u001b[0marr\u001b[0m\u001b[1;33m.\u001b[0m\u001b[0mcopy\u001b[0m\u001b[1;33m(\u001b[0m\u001b[1;33m)\u001b[0m \u001b[1;32mfor\u001b[0m \u001b[0marr\u001b[0m \u001b[1;32min\u001b[0m \u001b[0marrays\u001b[0m\u001b[1;33m\u001b[0m\u001b[1;33m\u001b[0m\u001b[0m\n\u001b[0;32m    282\u001b[0m         ]\n\u001b[1;32m--> 283\u001b[1;33m     \u001b[1;32mreturn\u001b[0m \u001b[0marrays_to_mgr\u001b[0m\u001b[1;33m(\u001b[0m\u001b[0marrays\u001b[0m\u001b[1;33m,\u001b[0m \u001b[0mdata_names\u001b[0m\u001b[1;33m,\u001b[0m \u001b[0mindex\u001b[0m\u001b[1;33m,\u001b[0m \u001b[0mcolumns\u001b[0m\u001b[1;33m,\u001b[0m \u001b[0mdtype\u001b[0m\u001b[1;33m=\u001b[0m\u001b[0mdtype\u001b[0m\u001b[1;33m)\u001b[0m\u001b[1;33m\u001b[0m\u001b[1;33m\u001b[0m\u001b[0m\n\u001b[0m\u001b[0;32m    284\u001b[0m \u001b[1;33m\u001b[0m\u001b[0m\n\u001b[0;32m    285\u001b[0m \u001b[1;33m\u001b[0m\u001b[0m\n",
      "\u001b[1;32m~\\anaconda3\\envs\\PythonData\\lib\\site-packages\\pandas\\core\\internals\\construction.py\u001b[0m in \u001b[0;36marrays_to_mgr\u001b[1;34m(arrays, arr_names, index, columns, dtype, verify_integrity)\u001b[0m\n\u001b[0;32m     76\u001b[0m         \u001b[1;31m# figure out the index, if necessary\u001b[0m\u001b[1;33m\u001b[0m\u001b[1;33m\u001b[0m\u001b[1;33m\u001b[0m\u001b[0m\n\u001b[0;32m     77\u001b[0m         \u001b[1;32mif\u001b[0m \u001b[0mindex\u001b[0m \u001b[1;32mis\u001b[0m \u001b[1;32mNone\u001b[0m\u001b[1;33m:\u001b[0m\u001b[1;33m\u001b[0m\u001b[1;33m\u001b[0m\u001b[0m\n\u001b[1;32m---> 78\u001b[1;33m             \u001b[0mindex\u001b[0m \u001b[1;33m=\u001b[0m \u001b[0mextract_index\u001b[0m\u001b[1;33m(\u001b[0m\u001b[0marrays\u001b[0m\u001b[1;33m)\u001b[0m\u001b[1;33m\u001b[0m\u001b[1;33m\u001b[0m\u001b[0m\n\u001b[0m\u001b[0;32m     79\u001b[0m         \u001b[1;32melse\u001b[0m\u001b[1;33m:\u001b[0m\u001b[1;33m\u001b[0m\u001b[1;33m\u001b[0m\u001b[0m\n\u001b[0;32m     80\u001b[0m             \u001b[0mindex\u001b[0m \u001b[1;33m=\u001b[0m \u001b[0mensure_index\u001b[0m\u001b[1;33m(\u001b[0m\u001b[0mindex\u001b[0m\u001b[1;33m)\u001b[0m\u001b[1;33m\u001b[0m\u001b[1;33m\u001b[0m\u001b[0m\n",
      "\u001b[1;32m~\\anaconda3\\envs\\PythonData\\lib\\site-packages\\pandas\\core\\internals\\construction.py\u001b[0m in \u001b[0;36mextract_index\u001b[1;34m(data)\u001b[0m\n\u001b[0;32m    395\u001b[0m             \u001b[0mlengths\u001b[0m \u001b[1;33m=\u001b[0m \u001b[0mlist\u001b[0m\u001b[1;33m(\u001b[0m\u001b[0mset\u001b[0m\u001b[1;33m(\u001b[0m\u001b[0mraw_lengths\u001b[0m\u001b[1;33m)\u001b[0m\u001b[1;33m)\u001b[0m\u001b[1;33m\u001b[0m\u001b[1;33m\u001b[0m\u001b[0m\n\u001b[0;32m    396\u001b[0m             \u001b[1;32mif\u001b[0m \u001b[0mlen\u001b[0m\u001b[1;33m(\u001b[0m\u001b[0mlengths\u001b[0m\u001b[1;33m)\u001b[0m \u001b[1;33m>\u001b[0m \u001b[1;36m1\u001b[0m\u001b[1;33m:\u001b[0m\u001b[1;33m\u001b[0m\u001b[1;33m\u001b[0m\u001b[0m\n\u001b[1;32m--> 397\u001b[1;33m                 \u001b[1;32mraise\u001b[0m \u001b[0mValueError\u001b[0m\u001b[1;33m(\u001b[0m\u001b[1;34m\"arrays must all be same length\"\u001b[0m\u001b[1;33m)\u001b[0m\u001b[1;33m\u001b[0m\u001b[1;33m\u001b[0m\u001b[0m\n\u001b[0m\u001b[0;32m    398\u001b[0m \u001b[1;33m\u001b[0m\u001b[0m\n\u001b[0;32m    399\u001b[0m             \u001b[1;32mif\u001b[0m \u001b[0mhave_dicts\u001b[0m\u001b[1;33m:\u001b[0m\u001b[1;33m\u001b[0m\u001b[1;33m\u001b[0m\u001b[0m\n",
      "\u001b[1;31mValueError\u001b[0m: arrays must all be same length"
     ]
    }
   ],
   "source": [
    "#take city data and use Google API to find city data\n",
    "\n",
    "#url basic point  api.openweathermap.org/data/2.5/weather?q={city name}&appid={API key}\n",
    "url = f'api.openweathermap.org/data/2.5/weather?q='\n",
    "key = api_key\n",
    "\n",
    "max_temp =[]\n",
    "humidity = []\n",
    "cloudiness = []\n",
    "wind_speed = []\n",
    "date_rec = []\n",
    "real_lat = []\n",
    "real_long = []\n",
    "\n",
    "for row in range(len(city_df)):\n",
    "   \n",
    "    city_qname =  city_df['Name'][row] \n",
    "    print(city_qname)\n",
    "    query_url = f'http://{url}{city_qname}&units=imperial&appid={key}'\n",
    "    print(query_url)\n",
    "    try:\n",
    "        data = requests.get(query_url).json()\n",
    "        #print(f'Successful request {row}: for city {city_qname}')\n",
    "        #print(city_name[row], max_temp, humidity, cloudiness, wind_speed)\n",
    "        #pprint(data)\n",
    "        max_temp.append(float(data['main']['temp_max']))\n",
    "        humidity.append(float(data['main']['humidity']))\n",
    "        cloudiness.append(float(data['clouds']['all']))\n",
    "        wind_speed.append(float(data['wind']['speed']))\n",
    "        real_lat.append(float(data['coord']['lat']))\n",
    "        real_long.append(float(data['coord']['lon']))\n",
    "        date_rec.append(int(data['dt']))\n",
    "    except: \n",
    "        #print(f'Unsuccessful request {row}: for city {city_qname}')\n",
    "        max_temp.append(\"NA\")\n",
    "        humidity.append(\"NA\")\n",
    "        cloudiness.append(\"NA\")\n",
    "        wind_speed.append(\"NA\")\n",
    "        real_lat.append(\"NA\")\n",
    "        real_long.append(\"NA\")\n",
    "        date_rec.append(\"NA\")\n",
    "        \n",
    "city_loc_df['Max temp'] = max_temp\n",
    "city_loc_df['Humidity'] = humidity        \n",
    "city_loc_df['Cloudiness'] = cloudiness    \n",
    "city_loc_df['Wind Speed'] = wind_speed \n",
    "city_loc_df['Real Lat'] = real_lat \n",
    "city_loc_df['Real Long'] = real_long\n",
    "city_loc_df['Date Rec'] = date_rec  \n",
    "\n",
    "\n",
    "city2_df = pd.DataFrame(city_loc_df)\n",
    "city2_df.head()"
   ]
  },
  {
   "cell_type": "code",
   "execution_count": 139,
   "metadata": {},
   "outputs": [
    {
     "name": "stdout",
     "output_type": "stream",
     "text": [
      "600\n"
     ]
    }
   ],
   "source": [
    "# reorder the columns\n",
    "city2_df = city2_df[['Name','Country', 'lat', 'long', 'Real Lat', 'Real Long', 'Max temp', 'Humidity', 'Cloudiness', 'Wind Speed', 'Date Rec']]\n",
    "\n",
    "print(len(city2_df))\n"
   ]
  },
  {
   "cell_type": "markdown",
   "metadata": {},
   "source": [
    "### Convert Raw Data to DataFrame\n",
    "* Export the city data into a .csv.\n",
    "* Display the DataFrame"
   ]
  },
  {
   "cell_type": "code",
   "execution_count": 140,
   "metadata": {},
   "outputs": [
    {
     "data": {
      "text/plain": [
       "559"
      ]
     },
     "execution_count": 140,
     "metadata": {},
     "output_type": "execute_result"
    }
   ],
   "source": [
    "# Clean table - drop NA, duplicate cities\n",
    "\n",
    "city2_df.dropna(how='any',inplace=True)\n",
    "city2_df.drop_duplicates()\n",
    "\n",
    "len(city2_df)\n"
   ]
  },
  {
   "cell_type": "code",
   "execution_count": 141,
   "metadata": {},
   "outputs": [
    {
     "data": {
      "text/html": [
       "<div>\n",
       "<style scoped>\n",
       "    .dataframe tbody tr th:only-of-type {\n",
       "        vertical-align: middle;\n",
       "    }\n",
       "\n",
       "    .dataframe tbody tr th {\n",
       "        vertical-align: top;\n",
       "    }\n",
       "\n",
       "    .dataframe thead th {\n",
       "        text-align: right;\n",
       "    }\n",
       "</style>\n",
       "<table border=\"1\" class=\"dataframe\">\n",
       "  <thead>\n",
       "    <tr style=\"text-align: right;\">\n",
       "      <th></th>\n",
       "      <th>Name</th>\n",
       "      <th>Country</th>\n",
       "      <th>lat</th>\n",
       "      <th>long</th>\n",
       "      <th>Real Lat</th>\n",
       "      <th>Real Long</th>\n",
       "      <th>Max temp</th>\n",
       "      <th>Humidity</th>\n",
       "      <th>Cloudiness</th>\n",
       "      <th>Wind Speed</th>\n",
       "      <th>Date Rec</th>\n",
       "    </tr>\n",
       "  </thead>\n",
       "  <tbody>\n",
       "    <tr>\n",
       "      <th>0</th>\n",
       "      <td>lezajsk</td>\n",
       "      <td>pl</td>\n",
       "      <td>50.36</td>\n",
       "      <td>22.28</td>\n",
       "      <td>50.26</td>\n",
       "      <td>22.42</td>\n",
       "      <td>48.20</td>\n",
       "      <td>76.0</td>\n",
       "      <td>100.0</td>\n",
       "      <td>11.41</td>\n",
       "      <td>1603043626</td>\n",
       "    </tr>\n",
       "    <tr>\n",
       "      <th>2</th>\n",
       "      <td>burla</td>\n",
       "      <td>ru</td>\n",
       "      <td>53.10</td>\n",
       "      <td>78.14</td>\n",
       "      <td>21.50</td>\n",
       "      <td>83.87</td>\n",
       "      <td>77.72</td>\n",
       "      <td>82.0</td>\n",
       "      <td>100.0</td>\n",
       "      <td>1.63</td>\n",
       "      <td>1603043626</td>\n",
       "    </tr>\n",
       "    <tr>\n",
       "      <th>3</th>\n",
       "      <td>east london</td>\n",
       "      <td>za</td>\n",
       "      <td>-72.97</td>\n",
       "      <td>50.18</td>\n",
       "      <td>-33.02</td>\n",
       "      <td>27.91</td>\n",
       "      <td>62.60</td>\n",
       "      <td>72.0</td>\n",
       "      <td>50.0</td>\n",
       "      <td>10.29</td>\n",
       "      <td>1603043626</td>\n",
       "    </tr>\n",
       "    <tr>\n",
       "      <th>4</th>\n",
       "      <td>bredasdorp</td>\n",
       "      <td>za</td>\n",
       "      <td>-72.42</td>\n",
       "      <td>22.52</td>\n",
       "      <td>-34.53</td>\n",
       "      <td>20.04</td>\n",
       "      <td>62.60</td>\n",
       "      <td>72.0</td>\n",
       "      <td>66.0</td>\n",
       "      <td>5.82</td>\n",
       "      <td>1603043626</td>\n",
       "    </tr>\n",
       "    <tr>\n",
       "      <th>5</th>\n",
       "      <td>dikson</td>\n",
       "      <td>ru</td>\n",
       "      <td>88.25</td>\n",
       "      <td>91.17</td>\n",
       "      <td>73.51</td>\n",
       "      <td>80.55</td>\n",
       "      <td>26.53</td>\n",
       "      <td>89.0</td>\n",
       "      <td>81.0</td>\n",
       "      <td>29.82</td>\n",
       "      <td>1603043626</td>\n",
       "    </tr>\n",
       "    <tr>\n",
       "      <th>...</th>\n",
       "      <td>...</td>\n",
       "      <td>...</td>\n",
       "      <td>...</td>\n",
       "      <td>...</td>\n",
       "      <td>...</td>\n",
       "      <td>...</td>\n",
       "      <td>...</td>\n",
       "      <td>...</td>\n",
       "      <td>...</td>\n",
       "      <td>...</td>\n",
       "      <td>...</td>\n",
       "    </tr>\n",
       "    <tr>\n",
       "      <th>595</th>\n",
       "      <td>bluff</td>\n",
       "      <td>nz</td>\n",
       "      <td>-74.27</td>\n",
       "      <td>153.02</td>\n",
       "      <td>-46.60</td>\n",
       "      <td>168.33</td>\n",
       "      <td>46.99</td>\n",
       "      <td>93.0</td>\n",
       "      <td>100.0</td>\n",
       "      <td>2.80</td>\n",
       "      <td>1603043626</td>\n",
       "    </tr>\n",
       "    <tr>\n",
       "      <th>596</th>\n",
       "      <td>ormoz</td>\n",
       "      <td>si</td>\n",
       "      <td>46.47</td>\n",
       "      <td>16.10</td>\n",
       "      <td>46.41</td>\n",
       "      <td>16.15</td>\n",
       "      <td>48.00</td>\n",
       "      <td>93.0</td>\n",
       "      <td>13.0</td>\n",
       "      <td>2.24</td>\n",
       "      <td>1603043669</td>\n",
       "    </tr>\n",
       "    <tr>\n",
       "      <th>597</th>\n",
       "      <td>ushuaia</td>\n",
       "      <td>ar</td>\n",
       "      <td>-58.05</td>\n",
       "      <td>-55.83</td>\n",
       "      <td>-54.80</td>\n",
       "      <td>-68.30</td>\n",
       "      <td>46.40</td>\n",
       "      <td>63.0</td>\n",
       "      <td>40.0</td>\n",
       "      <td>18.34</td>\n",
       "      <td>1603043635</td>\n",
       "    </tr>\n",
       "    <tr>\n",
       "      <th>598</th>\n",
       "      <td>pacific grove</td>\n",
       "      <td>us</td>\n",
       "      <td>27.49</td>\n",
       "      <td>-137.78</td>\n",
       "      <td>36.62</td>\n",
       "      <td>-121.92</td>\n",
       "      <td>66.20</td>\n",
       "      <td>52.0</td>\n",
       "      <td>1.0</td>\n",
       "      <td>3.36</td>\n",
       "      <td>1603043669</td>\n",
       "    </tr>\n",
       "    <tr>\n",
       "      <th>599</th>\n",
       "      <td>mahebourg</td>\n",
       "      <td>mu</td>\n",
       "      <td>-47.06</td>\n",
       "      <td>77.30</td>\n",
       "      <td>-20.41</td>\n",
       "      <td>57.70</td>\n",
       "      <td>75.20</td>\n",
       "      <td>69.0</td>\n",
       "      <td>40.0</td>\n",
       "      <td>8.05</td>\n",
       "      <td>1603043641</td>\n",
       "    </tr>\n",
       "  </tbody>\n",
       "</table>\n",
       "<p>559 rows × 11 columns</p>\n",
       "</div>"
      ],
      "text/plain": [
       "              Name Country    lat    long  Real Lat  Real Long  Max temp  \\\n",
       "0          lezajsk      pl  50.36   22.28     50.26      22.42     48.20   \n",
       "2            burla      ru  53.10   78.14     21.50      83.87     77.72   \n",
       "3      east london      za -72.97   50.18    -33.02      27.91     62.60   \n",
       "4       bredasdorp      za -72.42   22.52    -34.53      20.04     62.60   \n",
       "5           dikson      ru  88.25   91.17     73.51      80.55     26.53   \n",
       "..             ...     ...    ...     ...       ...        ...       ...   \n",
       "595          bluff      nz -74.27  153.02    -46.60     168.33     46.99   \n",
       "596          ormoz      si  46.47   16.10     46.41      16.15     48.00   \n",
       "597        ushuaia      ar -58.05  -55.83    -54.80     -68.30     46.40   \n",
       "598  pacific grove      us  27.49 -137.78     36.62    -121.92     66.20   \n",
       "599      mahebourg      mu -47.06   77.30    -20.41      57.70     75.20   \n",
       "\n",
       "     Humidity  Cloudiness  Wind Speed    Date Rec  \n",
       "0        76.0       100.0       11.41  1603043626  \n",
       "2        82.0       100.0        1.63  1603043626  \n",
       "3        72.0        50.0       10.29  1603043626  \n",
       "4        72.0        66.0        5.82  1603043626  \n",
       "5        89.0        81.0       29.82  1603043626  \n",
       "..        ...         ...         ...         ...  \n",
       "595      93.0       100.0        2.80  1603043626  \n",
       "596      93.0        13.0        2.24  1603043669  \n",
       "597      63.0        40.0       18.34  1603043635  \n",
       "598      52.0         1.0        3.36  1603043669  \n",
       "599      69.0        40.0        8.05  1603043641  \n",
       "\n",
       "[559 rows x 11 columns]"
      ]
     },
     "execution_count": 141,
     "metadata": {},
     "output_type": "execute_result"
    }
   ],
   "source": [
    "#Display dataframe\n",
    "city2_df"
   ]
  },
  {
   "cell_type": "code",
   "execution_count": 142,
   "metadata": {},
   "outputs": [
    {
     "data": {
      "text/plain": [
       "Name           object\n",
       "Country        object\n",
       "lat           float64\n",
       "long          float64\n",
       "Real Lat      float64\n",
       "Real Long     float64\n",
       "Max temp      float64\n",
       "Humidity      float64\n",
       "Cloudiness    float64\n",
       "Wind Speed    float64\n",
       "Date Rec       object\n",
       "dtype: object"
      ]
     },
     "execution_count": 142,
     "metadata": {},
     "output_type": "execute_result"
    }
   ],
   "source": [
    "# confirm data types for future work, convert numbers to floats\n",
    "city2_df['Max temp'] = pd.to_numeric(city2_df['Max temp'], errors='coerce')\n",
    "city2_df['Humidity'] = pd.to_numeric(city2_df['Humidity'], errors='coerce')\n",
    "city2_df['Cloudiness'] = pd.to_numeric(city2_df['Cloudiness'], errors='coerce')\n",
    "city2_df['Wind Speed'] = pd.to_numeric(city2_df['Wind Speed'], errors='coerce')\n",
    "city2_df['Real Lat'] = pd.to_numeric(city2_df['Real Lat'], errors='coerce')\n",
    "city2_df['Real Long'] = pd.to_numeric(city2_df['Real Long'], errors='coerce')\n",
    "city2_df.dtypes\n",
    "\n"
   ]
  },
  {
   "cell_type": "code",
   "execution_count": 143,
   "metadata": {},
   "outputs": [],
   "source": [
    "#Write city data to csv file\n",
    "\n",
    "city2_df.to_csv(r'city_list_data.csv')"
   ]
  },
  {
   "cell_type": "markdown",
   "metadata": {},
   "source": [
    "## Inspect the data and remove the cities where the humidity > 100%.\n",
    "----\n",
    "Skip this step if there are no cities that have humidity > 100%. "
   ]
  },
  {
   "cell_type": "code",
   "execution_count": 144,
   "metadata": {},
   "outputs": [
    {
     "data": {
      "text/plain": [
       "100.0"
      ]
     },
     "execution_count": 144,
     "metadata": {},
     "output_type": "execute_result"
    }
   ],
   "source": [
    "#check if Humidity >100%\n",
    "city2_df['Humidity'].max()"
   ]
  },
  {
   "cell_type": "code",
   "execution_count": 145,
   "metadata": {},
   "outputs": [],
   "source": [
    "# No cities have >100% humidity"
   ]
  },
  {
   "cell_type": "markdown",
   "metadata": {},
   "source": [
    "## Plotting the Data\n",
    "* Use proper labeling of the plots using plot titles (including date of analysis) and axes labels.\n",
    "* Save the plotted figures as .pngs."
   ]
  },
  {
   "cell_type": "markdown",
   "metadata": {},
   "source": [
    "## Latitude vs. Temperature Plot"
   ]
  },
  {
   "cell_type": "code",
   "execution_count": 146,
   "metadata": {
    "scrolled": true
   },
   "outputs": [
    {
     "data": {
      "image/png": "[encoded data removed]",
      "text/plain": [
       "<Figure size 432x288 with 1 Axes>"
      ]
     },
     "metadata": {
      "needs_background": "light"
     },
     "output_type": "display_data"
    }
   ],
   "source": [
    "city2_df.plot(kind='scatter', x='Real Lat', y='Max temp')\n",
    "plt.title(\"Latitude vs. Max Temp Plot\")\n",
    "plt.grid()\n",
    "plt.savefig(\"Lat_temp.png\", bbox_inches=\"tight\")\n",
    "\n",
    "# Observations:\n",
    "# temperatures peak around the equator (+/- 25 degrees lat)\n",
    "# seemingly the max temp drops more going north for cities than going south\n",
    "# which is interesting.  Something else is moderating temps in the southern hemisphere\n"
   ]
  },
  {
   "cell_type": "markdown",
   "metadata": {},
   "source": [
    "## Latitude vs. Humidity Plot"
   ]
  },
  {
   "cell_type": "code",
   "execution_count": 147,
   "metadata": {},
   "outputs": [
    {
     "data": {
      "image/png": "[encoded data removed]",
      "text/plain": [
       "<Figure size 432x288 with 1 Axes>"
      ]
     },
     "metadata": {
      "needs_background": "light"
     },
     "output_type": "display_data"
    }
   ],
   "source": [
    "city2_df.plot(kind='scatter', x='Real Lat', y='Humidity')\n",
    "plt.title(\"Latitude vs. Humidity\")\n",
    "plt.grid()\n",
    "plt.savefig(\"Lat_humidity.png\", bbox_inches=\"tight\")\n",
    "\n",
    "# Observations:\n",
    "# Humidity does not seem correlated with latitude\n",
    "# the range of values at <-50 lat, is pretty much the range of values >50 lat "
   ]
  },
  {
   "cell_type": "markdown",
   "metadata": {},
   "source": [
    "## Latitude vs. Cloudiness Plot"
   ]
  },
  {
   "cell_type": "code",
   "execution_count": 148,
   "metadata": {},
   "outputs": [
    {
     "data": {
      "image/png": "[encoded data removed]",
      "text/plain": [
       "<Figure size 432x288 with 1 Axes>"
      ]
     },
     "metadata": {
      "needs_background": "light"
     },
     "output_type": "display_data"
    }
   ],
   "source": [
    "city2_df.plot(kind='scatter', x='Real Lat', y='Cloudiness')\n",
    "plt.title(\"Latitude vs. Cloudiness\")\n",
    "plt.grid()\n",
    "plt.savefig(\"Lat_Cloudiness.png\", bbox_inches=\"tight\")\n",
    "\n",
    "# Observations:\n",
    "# Cloudiness doesn't seem correlated to latitude\n",
    "# maybe a slight bias to higher cloud cover at the extremes in lat\n",
    "# Quite a range of value per cities of like latitude"
   ]
  },
  {
   "cell_type": "markdown",
   "metadata": {},
   "source": [
    "## Latitude vs. Wind Speed Plot"
   ]
  },
  {
   "cell_type": "code",
   "execution_count": 149,
   "metadata": {
    "scrolled": true
   },
   "outputs": [
    {
     "data": {
      "image/png": "[encoded data removed]",
      "text/plain": [
       "<Figure size 432x288 with 1 Axes>"
      ]
     },
     "metadata": {
      "needs_background": "light"
     },
     "output_type": "display_data"
    }
   ],
   "source": [
    "city2_df.plot(kind='scatter', x='Real Lat', y='Wind Speed')\n",
    "plt.title(\"Latitude vs. Wind Speed\")\n",
    "plt.grid()\n",
    "plt.savefig(\"Lat_Wind.png\", bbox_inches=\"tight\")\n",
    "\n",
    "# Observations:\n",
    "# Wind Speed doesn't seem correlated to latitude\n",
    "# a pretty thorough range across all latitudes"
   ]
  },
  {
   "cell_type": "markdown",
   "metadata": {},
   "source": [
    "## Linear Regression"
   ]
  },
  {
   "cell_type": "code",
   "execution_count": 150,
   "metadata": {},
   "outputs": [
    {
     "data": {
      "text/html": [
       "<div>\n",
       "<style scoped>\n",
       "    .dataframe tbody tr th:only-of-type {\n",
       "        vertical-align: middle;\n",
       "    }\n",
       "\n",
       "    .dataframe tbody tr th {\n",
       "        vertical-align: top;\n",
       "    }\n",
       "\n",
       "    .dataframe thead th {\n",
       "        text-align: right;\n",
       "    }\n",
       "</style>\n",
       "<table border=\"1\" class=\"dataframe\">\n",
       "  <thead>\n",
       "    <tr style=\"text-align: right;\">\n",
       "      <th></th>\n",
       "      <th>Name</th>\n",
       "      <th>Country</th>\n",
       "      <th>lat</th>\n",
       "      <th>long</th>\n",
       "      <th>Real Lat</th>\n",
       "      <th>Real Long</th>\n",
       "      <th>Max temp</th>\n",
       "      <th>Humidity</th>\n",
       "      <th>Cloudiness</th>\n",
       "      <th>Wind Speed</th>\n",
       "      <th>Date Rec</th>\n",
       "    </tr>\n",
       "  </thead>\n",
       "  <tbody>\n",
       "    <tr>\n",
       "      <th>0</th>\n",
       "      <td>lezajsk</td>\n",
       "      <td>pl</td>\n",
       "      <td>50.36</td>\n",
       "      <td>22.28</td>\n",
       "      <td>50.26</td>\n",
       "      <td>22.42</td>\n",
       "      <td>48.20</td>\n",
       "      <td>76.0</td>\n",
       "      <td>100.0</td>\n",
       "      <td>11.41</td>\n",
       "      <td>1603043626</td>\n",
       "    </tr>\n",
       "    <tr>\n",
       "      <th>2</th>\n",
       "      <td>burla</td>\n",
       "      <td>ru</td>\n",
       "      <td>53.10</td>\n",
       "      <td>78.14</td>\n",
       "      <td>21.50</td>\n",
       "      <td>83.87</td>\n",
       "      <td>77.72</td>\n",
       "      <td>82.0</td>\n",
       "      <td>100.0</td>\n",
       "      <td>1.63</td>\n",
       "      <td>1603043626</td>\n",
       "    </tr>\n",
       "    <tr>\n",
       "      <th>5</th>\n",
       "      <td>dikson</td>\n",
       "      <td>ru</td>\n",
       "      <td>88.25</td>\n",
       "      <td>91.17</td>\n",
       "      <td>73.51</td>\n",
       "      <td>80.55</td>\n",
       "      <td>26.53</td>\n",
       "      <td>89.0</td>\n",
       "      <td>81.0</td>\n",
       "      <td>29.82</td>\n",
       "      <td>1603043626</td>\n",
       "    </tr>\n",
       "    <tr>\n",
       "      <th>8</th>\n",
       "      <td>saskylakh</td>\n",
       "      <td>ru</td>\n",
       "      <td>70.38</td>\n",
       "      <td>115.78</td>\n",
       "      <td>71.92</td>\n",
       "      <td>114.08</td>\n",
       "      <td>19.09</td>\n",
       "      <td>97.0</td>\n",
       "      <td>97.0</td>\n",
       "      <td>5.64</td>\n",
       "      <td>1603043626</td>\n",
       "    </tr>\n",
       "    <tr>\n",
       "      <th>9</th>\n",
       "      <td>jamestown</td>\n",
       "      <td>sh</td>\n",
       "      <td>-12.41</td>\n",
       "      <td>-6.43</td>\n",
       "      <td>42.10</td>\n",
       "      <td>-79.24</td>\n",
       "      <td>59.00</td>\n",
       "      <td>43.0</td>\n",
       "      <td>1.0</td>\n",
       "      <td>13.87</td>\n",
       "      <td>1603043627</td>\n",
       "    </tr>\n",
       "    <tr>\n",
       "      <th>...</th>\n",
       "      <td>...</td>\n",
       "      <td>...</td>\n",
       "      <td>...</td>\n",
       "      <td>...</td>\n",
       "      <td>...</td>\n",
       "      <td>...</td>\n",
       "      <td>...</td>\n",
       "      <td>...</td>\n",
       "      <td>...</td>\n",
       "      <td>...</td>\n",
       "      <td>...</td>\n",
       "    </tr>\n",
       "    <tr>\n",
       "      <th>587</th>\n",
       "      <td>tiksi</td>\n",
       "      <td>ru</td>\n",
       "      <td>74.94</td>\n",
       "      <td>128.95</td>\n",
       "      <td>71.69</td>\n",
       "      <td>128.87</td>\n",
       "      <td>18.54</td>\n",
       "      <td>96.0</td>\n",
       "      <td>100.0</td>\n",
       "      <td>17.22</td>\n",
       "      <td>1603043638</td>\n",
       "    </tr>\n",
       "    <tr>\n",
       "      <th>592</th>\n",
       "      <td>saint-louis</td>\n",
       "      <td>re</td>\n",
       "      <td>-22.17</td>\n",
       "      <td>54.53</td>\n",
       "      <td>16.33</td>\n",
       "      <td>-15.00</td>\n",
       "      <td>104.00</td>\n",
       "      <td>24.0</td>\n",
       "      <td>0.0</td>\n",
       "      <td>8.50</td>\n",
       "      <td>1603043669</td>\n",
       "    </tr>\n",
       "    <tr>\n",
       "      <th>594</th>\n",
       "      <td>talmenka</td>\n",
       "      <td>ru</td>\n",
       "      <td>53.83</td>\n",
       "      <td>83.62</td>\n",
       "      <td>53.82</td>\n",
       "      <td>83.57</td>\n",
       "      <td>35.60</td>\n",
       "      <td>51.0</td>\n",
       "      <td>55.0</td>\n",
       "      <td>13.42</td>\n",
       "      <td>1603043669</td>\n",
       "    </tr>\n",
       "    <tr>\n",
       "      <th>596</th>\n",
       "      <td>ormoz</td>\n",
       "      <td>si</td>\n",
       "      <td>46.47</td>\n",
       "      <td>16.10</td>\n",
       "      <td>46.41</td>\n",
       "      <td>16.15</td>\n",
       "      <td>48.00</td>\n",
       "      <td>93.0</td>\n",
       "      <td>13.0</td>\n",
       "      <td>2.24</td>\n",
       "      <td>1603043669</td>\n",
       "    </tr>\n",
       "    <tr>\n",
       "      <th>598</th>\n",
       "      <td>pacific grove</td>\n",
       "      <td>us</td>\n",
       "      <td>27.49</td>\n",
       "      <td>-137.78</td>\n",
       "      <td>36.62</td>\n",
       "      <td>-121.92</td>\n",
       "      <td>66.20</td>\n",
       "      <td>52.0</td>\n",
       "      <td>1.0</td>\n",
       "      <td>3.36</td>\n",
       "      <td>1603043669</td>\n",
       "    </tr>\n",
       "  </tbody>\n",
       "</table>\n",
       "<p>293 rows × 11 columns</p>\n",
       "</div>"
      ],
      "text/plain": [
       "              Name Country    lat    long  Real Lat  Real Long  Max temp  \\\n",
       "0          lezajsk      pl  50.36   22.28     50.26      22.42     48.20   \n",
       "2            burla      ru  53.10   78.14     21.50      83.87     77.72   \n",
       "5           dikson      ru  88.25   91.17     73.51      80.55     26.53   \n",
       "8        saskylakh      ru  70.38  115.78     71.92     114.08     19.09   \n",
       "9        jamestown      sh -12.41   -6.43     42.10     -79.24     59.00   \n",
       "..             ...     ...    ...     ...       ...        ...       ...   \n",
       "587          tiksi      ru  74.94  128.95     71.69     128.87     18.54   \n",
       "592    saint-louis      re -22.17   54.53     16.33     -15.00    104.00   \n",
       "594       talmenka      ru  53.83   83.62     53.82      83.57     35.60   \n",
       "596          ormoz      si  46.47   16.10     46.41      16.15     48.00   \n",
       "598  pacific grove      us  27.49 -137.78     36.62    -121.92     66.20   \n",
       "\n",
       "     Humidity  Cloudiness  Wind Speed    Date Rec  \n",
       "0        76.0       100.0       11.41  1603043626  \n",
       "2        82.0       100.0        1.63  1603043626  \n",
       "5        89.0        81.0       29.82  1603043626  \n",
       "8        97.0        97.0        5.64  1603043626  \n",
       "9        43.0         1.0       13.87  1603043627  \n",
       "..        ...         ...         ...         ...  \n",
       "587      96.0       100.0       17.22  1603043638  \n",
       "592      24.0         0.0        8.50  1603043669  \n",
       "594      51.0        55.0       13.42  1603043669  \n",
       "596      93.0        13.0        2.24  1603043669  \n",
       "598      52.0         1.0        3.36  1603043669  \n",
       "\n",
       "[293 rows x 11 columns]"
      ]
     },
     "execution_count": 150,
     "metadata": {},
     "output_type": "execute_result"
    }
   ],
   "source": [
    "# Create Northern Hemisphere datatable\n",
    "north_df = city2_df.loc[city2_df['Real Lat'] >=0]\n",
    "north_df"
   ]
  },
  {
   "cell_type": "code",
   "execution_count": 151,
   "metadata": {},
   "outputs": [
    {
     "data": {
      "text/html": [
       "<div>\n",
       "<style scoped>\n",
       "    .dataframe tbody tr th:only-of-type {\n",
       "        vertical-align: middle;\n",
       "    }\n",
       "\n",
       "    .dataframe tbody tr th {\n",
       "        vertical-align: top;\n",
       "    }\n",
       "\n",
       "    .dataframe thead th {\n",
       "        text-align: right;\n",
       "    }\n",
       "</style>\n",
       "<table border=\"1\" class=\"dataframe\">\n",
       "  <thead>\n",
       "    <tr style=\"text-align: right;\">\n",
       "      <th></th>\n",
       "      <th>Name</th>\n",
       "      <th>Country</th>\n",
       "      <th>lat</th>\n",
       "      <th>long</th>\n",
       "      <th>Real Lat</th>\n",
       "      <th>Real Long</th>\n",
       "      <th>Max temp</th>\n",
       "      <th>Humidity</th>\n",
       "      <th>Cloudiness</th>\n",
       "      <th>Wind Speed</th>\n",
       "      <th>Date Rec</th>\n",
       "    </tr>\n",
       "  </thead>\n",
       "  <tbody>\n",
       "    <tr>\n",
       "      <th>3</th>\n",
       "      <td>east london</td>\n",
       "      <td>za</td>\n",
       "      <td>-72.97</td>\n",
       "      <td>50.18</td>\n",
       "      <td>-33.02</td>\n",
       "      <td>27.91</td>\n",
       "      <td>62.60</td>\n",
       "      <td>72.0</td>\n",
       "      <td>50.0</td>\n",
       "      <td>10.29</td>\n",
       "      <td>1603043626</td>\n",
       "    </tr>\n",
       "    <tr>\n",
       "      <th>4</th>\n",
       "      <td>bredasdorp</td>\n",
       "      <td>za</td>\n",
       "      <td>-72.42</td>\n",
       "      <td>22.52</td>\n",
       "      <td>-34.53</td>\n",
       "      <td>20.04</td>\n",
       "      <td>62.60</td>\n",
       "      <td>72.0</td>\n",
       "      <td>66.0</td>\n",
       "      <td>5.82</td>\n",
       "      <td>1603043626</td>\n",
       "    </tr>\n",
       "    <tr>\n",
       "      <th>6</th>\n",
       "      <td>bluff</td>\n",
       "      <td>nz</td>\n",
       "      <td>-63.30</td>\n",
       "      <td>165.70</td>\n",
       "      <td>-46.60</td>\n",
       "      <td>168.33</td>\n",
       "      <td>46.99</td>\n",
       "      <td>93.0</td>\n",
       "      <td>100.0</td>\n",
       "      <td>2.80</td>\n",
       "      <td>1603043626</td>\n",
       "    </tr>\n",
       "    <tr>\n",
       "      <th>7</th>\n",
       "      <td>atuona</td>\n",
       "      <td>pf</td>\n",
       "      <td>-11.46</td>\n",
       "      <td>-130.60</td>\n",
       "      <td>-9.80</td>\n",
       "      <td>-139.03</td>\n",
       "      <td>77.90</td>\n",
       "      <td>77.0</td>\n",
       "      <td>13.0</td>\n",
       "      <td>18.05</td>\n",
       "      <td>1603043626</td>\n",
       "    </tr>\n",
       "    <tr>\n",
       "      <th>11</th>\n",
       "      <td>saint-philippe</td>\n",
       "      <td>re</td>\n",
       "      <td>-51.40</td>\n",
       "      <td>67.28</td>\n",
       "      <td>-21.36</td>\n",
       "      <td>55.77</td>\n",
       "      <td>73.40</td>\n",
       "      <td>69.0</td>\n",
       "      <td>29.0</td>\n",
       "      <td>5.82</td>\n",
       "      <td>1603043627</td>\n",
       "    </tr>\n",
       "  </tbody>\n",
       "</table>\n",
       "</div>"
      ],
      "text/plain": [
       "              Name Country    lat    long  Real Lat  Real Long  Max temp  \\\n",
       "3      east london      za -72.97   50.18    -33.02      27.91     62.60   \n",
       "4       bredasdorp      za -72.42   22.52    -34.53      20.04     62.60   \n",
       "6            bluff      nz -63.30  165.70    -46.60     168.33     46.99   \n",
       "7           atuona      pf -11.46 -130.60     -9.80    -139.03     77.90   \n",
       "11  saint-philippe      re -51.40   67.28    -21.36      55.77     73.40   \n",
       "\n",
       "    Humidity  Cloudiness  Wind Speed    Date Rec  \n",
       "3       72.0        50.0       10.29  1603043626  \n",
       "4       72.0        66.0        5.82  1603043626  \n",
       "6       93.0       100.0        2.80  1603043626  \n",
       "7       77.0        13.0       18.05  1603043626  \n",
       "11      69.0        29.0        5.82  1603043627  "
      ]
     },
     "execution_count": 151,
     "metadata": {},
     "output_type": "execute_result"
    }
   ],
   "source": [
    "# Create Southern Hemisphere datatable\n",
    "south_df = city2_df.loc[city2_df['Real Lat'] <0]\n",
    "south_df.head()"
   ]
  },
  {
   "cell_type": "markdown",
   "metadata": {},
   "source": [
    "####  Northern Hemisphere - Max Temp vs. Latitude Linear Regression"
   ]
  },
  {
   "cell_type": "code",
   "execution_count": 152,
   "metadata": {},
   "outputs": [],
   "source": [
    "# linear regression model\n",
    "from scipy.stats import linregress\n",
    "\n",
    "results = linregress(north_df['Max temp'], north_df['Real Lat'])"
   ]
  },
  {
   "cell_type": "code",
   "execution_count": 153,
   "metadata": {},
   "outputs": [
    {
     "name": "stdout",
     "output_type": "stream",
     "text": [
      "-0.814064979890595 87.13405371450156\n"
     ]
    }
   ],
   "source": [
    "#regression values:\n",
    "slope = results.slope\n",
    "yinter = results.intercept\n",
    "\n",
    "print(slope, yinter)"
   ]
  },
  {
   "cell_type": "code",
   "execution_count": 154,
   "metadata": {},
   "outputs": [
    {
     "name": "stdout",
     "output_type": "stream",
     "text": [
      "Regression eq: Y = -0.81x + 87.13\n"
     ]
    }
   ],
   "source": [
    "#regression line equation\n",
    "\n",
    "line_eq = print(f\"Regression eq: Y = {format('{:.2f}')}x + {format('{:.2f}')}\".format(slope,yinter))\n",
    "#print(line_eq)\n",
    "\n",
    "short_form = f\"Y = {format('{:.2f}')}x + {format('{:.2f}')}\".format(slope,yinter)"
   ]
  },
  {
   "cell_type": "code",
   "execution_count": 155,
   "metadata": {},
   "outputs": [],
   "source": [
    "# R^2 value\n",
    "cor_lat_temp_nor = sts.pearsonr(north_df['Max temp'],north_df['Real Lat'])\n",
    "cor_lat_temp_nor[0]\n",
    "r_sqre = cor_lat_temp_nor[0]*cor_lat_temp_nor[0]\n",
    "r_sqre\n",
    "\n",
    "reg_form = f\"R^2 = {format('{:.2f}')}\".format(r_sqre)"
   ]
  },
  {
   "cell_type": "code",
   "execution_count": 156,
   "metadata": {
    "scrolled": true
   },
   "outputs": [
    {
     "data": {
      "image/png": "[encoded data removed]",
      "text/plain": [
       "<Figure size 432x288 with 1 Axes>"
      ]
     },
     "metadata": {
      "needs_background": "light"
     },
     "output_type": "display_data"
    }
   ],
   "source": [
    "#plot chart with regression line\n",
    "ax = north_df.plot.scatter(x = 'Max temp', y = 'Real Lat')\n",
    "\n",
    "ax.set_title('ScatterPlot: Max Temp vs. Latitude')\n",
    "ax.set_xlabel('Max Temp')\n",
    "ax.set_ylabel('lat')\n",
    "\n",
    "\n",
    "ax.annotate(short_form, xy=(20,25), xytext=(20,30), fontsize=10)\n",
    "ax.annotate(reg_form, xy=(20,25), xytext=(20,25), fontsize=10)\n",
    "\n",
    "x_values = north_df['Max temp']\n",
    "y_values = north_df['Max temp']*slope + yinter\n",
    "\n",
    "plt.plot(x_values, y_values, color='r')\n",
    "\n",
    "plt.show()"
   ]
  },
  {
   "cell_type": "markdown",
   "metadata": {},
   "source": [
    "####  Southern Hemisphere - Max Temp vs. Latitude Linear Regression"
   ]
  },
  {
   "cell_type": "code",
   "execution_count": 157,
   "metadata": {},
   "outputs": [],
   "source": [
    "results = linregress(south_df['Max temp'], south_df['Real Lat'])"
   ]
  },
  {
   "cell_type": "code",
   "execution_count": 158,
   "metadata": {},
   "outputs": [],
   "source": [
    "#regression values:\n",
    "slope = results.slope\n",
    "yinter = results.intercept"
   ]
  },
  {
   "cell_type": "code",
   "execution_count": 159,
   "metadata": {},
   "outputs": [
    {
     "name": "stdout",
     "output_type": "stream",
     "text": [
      "Regression eq: Y = 0.97x + -92.19\n"
     ]
    }
   ],
   "source": [
    "#regression line equation\n",
    "\n",
    "line_eq = print(f\"Regression eq: Y = {format('{:.2f}')}x + {format('{:.2f}')}\".format(slope,yinter))\n",
    "#print(line_eq)\n",
    "\n",
    "short_form = f\"Y = {format('{:.2f}')}x + {format('{:.2f}')}\".format(slope,yinter)"
   ]
  },
  {
   "cell_type": "code",
   "execution_count": 160,
   "metadata": {},
   "outputs": [],
   "source": [
    "# R^2 value\n",
    "cor_lat_temp_sth = sts.pearsonr(south_df['Max temp'],south_df['Real Lat'])\n",
    "cor_lat_temp_sth[0]\n",
    "r_sqre = cor_lat_temp_sth[0]*cor_lat_temp_sth[0]\n",
    "r_sqre\n",
    "\n",
    "reg_form = f\"R^2 = {format('{:.2f}')}\".format(r_sqre)"
   ]
  },
  {
   "cell_type": "code",
   "execution_count": 161,
   "metadata": {},
   "outputs": [
    {
     "data": {
      "image/png": "[encoded data removed]",
      "text/plain": [
       "<Figure size 432x288 with 1 Axes>"
      ]
     },
     "metadata": {
      "needs_background": "light"
     },
     "output_type": "display_data"
    }
   ],
   "source": [
    "#plot chart with regression line\n",
    "ax = south_df.plot.scatter(x = 'Max temp', y = 'Real Lat')\n",
    "\n",
    "ax.set_title('ScatterPlot: Max Temp vs. Latitude')\n",
    "ax.set_xlabel('Max Temp')\n",
    "ax.set_ylabel('lat')\n",
    "\n",
    "\n",
    "ax.annotate(short_form, xy=(45,-50), xytext=(45,-50), fontsize=10)\n",
    "ax.annotate(reg_form, xy=(45,-55), xytext=(45,-55), fontsize=10)\n",
    "\n",
    "x_values = south_df['Max temp']\n",
    "y_values = south_df['Max temp']*slope + yinter\n",
    "\n",
    "plt.plot(x_values, y_values, color='r')\n",
    "\n",
    "plt.show()"
   ]
  },
  {
   "cell_type": "code",
   "execution_count": 162,
   "metadata": {
    "scrolled": true
   },
   "outputs": [],
   "source": [
    "# Linear Regression (temp vs. hemipshere lat)\n",
    "# confirms that as the latitude is further away from zero\n",
    "# the temperature drops fairly consistently in either direction\n",
    "# the slope is inverted but the magntidue of the slope is quite similar\n",
    "# .98 north vs. 1.08 South"
   ]
  },
  {
   "cell_type": "markdown",
   "metadata": {},
   "source": [
    "####  Northern Hemisphere - Humidity (%) vs. Latitude Linear Regression"
   ]
  },
  {
   "cell_type": "code",
   "execution_count": 163,
   "metadata": {},
   "outputs": [],
   "source": [
    "results = linregress(north_df['Humidity'], north_df['Real Lat'])"
   ]
  },
  {
   "cell_type": "code",
   "execution_count": 164,
   "metadata": {},
   "outputs": [],
   "source": [
    "#regression values:\n",
    "slope = results.slope\n",
    "yinter = results.intercept"
   ]
  },
  {
   "cell_type": "code",
   "execution_count": 165,
   "metadata": {},
   "outputs": [
    {
     "name": "stdout",
     "output_type": "stream",
     "text": [
      "Regression eq: Y = 0.35x + 19.81\n"
     ]
    }
   ],
   "source": [
    "#regression line equation\n",
    "\n",
    "line_eq = print(f\"Regression eq: Y = {format('{:.2f}')}x + {format('{:.2f}')}\".format(slope,yinter))\n",
    "#print(line_eq)\n",
    "\n",
    "short_form = f\"Y = {format('{:.2f}')}x + {format('{:.2f}')}\".format(slope,yinter)"
   ]
  },
  {
   "cell_type": "code",
   "execution_count": 166,
   "metadata": {},
   "outputs": [],
   "source": [
    "# R^2 value\n",
    "cor_lat_temp_north = sts.pearsonr(north_df['Humidity'],north_df['Real Lat'])\n",
    "cor_lat_temp_north[0]\n",
    "r_sqre = cor_lat_temp_north[0]*cor_lat_temp_north[0]\n",
    "r_sqre\n",
    "\n",
    "reg_form = f\"R^2 = {format('{:.2f}')}\".format(r_sqre)"
   ]
  },
  {
   "cell_type": "code",
   "execution_count": 167,
   "metadata": {},
   "outputs": [
    {
     "data": {
      "image/png": "[encoded data removed]",
      "text/plain": [
       "<Figure size 432x288 with 1 Axes>"
      ]
     },
     "metadata": {
      "needs_background": "light"
     },
     "output_type": "display_data"
    }
   ],
   "source": [
    "#plot chart with regression line\n",
    "ax = north_df.plot.scatter(x = 'Humidity', y = 'Real Lat')\n",
    "\n",
    "ax.set_title('ScatterPlot: Humidity vs. Latitude')\n",
    "ax.set_xlabel('Humidity')\n",
    "ax.set_ylabel('lat')\n",
    "\n",
    "\n",
    "ax.annotate(short_form, xy=(70,30), xytext=(70,30), fontsize=10)\n",
    "ax.annotate(reg_form, xy=(70,25), xytext=(70,25), fontsize=10)\n",
    "\n",
    "x_values = north_df['Humidity']\n",
    "y_values = north_df['Humidity']*slope + yinter\n",
    "\n",
    "plt.plot(x_values, y_values, color='r')\n",
    "\n",
    "plt.show()"
   ]
  },
  {
   "cell_type": "markdown",
   "metadata": {},
   "source": [
    "####  Southern Hemisphere - Humidity (%) vs. Latitude Linear Regression"
   ]
  },
  {
   "cell_type": "code",
   "execution_count": 168,
   "metadata": {},
   "outputs": [],
   "source": [
    "results = linregress(south_df['Humidity'], south_df['Real Lat'])"
   ]
  },
  {
   "cell_type": "code",
   "execution_count": 169,
   "metadata": {},
   "outputs": [],
   "source": [
    "#regression values:\n",
    "slope = results.slope\n",
    "yinter = results.intercept"
   ]
  },
  {
   "cell_type": "code",
   "execution_count": 170,
   "metadata": {},
   "outputs": [
    {
     "name": "stdout",
     "output_type": "stream",
     "text": [
      "Regression eq: Y = 0.03x + -30.99\n"
     ]
    }
   ],
   "source": [
    "#regression line equation\n",
    "\n",
    "line_eq = print(f\"Regression eq: Y = {format('{:.2f}')}x + {format('{:.2f}')}\".format(slope,yinter))\n",
    "#print(line_eq)\n",
    "\n",
    "short_form = f\"Y = {format('{:.2f}')}x + {format('{:.2f}')}\".format(slope,yinter)"
   ]
  },
  {
   "cell_type": "code",
   "execution_count": 171,
   "metadata": {},
   "outputs": [],
   "source": [
    "# R^2 value\n",
    "cor_lat_Humidity_sth = sts.pearsonr(south_df['Humidity'],south_df['Real Lat'])\n",
    "cor_lat_Humidity_sth[0]\n",
    "r_sqre = cor_lat_Humidity_sth[0]*cor_lat_Humidity_sth[0]\n",
    "r_sqre\n",
    "\n",
    "reg_form = f\"R^2 = {format('{:.2f}')}\".format(r_sqre)"
   ]
  },
  {
   "cell_type": "code",
   "execution_count": 172,
   "metadata": {},
   "outputs": [
    {
     "data": {
      "image/png": "[encoded data removed]",
      "text/plain": [
       "<Figure size 432x288 with 1 Axes>"
      ]
     },
     "metadata": {
      "needs_background": "light"
     },
     "output_type": "display_data"
    }
   ],
   "source": [
    "#plot chart with regression line\n",
    "ax = south_df.plot.scatter(x = 'Humidity', y = 'Real Lat')\n",
    "\n",
    "ax.set_title('ScatterPlot: Humidity vs. Latitude')\n",
    "ax.set_xlabel('Humidity')\n",
    "ax.set_ylabel('lat')\n",
    "\n",
    "\n",
    "ax.annotate(short_form, xy=(25,-65), xytext=(25,-65), fontsize=10)\n",
    "ax.annotate(reg_form, xy=(25,-70), xytext=(25,-70), fontsize=10)\n",
    "\n",
    "x_values = south_df['Humidity']\n",
    "y_values = south_df['Humidity']*slope + yinter\n",
    "\n",
    "plt.plot(x_values, y_values, color='r')\n",
    "\n",
    "plt.show()"
   ]
  },
  {
   "cell_type": "code",
   "execution_count": 173,
   "metadata": {},
   "outputs": [],
   "source": [
    "# Observations:  Humidity vs. latitude by hemisphere\n",
    "# NO meaningful R^2 here in either hemisphere.  .4 (magnitude) slope in the north vs. 0.14 slope in the south\n",
    "# in general latitude has little value in predicting humidity."
   ]
  },
  {
   "cell_type": "markdown",
   "metadata": {},
   "source": [
    "####  Northern Hemisphere - Cloudiness (%) vs. Latitude Linear Regression"
   ]
  },
  {
   "cell_type": "code",
   "execution_count": 174,
   "metadata": {},
   "outputs": [
    {
     "name": "stdout",
     "output_type": "stream",
     "text": [
      "Regression eq: Y = 0.16x + 35.40\n"
     ]
    },
    {
     "data": {
      "image/png": "[encoded data removed]",
      "text/plain": [
       "<Figure size 432x288 with 1 Axes>"
      ]
     },
     "metadata": {
      "needs_background": "light"
     },
     "output_type": "display_data"
    }
   ],
   "source": [
    "results = linregress(north_df['Cloudiness'], north_df['Real Lat'])\n",
    "\n",
    "#regression values:\n",
    "slope = results.slope\n",
    "yinter = results.intercept\n",
    "\n",
    "#regression line equation\n",
    "\n",
    "line_eq = print(f\"Regression eq: Y = {format('{:.2f}')}x + {format('{:.2f}')}\".format(slope,yinter))\n",
    "#print(line_eq)\n",
    "\n",
    "short_form = f\"Y = {format('{:.2f}')}x + {format('{:.2f}')}\".format(slope,yinter)\n",
    "\n",
    "# R^2 value\n",
    "cor_lat_Cloudiness_north = sts.pearsonr(north_df['Cloudiness'],north_df['Real Lat'])\n",
    "cor_lat_Cloudiness_north[0]\n",
    "r_sqre = cor_lat_Cloudiness_north[0]*cor_lat_Cloudiness_north[0]\n",
    "r_sqre\n",
    "\n",
    "reg_form = f\"R^2 = {format('{:.2f}')}\".format(r_sqre)\n",
    "\n",
    "#plot chart with regression line\n",
    "ax = north_df.plot.scatter(x = 'Cloudiness', y = 'Real Lat')\n",
    "\n",
    "ax.set_title('ScatterPlot: Cloudiness vs. Latitude')\n",
    "ax.set_xlabel('Cloudiness')\n",
    "ax.set_ylabel('lat')\n",
    "\n",
    "\n",
    "ax.annotate(short_form, xy=(40,30), xytext=(40,30), fontsize=10)\n",
    "ax.annotate(reg_form, xy=(40,25), xytext=(40,25), fontsize=10)\n",
    "\n",
    "x_values = north_df['Cloudiness']\n",
    "y_values = north_df['Cloudiness']*slope + yinter\n",
    "\n",
    "plt.plot(x_values, y_values, color='r')\n",
    "\n",
    "plt.show()"
   ]
  },
  {
   "cell_type": "markdown",
   "metadata": {},
   "source": [
    "####  Southern Hemisphere - Cloudiness (%) vs. Latitude Linear Regression"
   ]
  },
  {
   "cell_type": "code",
   "execution_count": 175,
   "metadata": {},
   "outputs": [
    {
     "name": "stdout",
     "output_type": "stream",
     "text": [
      "Regression eq: Y = -0.02x + -27.66\n"
     ]
    },
    {
     "data": {
      "image/png": "[encoded data removed]",
      "text/plain": [
       "<Figure size 432x288 with 1 Axes>"
      ]
     },
     "metadata": {
      "needs_background": "light"
     },
     "output_type": "display_data"
    }
   ],
   "source": [
    "results = linregress(south_df['Cloudiness'], south_df['Real Lat'])\n",
    "\n",
    "#regression values:\n",
    "slope = results.slope\n",
    "yinter = results.intercept\n",
    "\n",
    "#regression line equation\n",
    "\n",
    "line_eq = print(f\"Regression eq: Y = {format('{:.2f}')}x + {format('{:.2f}')}\".format(slope,yinter))\n",
    "#print(line_eq)\n",
    "\n",
    "short_form = f\"Y = {format('{:.2f}')}x + {format('{:.2f}')}\".format(slope,yinter)\n",
    "\n",
    "# R^2 value\n",
    "cor_lat_Cloudiness_sth = sts.pearsonr(south_df['Cloudiness'],south_df['Real Lat'])\n",
    "cor_lat_Cloudiness_sth[0]\n",
    "r_sqre = cor_lat_Cloudiness_sth[0]*cor_lat_Cloudiness_sth[0]\n",
    "r_sqre\n",
    "\n",
    "reg_form = f\"R^2 = {format('{:.2f}')}\".format(r_sqre)\n",
    "\n",
    "#plot chart with regression line\n",
    "ax = south_df.plot.scatter(x = 'Cloudiness', y = 'Real Lat')\n",
    "\n",
    "ax.set_title('ScatterPlot: Cloudiness vs. Latitude')\n",
    "ax.set_xlabel('Cloudiness')\n",
    "ax.set_ylabel('Real Lat')\n",
    "\n",
    "\n",
    "ax.annotate(short_form, xy=(20,-65), xytext=(20,-65), fontsize=10)\n",
    "ax.annotate(reg_form, xy=(20,-70), xytext=(20,-70), fontsize=10)\n",
    "\n",
    "x_values = south_df['Cloudiness']\n",
    "y_values = south_df['Cloudiness']*slope + yinter\n",
    "\n",
    "plt.plot(x_values, y_values, color='r')\n",
    "\n",
    "plt.show()"
   ]
  },
  {
   "cell_type": "code",
   "execution_count": 176,
   "metadata": {},
   "outputs": [],
   "source": [
    "# Observations:  Cloudiness vs. latitude by hemisphere\n",
    "# NO meaningful R^2 here in either hemisphere.  \n",
    "#.23 (magnitude) slope in the north vs. 0.2 slope in the south is fairly equal\n",
    "# in general latitude has no relationship with cloudiness"
   ]
  },
  {
   "cell_type": "markdown",
   "metadata": {},
   "source": [
    "####  Northern Hemisphere - Wind Speed (mph) vs. Latitude Linear Regression"
   ]
  },
  {
   "cell_type": "code",
   "execution_count": 177,
   "metadata": {},
   "outputs": [
    {
     "name": "stdout",
     "output_type": "stream",
     "text": [
      "Regression eq: Y = 0.34x + 41.39\n"
     ]
    },
    {
     "data": {
      "image/png": "[encoded data removed]",
      "text/plain": [
       "<Figure size 432x288 with 1 Axes>"
      ]
     },
     "metadata": {
      "needs_background": "light"
     },
     "output_type": "display_data"
    }
   ],
   "source": [
    "results = linregress(north_df['Wind Speed'], north_df['Real Lat'])\n",
    "\n",
    "#regression values:\n",
    "slope = results.slope\n",
    "yinter = results.intercept\n",
    "\n",
    "#regression line equation\n",
    "\n",
    "line_eq = print(f\"Regression eq: Y = {format('{:.2f}')}x + {format('{:.2f}')}\".format(slope,yinter))\n",
    "#print(line_eq)\n",
    "\n",
    "short_form = f\"Y = {format('{:.2f}')}x + {format('{:.2f}')}\".format(slope,yinter)\n",
    "\n",
    "# R^2 value\n",
    "cor_lat_wind_north = sts.pearsonr(north_df['Wind Speed'],north_df['Real Lat'])\n",
    "cor_lat_wind_north[0]\n",
    "r_sqre = cor_lat_wind_north[0]*cor_lat_wind_north[0]\n",
    "r_sqre\n",
    "\n",
    "reg_form = f\"R^2 = {format('{:.2f}')}\".format(r_sqre)\n",
    "\n",
    "#plot chart with regression line\n",
    "ax = north_df.plot.scatter(x = 'Wind Speed', y = 'Real Lat')\n",
    "\n",
    "ax.set_title('ScatterPlot: Wind Speed vs. Latitude')\n",
    "ax.set_xlabel('Wind Speed')\n",
    "ax.set_ylabel('lat')\n",
    "\n",
    "\n",
    "ax.annotate(short_form, xy=(4,30), xytext=(4,30), fontsize=10)\n",
    "ax.annotate(reg_form, xy=(4,25), xytext=(4,25), fontsize=10)\n",
    "\n",
    "x_values = north_df['Wind Speed']\n",
    "y_values = north_df['Wind Speed']*slope + yinter\n",
    "\n",
    "plt.plot(x_values, y_values, color='r')\n",
    "\n",
    "plt.show()"
   ]
  },
  {
   "cell_type": "markdown",
   "metadata": {},
   "source": [
    "####  Southern Hemisphere - Wind Speed (mph) vs. Latitude Linear Regression"
   ]
  },
  {
   "cell_type": "code",
   "execution_count": 178,
   "metadata": {},
   "outputs": [
    {
     "name": "stdout",
     "output_type": "stream",
     "text": [
      "Regression eq: Y = -0.25x + -26.12\n"
     ]
    },
    {
     "data": {
      "image/png": "[encoded data removed]",
      "text/plain": [
       "<Figure size 432x288 with 1 Axes>"
      ]
     },
     "metadata": {
      "needs_background": "light"
     },
     "output_type": "display_data"
    }
   ],
   "source": [
    "results = linregress(south_df['Wind Speed'], south_df['Real Lat'])\n",
    "\n",
    "#regression values:\n",
    "slope = results.slope\n",
    "yinter = results.intercept\n",
    "\n",
    "#regression line equation\n",
    "\n",
    "line_eq = print(f\"Regression eq: Y = {format('{:.2f}')}x + {format('{:.2f}')}\".format(slope,yinter))\n",
    "#print(line_eq)\n",
    "\n",
    "short_form = f\"Y = {format('{:.2f}')}x + {format('{:.2f}')}\".format(slope,yinter)\n",
    "\n",
    "# R^2 value\n",
    "cor_lat_wind_sth = sts.pearsonr(south_df['Wind Speed'],south_df['Real Lat'])\n",
    "cor_lat_wind_sth[0]\n",
    "r_sqre = cor_lat_wind_sth[0]*cor_lat_wind_sth[0]\n",
    "r_sqre\n",
    "\n",
    "reg_form = f\"R^2 = {format('{:.2f}')}\".format(r_sqre)\n",
    "\n",
    "#plot chart with regression line\n",
    "ax = south_df.plot.scatter(x = 'Wind Speed', y = 'Real Lat')\n",
    "\n",
    "ax.set_title('ScatterPlot: Wind Speed vs. Latitude')\n",
    "ax.set_xlabel('Wind Speed')\n",
    "ax.set_ylabel('lat')\n",
    "\n",
    "\n",
    "ax.annotate(short_form, xy=(2,-55), xytext=(2,-55), fontsize=10)\n",
    "ax.annotate(reg_form, xy=(2,-60), xytext=(2,-60), fontsize=10)\n",
    "\n",
    "x_values = south_df['Wind Speed']\n",
    "y_values = south_df['Wind Speed']*slope + yinter\n",
    "\n",
    "plt.plot(x_values, y_values, color='r')\n",
    "\n",
    "plt.show()"
   ]
  },
  {
   "cell_type": "code",
   "execution_count": 179,
   "metadata": {},
   "outputs": [],
   "source": [
    "# Observations:  Wind Speed vs. latitude by hemisphere\n",
    "# NO meaningful R^2 here in either hemisphere.  \n",
    "#.88 (magnitude) slope in the north is double the south but the poor fit\n",
    "# suggests this is not meaningufl\n",
    "# in general latitude has no relationship with Wind Speed"
   ]
  },
  {
   "cell_type": "code",
   "execution_count": null,
   "metadata": {},
   "outputs": [],
   "source": []
  },
  {
   "cell_type": "code",
   "execution_count": null,
   "metadata": {},
   "outputs": [],
   "source": []
  }
 ],
 "metadata": {
  "anaconda-cloud": {},
  "kernel_info": {
   "name": "python3"
  },
  "kernelspec": {
   "display_name": "Python [conda env:PythonData]",
   "language": "python",
   "name": "conda-env-PythonData-py"
  },
  "language_info": {
   "codemirror_mode": {
    "name": "ipython",
    "version": 3
   },
   "file_extension": ".py",
   "mimetype": "text/x-python",
   "name": "python",
   "nbconvert_exporter": "python",
   "pygments_lexer": "ipython3",
   "version": "3.6.10"
  },
  "latex_envs": {
   "LaTeX_envs_menu_present": true,
   "autoclose": false,
   "autocomplete": true,
   "bibliofile": "biblio.bib",
   "cite_by": "apalike",
   "current_citInitial": 1,
   "eqLabelWithNumbers": true,
   "eqNumInitial": 1,
   "hotkeys": {
    "equation": "Ctrl-E",
    "itemize": "Ctrl-I"
   },
   "labels_anchors": false,
   "latex_user_defs": false,
   "report_style_numbering": false,
   "user_envs_cfg": false
  },
  "nteract": {
   "version": "0.12.3"
  }
 },
 "nbformat": 4,
 "nbformat_minor": 2
}
