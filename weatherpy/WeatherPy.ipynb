{
 "cells": [
  {
   "cell_type": "markdown",
   "metadata": {},
   "source": [
    "# WeatherPy\n",
    "----\n",
    "\n",
    "#### Note\n",
    "* Instructions have been included for each segment. You do not have to follow them exactly, but they are included to help you think through the steps."
   ]
  },
  {
   "cell_type": "code",
   "execution_count": 28,
   "metadata": {
    "scrolled": true
   },
   "outputs": [],
   "source": [
    "#dependencies\n",
    "import requests\n",
    "import matplotlib.pyplot as plt\n",
    "import pandas as pd\n",
    "import json\n",
    "import numpy as np\n",
    "import scipy.stats as sts\n",
    "import time\n",
    "\n",
    "\n",
    "from pprint import pprint\n",
    "from config import api_key\n",
    "from citipy import citipy\n",
    "\n",
    "#print(api_key)"
   ]
  },
  {
   "cell_type": "markdown",
   "metadata": {},
   "source": [
    "## Generate Cities List"
   ]
  },
  {
   "cell_type": "code",
   "execution_count": 47,
   "metadata": {},
   "outputs": [
    {
     "data": {
      "text/plain": [
       "1500"
      ]
     },
     "execution_count": 47,
     "metadata": {},
     "output_type": "execute_result"
    }
   ],
   "source": [
    "# generate cities as needed \n",
    "import random\n",
    "\n",
    "lat = []\n",
    "long = []\n",
    "\n",
    "for x in range(1500):\n",
    "    lat.append(round(random.uniform(-90,90),2))\n",
    "    long.append(round(random.uniform(-180,180),2))\n",
    "\n",
    "city_loc_df = {\n",
    "    \"lat\" : lat,\n",
    "    \"long\" : long\n",
    "}\n",
    "\n",
    "city_df = pd.DataFrame(city_loc_df)\n",
    "\n",
    "city_df.head()\n",
    "len(city_df)\n"
   ]
  },
  {
   "cell_type": "code",
   "execution_count": 48,
   "metadata": {},
   "outputs": [
    {
     "name": "stdout",
     "output_type": "stream",
     "text": [
      "596 596\n"
     ]
    },
    {
     "data": {
      "text/html": [
       "<div>\n",
       "<style scoped>\n",
       "    .dataframe tbody tr th:only-of-type {\n",
       "        vertical-align: middle;\n",
       "    }\n",
       "\n",
       "    .dataframe tbody tr th {\n",
       "        vertical-align: top;\n",
       "    }\n",
       "\n",
       "    .dataframe thead th {\n",
       "        text-align: right;\n",
       "    }\n",
       "</style>\n",
       "<table border=\"1\" class=\"dataframe\">\n",
       "  <thead>\n",
       "    <tr style=\"text-align: right;\">\n",
       "      <th></th>\n",
       "      <th>Name</th>\n",
       "      <th>Country</th>\n",
       "    </tr>\n",
       "  </thead>\n",
       "  <tbody>\n",
       "    <tr>\n",
       "      <th>0</th>\n",
       "      <td>goundam</td>\n",
       "      <td>ml</td>\n",
       "    </tr>\n",
       "    <tr>\n",
       "      <th>1</th>\n",
       "      <td>praia da vitoria</td>\n",
       "      <td>pt</td>\n",
       "    </tr>\n",
       "    <tr>\n",
       "      <th>2</th>\n",
       "      <td>oboyan</td>\n",
       "      <td>ru</td>\n",
       "    </tr>\n",
       "    <tr>\n",
       "      <th>3</th>\n",
       "      <td>alofi</td>\n",
       "      <td>nu</td>\n",
       "    </tr>\n",
       "    <tr>\n",
       "      <th>4</th>\n",
       "      <td>bur gabo</td>\n",
       "      <td>so</td>\n",
       "    </tr>\n",
       "    <tr>\n",
       "      <th>...</th>\n",
       "      <td>...</td>\n",
       "      <td>...</td>\n",
       "    </tr>\n",
       "    <tr>\n",
       "      <th>591</th>\n",
       "      <td>corbelia</td>\n",
       "      <td>br</td>\n",
       "    </tr>\n",
       "    <tr>\n",
       "      <th>592</th>\n",
       "      <td>portovelo</td>\n",
       "      <td>ec</td>\n",
       "    </tr>\n",
       "    <tr>\n",
       "      <th>593</th>\n",
       "      <td>tilichiki</td>\n",
       "      <td>ru</td>\n",
       "    </tr>\n",
       "    <tr>\n",
       "      <th>594</th>\n",
       "      <td>darhan</td>\n",
       "      <td>mn</td>\n",
       "    </tr>\n",
       "    <tr>\n",
       "      <th>595</th>\n",
       "      <td>henties bay</td>\n",
       "      <td>na</td>\n",
       "    </tr>\n",
       "  </tbody>\n",
       "</table>\n",
       "<p>596 rows × 2 columns</p>\n",
       "</div>"
      ],
      "text/plain": [
       "                 Name Country\n",
       "0             goundam      ml\n",
       "1    praia da vitoria      pt\n",
       "2              oboyan      ru\n",
       "3               alofi      nu\n",
       "4            bur gabo      so\n",
       "..                ...     ...\n",
       "591          corbelia      br\n",
       "592         portovelo      ec\n",
       "593         tilichiki      ru\n",
       "594            darhan      mn\n",
       "595       henties bay      na\n",
       "\n",
       "[596 rows x 2 columns]"
      ]
     },
     "execution_count": 48,
     "metadata": {},
     "output_type": "execute_result"
    }
   ],
   "source": [
    "#convert random lat and Long into city names via citipy nearest_city\n",
    "from citipy import citipy\n",
    "\n",
    "city_name =[]\n",
    "city_country = []\n",
    "\n",
    "\n",
    "for row in range(len(city_df)):\n",
    "    lati = city_df['lat'][row]\n",
    "    longi =city_df['long'][row]\n",
    "    \n",
    "    city = citipy.nearest_city(lati,longi)\n",
    "    \n",
    "    if city.city_name not in city_name:\n",
    "    \n",
    "        city_name.append(city.city_name)\n",
    "        city_country.append(city.country_code)\n",
    "        \n",
    "print(len(city_name), len(city_country))        \n",
    "\n",
    "data = {'Name': city_name, 'Country': city_country}\n",
    "\n",
    "city_df = pd.DataFrame(data)\n",
    "city_df"
   ]
  },
  {
   "cell_type": "code",
   "execution_count": null,
   "metadata": {},
   "outputs": [],
   "source": [
    "# more than 500 unique cities"
   ]
  },
  {
   "cell_type": "markdown",
   "metadata": {},
   "source": [
    "### Perform API Calls\n",
    "* Perform a weather check on each city using a series of successive API calls.\n",
    "* Include a print log of each city as it'sbeing processed (with the city number and city name).\n"
   ]
  },
  {
   "cell_type": "code",
   "execution_count": 49,
   "metadata": {
    "scrolled": true
   },
   "outputs": [
    {
     "name": "stdout",
     "output_type": "stream",
     "text": [
      "Successful request 0: for city goundam\n",
      "Successful request 1: for city praia da vitoria\n",
      "Successful request 2: for city oboyan\n",
      "Successful request 3: for city alofi\n",
      "Unsuccessful request 4: for city bur gabo\n",
      "Successful request 5: for city uyemskiy\n",
      "Successful request 6: for city khatanga\n",
      "Successful request 7: for city aklavik\n",
      "Successful request 8: for city butaritari\n",
      "Successful request 9: for city caravelas\n",
      "Successful request 10: for city salalah\n",
      "Successful request 11: for city hermanus\n",
      "Successful request 12: for city tabuk\n",
      "Successful request 13: for city talnakh\n",
      "Successful request 14: for city hithadhoo\n",
      "Successful request 15: for city itapirapua\n",
      "Successful request 16: for city vaini\n",
      "Successful request 17: for city lensk\n",
      "Successful request 18: for city srivardhan\n",
      "Successful request 19: for city rancho veloz\n",
      "Successful request 20: for city bafia\n",
      "Successful request 21: for city pecos\n",
      "Successful request 22: for city punta arenas\n",
      "Successful request 23: for city lebu\n",
      "Successful request 24: for city meadow lake\n",
      "Successful request 25: for city bathsheba\n",
      "Successful request 26: for city port elizabeth\n",
      "Unsuccessful request 27: for city barentsburg\n",
      "Unsuccessful request 28: for city safwah\n",
      "Successful request 29: for city bluff\n",
      "Successful request 30: for city kristiansund\n",
      "Successful request 31: for city cape town\n",
      "Successful request 32: for city carnarvon\n",
      "Successful request 33: for city saint-georges\n",
      "Successful request 34: for city kununurra\n",
      "Unsuccessful request 35: for city almajiu\n",
      "Successful request 36: for city sanmenxia\n",
      "Successful request 37: for city hobyo\n",
      "Successful request 38: for city saint-philippe\n",
      "Successful request 39: for city busselton\n",
      "Successful request 40: for city dikson\n",
      "Successful request 41: for city pastos bons\n",
      "Successful request 42: for city ribeira grande\n",
      "Successful request 43: for city chateauroux\n",
      "Unsuccessful request 44: for city mys shmidta\n",
      "Successful request 45: for city plyussa\n",
      "Successful request 46: for city svetlyy\n",
      "Successful request 47: for city mar del plata\n",
      "Successful request 48: for city iracoubo\n",
      "Successful request 49: for city yellowknife\n",
      "Successful request 50: for city ostrowiec swietokrzyski\n",
      "Successful request 51: for city rikitea\n",
      "Unsuccessful request 52: for city taolanaro\n",
      "Successful request 53: for city bengkulu\n",
      "Successful request 54: for city rocha\n",
      "Successful request 55: for city tuktoyaktuk\n",
      "Unsuccessful request 56: for city saleaula\n",
      "Successful request 57: for city puerto ayora\n",
      "Successful request 58: for city rantepao\n",
      "Successful request 59: for city avarua\n",
      "Successful request 60: for city ayorou\n",
      "Successful request 61: for city east london\n",
      "Successful request 62: for city lasa\n",
      "Successful request 63: for city biak\n",
      "Successful request 64: for city el tambo\n",
      "Successful request 65: for city maryville\n",
      "Successful request 66: for city chipinge\n",
      "Successful request 67: for city bilma\n",
      "Successful request 68: for city san quintin\n",
      "Successful request 69: for city kodiak\n",
      "Successful request 70: for city general pico\n",
      "Successful request 71: for city ustynivka\n",
      "Unsuccessful request 72: for city nguiu\n",
      "Successful request 73: for city new norfolk\n",
      "Successful request 74: for city teknaf\n",
      "Successful request 75: for city arraial do cabo\n",
      "Successful request 76: for city hillcrest heights\n",
      "Successful request 77: for city mlonggo\n",
      "Successful request 78: for city gwadar\n",
      "Successful request 79: for city georgetown\n",
      "Successful request 80: for city albany\n",
      "Successful request 81: for city ushuaia\n",
      "Successful request 82: for city barrow\n",
      "Successful request 83: for city contamana\n",
      "Successful request 84: for city kaitangata\n",
      "Unsuccessful request 85: for city tumannyy\n",
      "Successful request 86: for city port alfred\n",
      "Successful request 87: for city vanimo\n",
      "Successful request 88: for city codrington\n",
      "Successful request 89: for city muros\n",
      "Successful request 90: for city maningrida\n",
      "Successful request 91: for city hobart\n",
      "Successful request 92: for city ponta do sol\n",
      "Successful request 93: for city mataura\n",
      "Successful request 94: for city yerbogachen\n",
      "Successful request 95: for city vardo\n",
      "Successful request 96: for city carutapera\n",
      "Successful request 97: for city chapais\n",
      "Successful request 98: for city upernavik\n",
      "Successful request 99: for city tasiilaq\n",
      "Successful request 100: for city sao joao da barra\n",
      "Unsuccessful request 101: for city amderma\n",
      "Successful request 102: for city fukue\n",
      "Unsuccessful request 103: for city skjaerhollen\n",
      "Successful request 104: for city xuanhua\n",
      "Successful request 105: for city bredasdorp\n",
      "Successful request 106: for city samarinda\n",
      "Unsuccessful request 107: for city kazalinsk\n",
      "Unsuccessful request 108: for city tubruq\n",
      "Successful request 109: for city kismayo\n",
      "Successful request 110: for city sorland\n",
      "Successful request 111: for city mildura\n",
      "Successful request 112: for city casablanca\n",
      "Successful request 113: for city te anau\n",
      "Successful request 114: for city atuona\n",
      "Successful request 115: for city darnah\n",
      "Successful request 116: for city kagadi\n",
      "Successful request 117: for city lompoc\n",
      "Successful request 118: for city bambous virieux\n",
      "Successful request 119: for city honningsvag\n",
      "Successful request 120: for city hun\n",
      "Successful request 121: for city thurso\n",
      "Successful request 122: for city kedougou\n",
      "Successful request 123: for city dauphin\n",
      "Successful request 124: for city teguise\n",
      "Successful request 125: for city dudinka\n",
      "Successful request 126: for city moscow\n",
      "Successful request 127: for city itoman\n",
      "Successful request 128: for city saskylakh\n",
      "Successful request 129: for city shubarkuduk\n",
      "Unsuccessful request 130: for city zlatarica\n",
      "Successful request 131: for city khandyga\n",
      "Successful request 132: for city vestmannaeyjar\n",
      "Unsuccessful request 133: for city vaitupu\n",
      "Successful request 134: for city tigil\n",
      "Unsuccessful request 135: for city bokspits\n",
      "Successful request 136: for city avsyunino\n",
      "Unsuccessful request 137: for city belushya guba\n",
      "Successful request 138: for city hervey bay\n",
      "Successful request 139: for city cherskiy\n",
      "Successful request 140: for city provideniya\n",
      "Successful request 141: for city tessalit\n",
      "Successful request 142: for city ucluelet\n",
      "Successful request 143: for city mineros\n",
      "Successful request 144: for city hasaki\n",
      "Successful request 145: for city kutum\n",
      "Successful request 146: for city kibungo\n",
      "Successful request 147: for city longyan\n",
      "Successful request 148: for city half moon bay\n",
      "Successful request 149: for city teeli\n",
      "Successful request 150: for city yulara\n",
      "Unsuccessful request 151: for city yuzhno-yeniseyskiy\n",
      "Unsuccessful request 152: for city fevralsk\n",
      "Successful request 153: for city narsaq\n",
      "Successful request 154: for city chokurdakh\n",
      "Successful request 155: for city cabra\n",
      "Successful request 156: for city olafsvik\n",
      "Successful request 157: for city druzhba\n",
      "Successful request 158: for city iskateley\n",
      "Successful request 159: for city tuatapere\n",
      "Successful request 160: for city aykhal\n",
      "Successful request 161: for city urumqi\n",
      "Successful request 162: for city fortuna\n",
      "Successful request 163: for city macae\n",
      "Successful request 164: for city port lincoln\n",
      "Unsuccessful request 165: for city meyungs\n",
      "Successful request 166: for city sibolga\n",
      "Successful request 167: for city ixtapa\n",
      "Successful request 168: for city kozhevnikovo\n",
      "Successful request 169: for city eureka\n",
      "Successful request 170: for city haapiti\n",
      "Successful request 171: for city kamaishi\n",
      "Successful request 172: for city borogontsy\n",
      "Successful request 173: for city banda aceh\n",
      "Unsuccessful request 174: for city grand river south east\n",
      "Successful request 175: for city qaanaaq\n",
      "Successful request 176: for city hami\n",
      "Successful request 177: for city bellary\n",
      "Successful request 178: for city bahia blanca\n",
      "Successful request 179: for city zvishavane\n",
      "Successful request 180: for city riyadh\n",
      "Successful request 181: for city ewa beach\n",
      "Successful request 182: for city kapaa\n",
      "Successful request 183: for city chara\n",
      "Successful request 184: for city stephenville\n",
      "Successful request 185: for city bousso\n",
      "Successful request 186: for city deputatskiy\n",
      "Successful request 187: for city belmonte\n",
      "Successful request 188: for city nikolskoye\n",
      "Successful request 189: for city chuy\n",
      "Successful request 190: for city hilo\n",
      "Successful request 191: for city omboue\n",
      "Successful request 192: for city gravdal\n",
      "Successful request 193: for city binabalian\n",
      "Successful request 194: for city esperance\n"
     ]
    },
    {
     "name": "stdout",
     "output_type": "stream",
     "text": [
      "Successful request 195: for city cidreira\n",
      "Successful request 196: for city geraldton\n",
      "Successful request 197: for city kudahuvadhoo\n",
      "Successful request 198: for city nome\n",
      "Successful request 199: for city jamestown\n",
      "Successful request 200: for city george\n",
      "Successful request 201: for city maceio\n",
      "Successful request 202: for city puerto del rosario\n",
      "Successful request 203: for city ostrovnoy\n",
      "Successful request 204: for city nuuk\n",
      "Unsuccessful request 205: for city andselv\n",
      "Successful request 206: for city athabasca\n",
      "Successful request 207: for city kautokeino\n",
      "Successful request 208: for city jardim\n",
      "Successful request 209: for city kasumkent\n",
      "Successful request 210: for city bonoua\n",
      "Successful request 211: for city margate\n",
      "Successful request 212: for city nabire\n",
      "Successful request 213: for city sechura\n",
      "Successful request 214: for city ambon\n",
      "Unsuccessful request 215: for city tsihombe\n",
      "Successful request 216: for city cabo san lucas\n",
      "Successful request 217: for city walvis bay\n",
      "Successful request 218: for city cap malheureux\n",
      "Successful request 219: for city opuwo\n",
      "Successful request 220: for city luderitz\n",
      "Successful request 221: for city singaparna\n",
      "Successful request 222: for city pudozh\n",
      "Successful request 223: for city pevek\n",
      "Successful request 224: for city meulaboh\n",
      "Successful request 225: for city richards bay\n",
      "Successful request 226: for city paciran\n",
      "Unsuccessful request 227: for city ye\n",
      "Successful request 228: for city avera\n",
      "Successful request 229: for city the valley\n",
      "Successful request 230: for city navahrudak\n",
      "Successful request 231: for city amli\n",
      "Successful request 232: for city tucuman\n",
      "Successful request 233: for city isangel\n",
      "Successful request 234: for city husavik\n",
      "Successful request 235: for city pacific grove\n",
      "Successful request 236: for city wad madani\n",
      "Successful request 237: for city kruisfontein\n",
      "Successful request 238: for city drabiv\n",
      "Successful request 239: for city komatipoort\n",
      "Successful request 240: for city caraz\n",
      "Successful request 241: for city sola\n",
      "Successful request 242: for city touros\n",
      "Unsuccessful request 243: for city rolim de moura\n",
      "Successful request 244: for city muisne\n",
      "Successful request 245: for city lavrentiya\n",
      "Successful request 246: for city el campo\n",
      "Successful request 247: for city acajutla\n",
      "Successful request 248: for city high rock\n",
      "Successful request 249: for city gillette\n",
      "Successful request 250: for city mae hong son\n",
      "Successful request 251: for city outram\n",
      "Successful request 252: for city baijiantan\n",
      "Successful request 253: for city torbay\n",
      "Successful request 254: for city namibe\n",
      "Unsuccessful request 255: for city nizhneyansk\n",
      "Successful request 256: for city filimonovo\n",
      "Successful request 257: for city simao\n",
      "Successful request 258: for city vostok\n",
      "Unsuccessful request 259: for city illoqqortoormiut\n",
      "Successful request 260: for city haines junction\n",
      "Successful request 261: for city ust-tsilma\n",
      "Unsuccessful request 262: for city rungata\n",
      "Unsuccessful request 263: for city marcona\n",
      "Successful request 264: for city guane\n",
      "Successful request 265: for city port arthur\n",
      "Successful request 266: for city yumen\n",
      "Unsuccessful request 267: for city khomeynishahr\n",
      "Successful request 268: for city kalmunai\n",
      "Successful request 269: for city laguna\n",
      "Successful request 270: for city paso de los toros\n",
      "Successful request 271: for city balsas\n",
      "Successful request 272: for city havre-saint-pierre\n",
      "Unsuccessful request 273: for city asayita\n",
      "Successful request 274: for city namwala\n",
      "Successful request 275: for city skibotn\n",
      "Successful request 276: for city barahona\n",
      "Successful request 277: for city asau\n",
      "Successful request 278: for city zlitan\n",
      "Unsuccessful request 279: for city tartki\n",
      "Successful request 280: for city mayo\n",
      "Successful request 281: for city caconda\n",
      "Successful request 282: for city hualmay\n",
      "Successful request 283: for city port hedland\n",
      "Successful request 284: for city kijang\n",
      "Successful request 285: for city kiunga\n",
      "Successful request 286: for city shache\n",
      "Successful request 287: for city port hardy\n",
      "Unsuccessful request 288: for city qandahar\n",
      "Successful request 289: for city shimoda\n",
      "Successful request 290: for city vao\n",
      "Successful request 291: for city okhotsk\n",
      "Successful request 292: for city tiksi\n",
      "Successful request 293: for city clyde river\n",
      "Successful request 294: for city kyrylivka\n",
      "Successful request 295: for city atambua\n",
      "Successful request 296: for city hirara\n",
      "Successful request 297: for city antalaha\n",
      "Successful request 298: for city flinders\n",
      "Successful request 299: for city luganville\n",
      "Successful request 300: for city norman wells\n",
      "Unsuccessful request 301: for city satitoa\n",
      "Successful request 302: for city kavieng\n",
      "Successful request 303: for city wilmington\n",
      "Successful request 304: for city el alto\n",
      "Successful request 305: for city sitka\n",
      "Successful request 306: for city camalu\n",
      "Successful request 307: for city benguela\n",
      "Successful request 308: for city strezhevoy\n",
      "Successful request 309: for city mehamn\n",
      "Successful request 310: for city severo-kurilsk\n",
      "Successful request 311: for city nelson bay\n",
      "Successful request 312: for city guerrero negro\n",
      "Successful request 313: for city airai\n",
      "Successful request 314: for city maniitsoq\n",
      "Successful request 315: for city plettenberg bay\n",
      "Successful request 316: for city ancud\n",
      "Successful request 317: for city morrope\n",
      "Successful request 318: for city monte alto\n",
      "Successful request 319: for city lorengau\n",
      "Successful request 320: for city beidao\n",
      "Successful request 321: for city mecca\n",
      "Successful request 322: for city ingham\n",
      "Successful request 323: for city nador\n",
      "Successful request 324: for city khorixas\n",
      "Successful request 325: for city karratha\n",
      "Successful request 326: for city sao filipe\n",
      "Successful request 327: for city mackay\n",
      "Successful request 328: for city inhambane\n",
      "Successful request 329: for city yarim\n",
      "Successful request 330: for city kindersley\n",
      "Unsuccessful request 331: for city dzhusaly\n",
      "Successful request 332: for city mount gambier\n",
      "Successful request 333: for city san cristobal\n",
      "Successful request 334: for city saldanha\n",
      "Successful request 335: for city shikhazany\n",
      "Successful request 336: for city pervomayskoye\n",
      "Successful request 337: for city sao miguel do tapuio\n",
      "Successful request 338: for city umm lajj\n",
      "Successful request 339: for city raudeberg\n",
      "Successful request 340: for city saint george\n",
      "Successful request 341: for city kirkwall\n",
      "Successful request 342: for city west wendover\n",
      "Successful request 343: for city oro valley\n",
      "Successful request 344: for city castro\n",
      "Successful request 345: for city pemba\n",
      "Successful request 346: for city hwange\n",
      "Successful request 347: for city anloga\n",
      "Successful request 348: for city saint anthony\n",
      "Successful request 349: for city dano\n",
      "Successful request 350: for city maragogi\n",
      "Successful request 351: for city cusuna\n",
      "Successful request 352: for city christchurch\n",
      "Unsuccessful request 353: for city sogdiondon\n",
      "Successful request 354: for city bayangol\n",
      "Successful request 355: for city puerto escondido\n",
      "Successful request 356: for city broken hill\n",
      "Successful request 357: for city wagga wagga\n",
      "Successful request 358: for city neuquen\n",
      "Successful request 359: for city vysokogornyy\n",
      "Unsuccessful request 360: for city sento se\n",
      "Successful request 361: for city lata\n",
      "Successful request 362: for city bethel\n",
      "Successful request 363: for city najran\n",
      "Successful request 364: for city awbari\n",
      "Successful request 365: for city lufilufi\n",
      "Successful request 366: for city cayenne\n",
      "Successful request 367: for city havoysund\n",
      "Successful request 368: for city elizabeth city\n",
      "Successful request 369: for city harper\n",
      "Successful request 370: for city nisia floresta\n",
      "Successful request 371: for city kahului\n",
      "Successful request 372: for city poltavka\n",
      "Successful request 373: for city hambantota\n",
      "Successful request 374: for city asosa\n",
      "Successful request 375: for city kipen\n",
      "Successful request 376: for city college\n",
      "Successful request 377: for city mahebourg\n",
      "Successful request 378: for city kuytun\n",
      "Successful request 379: for city tiznit\n",
      "Successful request 380: for city tazovskiy\n",
      "Unsuccessful request 381: for city labutta\n",
      "Successful request 382: for city constitucion\n",
      "Successful request 383: for city fayaoue\n",
      "Successful request 384: for city faya\n",
      "Successful request 385: for city frontignan\n",
      "Successful request 386: for city sioux lookout\n",
      "Successful request 387: for city eenhana\n"
     ]
    },
    {
     "name": "stdout",
     "output_type": "stream",
     "text": [
      "Successful request 388: for city san patricio\n",
      "Successful request 389: for city bambanglipuro\n",
      "Successful request 390: for city conde\n",
      "Unsuccessful request 391: for city sentyabrskiy\n",
      "Successful request 392: for city clyde\n",
      "Successful request 393: for city wuning\n",
      "Successful request 394: for city plouzane\n",
      "Successful request 395: for city taoudenni\n",
      "Successful request 396: for city jiayuguan\n",
      "Successful request 397: for city victoria\n",
      "Successful request 398: for city pemangkat\n",
      "Unsuccessful request 399: for city attawapiskat\n",
      "Successful request 400: for city souillac\n",
      "Successful request 401: for city ilulissat\n",
      "Successful request 402: for city dinanagar\n",
      "Successful request 403: for city tautira\n",
      "Successful request 404: for city anchorage\n",
      "Unsuccessful request 405: for city abu jubayhah\n",
      "Successful request 406: for city pertuis\n",
      "Successful request 407: for city diego de almagro\n",
      "Successful request 408: for city brownfield\n",
      "Successful request 409: for city faanui\n",
      "Successful request 410: for city san jeronimo\n",
      "Successful request 411: for city fairbanks\n",
      "Successful request 412: for city belaya gora\n",
      "Successful request 413: for city broome\n",
      "Successful request 414: for city labuhan\n",
      "Successful request 415: for city kysyl-syr\n",
      "Successful request 416: for city dongsheng\n",
      "Successful request 417: for city coquimbo\n",
      "Successful request 418: for city puerto leguizamo\n",
      "Unsuccessful request 419: for city stoyba\n",
      "Successful request 420: for city paita\n",
      "Successful request 421: for city saint-joseph\n",
      "Successful request 422: for city biryusinsk\n",
      "Successful request 423: for city hamtic\n",
      "Successful request 424: for city bugene\n",
      "Successful request 425: for city siteki\n",
      "Successful request 426: for city great yarmouth\n",
      "Successful request 427: for city mossendjo\n",
      "Successful request 428: for city gandzak\n",
      "Successful request 429: for city zhob\n",
      "Successful request 430: for city nouadhibou\n",
      "Successful request 431: for city gizo\n",
      "Successful request 432: for city gympie\n",
      "Successful request 433: for city ankang\n",
      "Successful request 434: for city hamilton\n",
      "Successful request 435: for city didwana\n",
      "Successful request 436: for city snina\n",
      "Successful request 437: for city mogadishu\n",
      "Successful request 438: for city bowen\n",
      "Successful request 439: for city grand-santi\n",
      "Successful request 440: for city port augusta\n",
      "Successful request 441: for city envira\n",
      "Successful request 442: for city axim\n",
      "Successful request 443: for city verkhnevilyuysk\n",
      "Successful request 444: for city sinazongwe\n",
      "Successful request 445: for city solnechnyy\n",
      "Successful request 446: for city yokadouma\n",
      "Successful request 447: for city komsomolskiy\n",
      "Successful request 448: for city bosilegrad\n",
      "Successful request 449: for city ballina\n",
      "Successful request 450: for city lagoa\n",
      "Successful request 451: for city nanortalik\n",
      "Successful request 452: for city linjiang\n",
      "Unsuccessful request 453: for city samalaeulu\n",
      "Successful request 454: for city zaria\n",
      "Successful request 455: for city portland\n",
      "Successful request 456: for city winnemucca\n",
      "Successful request 457: for city guantanamo\n",
      "Successful request 458: for city prado\n",
      "Successful request 459: for city sao joao do piaui\n",
      "Successful request 460: for city puerto baquerizo moreno\n",
      "Successful request 461: for city biscarrosse\n",
      "Successful request 462: for city kangaatsiaq\n",
      "Successful request 463: for city bani walid\n",
      "Successful request 464: for city dingle\n",
      "Successful request 465: for city ullapool\n",
      "Successful request 466: for city adjumani\n",
      "Successful request 467: for city terenos\n",
      "Successful request 468: for city erzin\n",
      "Successful request 469: for city flin flon\n",
      "Successful request 470: for city beringovskiy\n",
      "Successful request 471: for city kisangani\n",
      "Successful request 472: for city miles city\n",
      "Successful request 473: for city necochea\n",
      "Successful request 474: for city klaksvik\n",
      "Successful request 475: for city leningradskiy\n",
      "Successful request 476: for city turayf\n",
      "Successful request 477: for city dafeng\n",
      "Successful request 478: for city takoradi\n",
      "Successful request 479: for city tura\n",
      "Successful request 480: for city naze\n",
      "Successful request 481: for city zhigansk\n",
      "Successful request 482: for city wonthaggi\n",
      "Successful request 483: for city thompson\n",
      "Successful request 484: for city oktyabrskoye\n",
      "Successful request 485: for city quatre cocos\n",
      "Successful request 486: for city calbuco\n",
      "Successful request 487: for city pervomayskiy\n",
      "Successful request 488: for city shenzhen\n",
      "Successful request 489: for city verkhoyansk\n",
      "Successful request 490: for city lucea\n",
      "Successful request 491: for city basco\n",
      "Successful request 492: for city rio gallegos\n",
      "Successful request 493: for city oriximina\n",
      "Successful request 494: for city puerto cabezas\n",
      "Successful request 495: for city yamada\n",
      "Successful request 496: for city kaeo\n",
      "Successful request 497: for city batemans bay\n",
      "Successful request 498: for city morondava\n",
      "Successful request 499: for city bilibino\n",
      "Successful request 500: for city anavra\n",
      "Successful request 501: for city youkounkoun\n",
      "Unsuccessful request 502: for city halalo\n",
      "Successful request 503: for city los llanos de aridane\n",
      "Successful request 504: for city tukrah\n",
      "Successful request 505: for city athy\n",
      "Successful request 506: for city dongdu\n",
      "Successful request 507: for city whitianga\n",
      "Successful request 508: for city klyuchi\n",
      "Successful request 509: for city cubuk\n",
      "Unsuccessful request 510: for city sungay\n",
      "Successful request 511: for city namalenga\n",
      "Successful request 512: for city poopo\n",
      "Successful request 513: for city porto seguro\n",
      "Successful request 514: for city farap\n",
      "Successful request 515: for city arman\n",
      "Successful request 516: for city raga\n",
      "Successful request 517: for city peski\n",
      "Successful request 518: for city longonjo\n",
      "Successful request 519: for city vierzon\n",
      "Successful request 520: for city san andres\n",
      "Successful request 521: for city galesong\n",
      "Successful request 522: for city davila\n",
      "Unsuccessful request 523: for city kamenskoye\n",
      "Successful request 524: for city marawi\n",
      "Successful request 525: for city westport\n",
      "Unsuccessful request 526: for city maloshuyka\n",
      "Successful request 527: for city smithers\n",
      "Successful request 528: for city harer\n",
      "Successful request 529: for city samarai\n",
      "Successful request 530: for city casa grande\n",
      "Successful request 531: for city nyrob\n",
      "Successful request 532: for city catamarca\n",
      "Successful request 533: for city orlovskiy\n",
      "Successful request 534: for city redcar\n",
      "Successful request 535: for city barsovo\n",
      "Successful request 536: for city luancheng\n",
      "Successful request 537: for city la baule-escoublac\n",
      "Successful request 538: for city shahr-e kord\n",
      "Successful request 539: for city los reyes\n",
      "Successful request 540: for city lazaro cardenas\n",
      "Successful request 541: for city slave lake\n",
      "Successful request 542: for city buala\n",
      "Unsuccessful request 543: for city karauzyak\n",
      "Unsuccessful request 544: for city ngukurr\n",
      "Successful request 545: for city doka\n",
      "Successful request 546: for city manubul\n",
      "Successful request 547: for city jiwani\n",
      "Successful request 548: for city mbandaka\n",
      "Successful request 549: for city calvillo\n",
      "Successful request 550: for city santa cruz\n",
      "Successful request 551: for city namatanai\n",
      "Successful request 552: for city nuevo progreso\n",
      "Successful request 553: for city atar\n",
      "Unsuccessful request 554: for city solovetskiy\n",
      "Successful request 555: for city komsomolets\n",
      "Successful request 556: for city cefalu\n",
      "Successful request 557: for city huntington\n",
      "Successful request 558: for city acapetahua\n",
      "Successful request 559: for city west plains\n",
      "Successful request 560: for city saint-francois\n",
      "Successful request 561: for city luanda\n",
      "Successful request 562: for city martapura\n",
      "Successful request 563: for city pedasi\n",
      "Successful request 564: for city brunswick\n",
      "Successful request 565: for city durant\n",
      "Successful request 566: for city howard springs\n",
      "Successful request 567: for city ulladulla\n",
      "Successful request 568: for city hue\n",
      "Successful request 569: for city evensk\n",
      "Successful request 570: for city la asuncion\n",
      "Unsuccessful request 571: for city tawkar\n",
      "Successful request 572: for city khovu-aksy\n",
      "Successful request 573: for city hofn\n",
      "Successful request 574: for city burriana\n",
      "Successful request 575: for city porto novo\n",
      "Successful request 576: for city jalu\n",
      "Successful request 577: for city requena\n",
      "Successful request 578: for city danjiangkou\n",
      "Successful request 579: for city longyearbyen\n"
     ]
    },
    {
     "name": "stdout",
     "output_type": "stream",
     "text": [
      "Successful request 580: for city warmbad\n",
      "Successful request 581: for city albion\n",
      "Unsuccessful request 582: for city warqla\n",
      "Successful request 583: for city vilyuysk\n",
      "Successful request 584: for city jacareacanga\n",
      "Successful request 585: for city cairns\n",
      "Successful request 586: for city ketchikan\n",
      "Successful request 587: for city kuala terengganu\n",
      "Successful request 588: for city aswan\n",
      "Unsuccessful request 589: for city skalistyy\n",
      "Successful request 590: for city waipawa\n",
      "Successful request 591: for city corbelia\n",
      "Successful request 592: for city portovelo\n",
      "Successful request 593: for city tilichiki\n",
      "Successful request 594: for city darhan\n",
      "Successful request 595: for city henties bay\n"
     ]
    }
   ],
   "source": [
    "#take city data and use Google API to find city data\n",
    "\n",
    "#url basic point  api.openweathermap.org/data/2.5/weather?q={city name}&appid={API key}\n",
    "url = f'api.openweathermap.org/data/2.5/weather?q='\n",
    "key = api_key\n",
    "\n",
    "# lists to store the data from the api calls\n",
    "max_temp =[]\n",
    "humidity = []\n",
    "cloudiness = []\n",
    "wind_speed = []\n",
    "date_rec = []\n",
    "real_lat = []\n",
    "real_long = []\n",
    "\n",
    "# api call and data pulls\n",
    "for row in range(len(city_df)):\n",
    "   \n",
    "    city_qname =  city_df['Name'][row] \n",
    "    query_url = f'http://{url}{city_qname}&units=imperial&appid={key}'\n",
    "    time.sleep(1)\n",
    "    try:\n",
    "        data = requests.get(query_url).json()\n",
    "        #print(city_name[row], max_temp, humidity, cloudiness, wind_speed)\n",
    "        #pprint(data)\n",
    "        max_temp.append(float(data['main']['temp_max']))\n",
    "        humidity.append(float(data['main']['humidity']))\n",
    "        cloudiness.append(float(data['clouds']['all']))\n",
    "        wind_speed.append(float(data['wind']['speed']))\n",
    "        real_lat.append(float(data['coord']['lat']))\n",
    "        real_long.append(float(data['coord']['lon']))\n",
    "        date_rec.append(int(data['dt']))\n",
    "        print(f'Successful request {row}: for city {city_qname}')\n",
    "    except: \n",
    "        print(f'Unsuccessful request {row}: for city {city_qname}')\n",
    "        max_temp.append(\"NA\")\n",
    "        humidity.append(\"NA\")\n",
    "        cloudiness.append(\"NA\")\n",
    "        wind_speed.append(\"NA\")\n",
    "        real_lat.append(\"NA\")\n",
    "        real_long.append(\"NA\")\n",
    "        date_rec.append(\"NA\")\n",
    "        \n",
    "city_df['Max temp'] = max_temp\n",
    "city_df['Humidity'] = humidity        \n",
    "city_df['Cloudiness'] = cloudiness    \n",
    "city_df['Wind Speed'] = wind_speed \n",
    "city_df['Real Lat'] = real_lat \n",
    "city_df['Real Long'] = real_long\n",
    "city_df['Date Rec'] = date_rec  \n",
    "\n",
    "\n"
   ]
  },
  {
   "cell_type": "code",
   "execution_count": 50,
   "metadata": {},
   "outputs": [
    {
     "data": {
      "text/html": [
       "<div>\n",
       "<style scoped>\n",
       "    .dataframe tbody tr th:only-of-type {\n",
       "        vertical-align: middle;\n",
       "    }\n",
       "\n",
       "    .dataframe tbody tr th {\n",
       "        vertical-align: top;\n",
       "    }\n",
       "\n",
       "    .dataframe thead th {\n",
       "        text-align: right;\n",
       "    }\n",
       "</style>\n",
       "<table border=\"1\" class=\"dataframe\">\n",
       "  <thead>\n",
       "    <tr style=\"text-align: right;\">\n",
       "      <th></th>\n",
       "      <th>Name</th>\n",
       "      <th>Country</th>\n",
       "      <th>Max temp</th>\n",
       "      <th>Humidity</th>\n",
       "      <th>Cloudiness</th>\n",
       "      <th>Wind Speed</th>\n",
       "      <th>Real Lat</th>\n",
       "      <th>Real Long</th>\n",
       "      <th>Date Rec</th>\n",
       "    </tr>\n",
       "  </thead>\n",
       "  <tbody>\n",
       "    <tr>\n",
       "      <th>0</th>\n",
       "      <td>goundam</td>\n",
       "      <td>ml</td>\n",
       "      <td>83.46</td>\n",
       "      <td>14</td>\n",
       "      <td>0</td>\n",
       "      <td>6.08</td>\n",
       "      <td>16.41</td>\n",
       "      <td>-3.67</td>\n",
       "      <td>1603847433</td>\n",
       "    </tr>\n",
       "    <tr>\n",
       "      <th>1</th>\n",
       "      <td>praia da vitoria</td>\n",
       "      <td>pt</td>\n",
       "      <td>62.6</td>\n",
       "      <td>72</td>\n",
       "      <td>75</td>\n",
       "      <td>5.93</td>\n",
       "      <td>38.73</td>\n",
       "      <td>-27.07</td>\n",
       "      <td>1603847434</td>\n",
       "    </tr>\n",
       "    <tr>\n",
       "      <th>2</th>\n",
       "      <td>oboyan</td>\n",
       "      <td>ru</td>\n",
       "      <td>39.2</td>\n",
       "      <td>80</td>\n",
       "      <td>0</td>\n",
       "      <td>11.18</td>\n",
       "      <td>51.21</td>\n",
       "      <td>36.28</td>\n",
       "      <td>1603847436</td>\n",
       "    </tr>\n",
       "    <tr>\n",
       "      <th>3</th>\n",
       "      <td>alofi</td>\n",
       "      <td>nu</td>\n",
       "      <td>78.8</td>\n",
       "      <td>69</td>\n",
       "      <td>40</td>\n",
       "      <td>19.46</td>\n",
       "      <td>-19.06</td>\n",
       "      <td>-169.92</td>\n",
       "      <td>1603847287</td>\n",
       "    </tr>\n",
       "    <tr>\n",
       "      <th>4</th>\n",
       "      <td>bur gabo</td>\n",
       "      <td>so</td>\n",
       "      <td>NA</td>\n",
       "      <td>NA</td>\n",
       "      <td>NA</td>\n",
       "      <td>NA</td>\n",
       "      <td>NA</td>\n",
       "      <td>NA</td>\n",
       "      <td>NA</td>\n",
       "    </tr>\n",
       "    <tr>\n",
       "      <th>...</th>\n",
       "      <td>...</td>\n",
       "      <td>...</td>\n",
       "      <td>...</td>\n",
       "      <td>...</td>\n",
       "      <td>...</td>\n",
       "      <td>...</td>\n",
       "      <td>...</td>\n",
       "      <td>...</td>\n",
       "      <td>...</td>\n",
       "    </tr>\n",
       "    <tr>\n",
       "      <th>591</th>\n",
       "      <td>corbelia</td>\n",
       "      <td>br</td>\n",
       "      <td>62.38</td>\n",
       "      <td>65</td>\n",
       "      <td>0</td>\n",
       "      <td>3.91</td>\n",
       "      <td>-24.8</td>\n",
       "      <td>-53.31</td>\n",
       "      <td>1603848081</td>\n",
       "    </tr>\n",
       "    <tr>\n",
       "      <th>592</th>\n",
       "      <td>portovelo</td>\n",
       "      <td>ec</td>\n",
       "      <td>70.95</td>\n",
       "      <td>74</td>\n",
       "      <td>100</td>\n",
       "      <td>1.79</td>\n",
       "      <td>-3.72</td>\n",
       "      <td>-79.62</td>\n",
       "      <td>1603848082</td>\n",
       "    </tr>\n",
       "    <tr>\n",
       "      <th>593</th>\n",
       "      <td>tilichiki</td>\n",
       "      <td>ru</td>\n",
       "      <td>26.46</td>\n",
       "      <td>89</td>\n",
       "      <td>7</td>\n",
       "      <td>9.78</td>\n",
       "      <td>60.47</td>\n",
       "      <td>166.1</td>\n",
       "      <td>1603848039</td>\n",
       "    </tr>\n",
       "    <tr>\n",
       "      <th>594</th>\n",
       "      <td>darhan</td>\n",
       "      <td>mn</td>\n",
       "      <td>32.34</td>\n",
       "      <td>84</td>\n",
       "      <td>0</td>\n",
       "      <td>5.99</td>\n",
       "      <td>49.49</td>\n",
       "      <td>105.92</td>\n",
       "      <td>1603848085</td>\n",
       "    </tr>\n",
       "    <tr>\n",
       "      <th>595</th>\n",
       "      <td>henties bay</td>\n",
       "      <td>na</td>\n",
       "      <td>59</td>\n",
       "      <td>88</td>\n",
       "      <td>97</td>\n",
       "      <td>6.24</td>\n",
       "      <td>-22.12</td>\n",
       "      <td>14.28</td>\n",
       "      <td>1603848070</td>\n",
       "    </tr>\n",
       "  </tbody>\n",
       "</table>\n",
       "<p>596 rows × 9 columns</p>\n",
       "</div>"
      ],
      "text/plain": [
       "                 Name Country Max temp Humidity Cloudiness Wind Speed  \\\n",
       "0             goundam      ml    83.46       14          0       6.08   \n",
       "1    praia da vitoria      pt     62.6       72         75       5.93   \n",
       "2              oboyan      ru     39.2       80          0      11.18   \n",
       "3               alofi      nu     78.8       69         40      19.46   \n",
       "4            bur gabo      so       NA       NA         NA         NA   \n",
       "..                ...     ...      ...      ...        ...        ...   \n",
       "591          corbelia      br    62.38       65          0       3.91   \n",
       "592         portovelo      ec    70.95       74        100       1.79   \n",
       "593         tilichiki      ru    26.46       89          7       9.78   \n",
       "594            darhan      mn    32.34       84          0       5.99   \n",
       "595       henties bay      na       59       88         97       6.24   \n",
       "\n",
       "    Real Lat Real Long    Date Rec  \n",
       "0      16.41     -3.67  1603847433  \n",
       "1      38.73    -27.07  1603847434  \n",
       "2      51.21     36.28  1603847436  \n",
       "3     -19.06   -169.92  1603847287  \n",
       "4         NA        NA          NA  \n",
       "..       ...       ...         ...  \n",
       "591    -24.8    -53.31  1603848081  \n",
       "592    -3.72    -79.62  1603848082  \n",
       "593    60.47     166.1  1603848039  \n",
       "594    49.49    105.92  1603848085  \n",
       "595   -22.12     14.28  1603848070  \n",
       "\n",
       "[596 rows x 9 columns]"
      ]
     },
     "execution_count": 50,
     "metadata": {},
     "output_type": "execute_result"
    }
   ],
   "source": [
    "city_df"
   ]
  },
  {
   "cell_type": "code",
   "execution_count": 51,
   "metadata": {
    "scrolled": false
   },
   "outputs": [
    {
     "data": {
      "text/html": [
       "<div>\n",
       "<style scoped>\n",
       "    .dataframe tbody tr th:only-of-type {\n",
       "        vertical-align: middle;\n",
       "    }\n",
       "\n",
       "    .dataframe tbody tr th {\n",
       "        vertical-align: top;\n",
       "    }\n",
       "\n",
       "    .dataframe thead th {\n",
       "        text-align: right;\n",
       "    }\n",
       "</style>\n",
       "<table border=\"1\" class=\"dataframe\">\n",
       "  <thead>\n",
       "    <tr style=\"text-align: right;\">\n",
       "      <th></th>\n",
       "      <th>Name</th>\n",
       "      <th>Country</th>\n",
       "      <th>Max temp</th>\n",
       "      <th>Humidity</th>\n",
       "      <th>Cloudiness</th>\n",
       "      <th>Wind Speed</th>\n",
       "      <th>Real Lat</th>\n",
       "      <th>Real Long</th>\n",
       "      <th>Date Rec</th>\n",
       "    </tr>\n",
       "  </thead>\n",
       "  <tbody>\n",
       "    <tr>\n",
       "      <th>0</th>\n",
       "      <td>goundam</td>\n",
       "      <td>ml</td>\n",
       "      <td>83.46</td>\n",
       "      <td>14</td>\n",
       "      <td>0</td>\n",
       "      <td>6.08</td>\n",
       "      <td>16.41</td>\n",
       "      <td>-3.67</td>\n",
       "      <td>1603847433</td>\n",
       "    </tr>\n",
       "    <tr>\n",
       "      <th>1</th>\n",
       "      <td>praia da vitoria</td>\n",
       "      <td>pt</td>\n",
       "      <td>62.6</td>\n",
       "      <td>72</td>\n",
       "      <td>75</td>\n",
       "      <td>5.93</td>\n",
       "      <td>38.73</td>\n",
       "      <td>-27.07</td>\n",
       "      <td>1603847434</td>\n",
       "    </tr>\n",
       "    <tr>\n",
       "      <th>2</th>\n",
       "      <td>oboyan</td>\n",
       "      <td>ru</td>\n",
       "      <td>39.2</td>\n",
       "      <td>80</td>\n",
       "      <td>0</td>\n",
       "      <td>11.18</td>\n",
       "      <td>51.21</td>\n",
       "      <td>36.28</td>\n",
       "      <td>1603847436</td>\n",
       "    </tr>\n",
       "    <tr>\n",
       "      <th>3</th>\n",
       "      <td>alofi</td>\n",
       "      <td>nu</td>\n",
       "      <td>78.8</td>\n",
       "      <td>69</td>\n",
       "      <td>40</td>\n",
       "      <td>19.46</td>\n",
       "      <td>-19.06</td>\n",
       "      <td>-169.92</td>\n",
       "      <td>1603847287</td>\n",
       "    </tr>\n",
       "    <tr>\n",
       "      <th>4</th>\n",
       "      <td>bur gabo</td>\n",
       "      <td>so</td>\n",
       "      <td>NA</td>\n",
       "      <td>NA</td>\n",
       "      <td>NA</td>\n",
       "      <td>NA</td>\n",
       "      <td>NA</td>\n",
       "      <td>NA</td>\n",
       "      <td>NA</td>\n",
       "    </tr>\n",
       "  </tbody>\n",
       "</table>\n",
       "</div>"
      ],
      "text/plain": [
       "               Name Country Max temp Humidity Cloudiness Wind Speed Real Lat  \\\n",
       "0           goundam      ml    83.46       14          0       6.08    16.41   \n",
       "1  praia da vitoria      pt     62.6       72         75       5.93    38.73   \n",
       "2            oboyan      ru     39.2       80          0      11.18    51.21   \n",
       "3             alofi      nu     78.8       69         40      19.46   -19.06   \n",
       "4          bur gabo      so       NA       NA         NA         NA       NA   \n",
       "\n",
       "  Real Long    Date Rec  \n",
       "0     -3.67  1603847433  \n",
       "1    -27.07  1603847434  \n",
       "2     36.28  1603847436  \n",
       "3   -169.92  1603847287  \n",
       "4        NA          NA  "
      ]
     },
     "execution_count": 51,
     "metadata": {},
     "output_type": "execute_result"
    }
   ],
   "source": [
    "city2_df = pd.DataFrame(city_df)\n",
    "city2_df.head()"
   ]
  },
  {
   "cell_type": "code",
   "execution_count": 53,
   "metadata": {},
   "outputs": [
    {
     "name": "stdout",
     "output_type": "stream",
     "text": [
      "596\n"
     ]
    }
   ],
   "source": [
    "# reorder the columns of the city with weather dataframe\n",
    "city2_df = city2_df[['Name','Country', 'Real Lat', 'Real Long', 'Max temp', 'Humidity', 'Cloudiness', 'Wind Speed', 'Date Rec']]\n",
    "\n",
    "print(len(city2_df))\n"
   ]
  },
  {
   "cell_type": "markdown",
   "metadata": {},
   "source": [
    "### Convert Raw Data to DataFrame\n",
    "* Export the city data into a .csv.\n",
    "* Display the DataFrame"
   ]
  },
  {
   "cell_type": "code",
   "execution_count": 70,
   "metadata": {},
   "outputs": [
    {
     "name": "stdout",
     "output_type": "stream",
     "text": [
      "None\n"
     ]
    }
   ],
   "source": [
    "# Clean table - drop NA, duplicate cities\n",
    "\n",
    "my_varName = city2_df.dropna(inplace=True)\n",
    "print(my_varName)\n",
    "\n",
    "#city2_df.drop_duplicates()\n",
    "\n",
    "#len(city2_df)\n"
   ]
  },
  {
   "cell_type": "code",
   "execution_count": 71,
   "metadata": {},
   "outputs": [
    {
     "data": {
      "text/html": [
       "<div>\n",
       "<style scoped>\n",
       "    .dataframe tbody tr th:only-of-type {\n",
       "        vertical-align: middle;\n",
       "    }\n",
       "\n",
       "    .dataframe tbody tr th {\n",
       "        vertical-align: top;\n",
       "    }\n",
       "\n",
       "    .dataframe thead th {\n",
       "        text-align: right;\n",
       "    }\n",
       "</style>\n",
       "<table border=\"1\" class=\"dataframe\">\n",
       "  <thead>\n",
       "    <tr style=\"text-align: right;\">\n",
       "      <th></th>\n",
       "      <th>Name</th>\n",
       "      <th>Country</th>\n",
       "      <th>Real Lat</th>\n",
       "      <th>Real Long</th>\n",
       "      <th>Max temp</th>\n",
       "      <th>Humidity</th>\n",
       "      <th>Cloudiness</th>\n",
       "      <th>Wind Speed</th>\n",
       "      <th>Date Rec</th>\n",
       "    </tr>\n",
       "  </thead>\n",
       "  <tbody>\n",
       "    <tr>\n",
       "      <th>0</th>\n",
       "      <td>goundam</td>\n",
       "      <td>ml</td>\n",
       "      <td>16.41</td>\n",
       "      <td>-3.67</td>\n",
       "      <td>83.46</td>\n",
       "      <td>14.0</td>\n",
       "      <td>0.0</td>\n",
       "      <td>6.08</td>\n",
       "      <td>1603847433</td>\n",
       "    </tr>\n",
       "    <tr>\n",
       "      <th>1</th>\n",
       "      <td>praia da vitoria</td>\n",
       "      <td>pt</td>\n",
       "      <td>38.73</td>\n",
       "      <td>-27.07</td>\n",
       "      <td>62.60</td>\n",
       "      <td>72.0</td>\n",
       "      <td>75.0</td>\n",
       "      <td>5.93</td>\n",
       "      <td>1603847434</td>\n",
       "    </tr>\n",
       "    <tr>\n",
       "      <th>2</th>\n",
       "      <td>oboyan</td>\n",
       "      <td>ru</td>\n",
       "      <td>51.21</td>\n",
       "      <td>36.28</td>\n",
       "      <td>39.20</td>\n",
       "      <td>80.0</td>\n",
       "      <td>0.0</td>\n",
       "      <td>11.18</td>\n",
       "      <td>1603847436</td>\n",
       "    </tr>\n",
       "    <tr>\n",
       "      <th>3</th>\n",
       "      <td>alofi</td>\n",
       "      <td>nu</td>\n",
       "      <td>-19.06</td>\n",
       "      <td>-169.92</td>\n",
       "      <td>78.80</td>\n",
       "      <td>69.0</td>\n",
       "      <td>40.0</td>\n",
       "      <td>19.46</td>\n",
       "      <td>1603847287</td>\n",
       "    </tr>\n",
       "    <tr>\n",
       "      <th>5</th>\n",
       "      <td>uyemskiy</td>\n",
       "      <td>ru</td>\n",
       "      <td>64.47</td>\n",
       "      <td>40.85</td>\n",
       "      <td>44.60</td>\n",
       "      <td>93.0</td>\n",
       "      <td>90.0</td>\n",
       "      <td>6.71</td>\n",
       "      <td>1603847439</td>\n",
       "    </tr>\n",
       "    <tr>\n",
       "      <th>...</th>\n",
       "      <td>...</td>\n",
       "      <td>...</td>\n",
       "      <td>...</td>\n",
       "      <td>...</td>\n",
       "      <td>...</td>\n",
       "      <td>...</td>\n",
       "      <td>...</td>\n",
       "      <td>...</td>\n",
       "      <td>...</td>\n",
       "    </tr>\n",
       "    <tr>\n",
       "      <th>591</th>\n",
       "      <td>corbelia</td>\n",
       "      <td>br</td>\n",
       "      <td>-24.80</td>\n",
       "      <td>-53.31</td>\n",
       "      <td>62.38</td>\n",
       "      <td>65.0</td>\n",
       "      <td>0.0</td>\n",
       "      <td>3.91</td>\n",
       "      <td>1603848081</td>\n",
       "    </tr>\n",
       "    <tr>\n",
       "      <th>592</th>\n",
       "      <td>portovelo</td>\n",
       "      <td>ec</td>\n",
       "      <td>-3.72</td>\n",
       "      <td>-79.62</td>\n",
       "      <td>70.95</td>\n",
       "      <td>74.0</td>\n",
       "      <td>100.0</td>\n",
       "      <td>1.79</td>\n",
       "      <td>1603848082</td>\n",
       "    </tr>\n",
       "    <tr>\n",
       "      <th>593</th>\n",
       "      <td>tilichiki</td>\n",
       "      <td>ru</td>\n",
       "      <td>60.47</td>\n",
       "      <td>166.10</td>\n",
       "      <td>26.46</td>\n",
       "      <td>89.0</td>\n",
       "      <td>7.0</td>\n",
       "      <td>9.78</td>\n",
       "      <td>1603848039</td>\n",
       "    </tr>\n",
       "    <tr>\n",
       "      <th>594</th>\n",
       "      <td>darhan</td>\n",
       "      <td>mn</td>\n",
       "      <td>49.49</td>\n",
       "      <td>105.92</td>\n",
       "      <td>32.34</td>\n",
       "      <td>84.0</td>\n",
       "      <td>0.0</td>\n",
       "      <td>5.99</td>\n",
       "      <td>1603848085</td>\n",
       "    </tr>\n",
       "    <tr>\n",
       "      <th>595</th>\n",
       "      <td>henties bay</td>\n",
       "      <td>na</td>\n",
       "      <td>-22.12</td>\n",
       "      <td>14.28</td>\n",
       "      <td>59.00</td>\n",
       "      <td>88.0</td>\n",
       "      <td>97.0</td>\n",
       "      <td>6.24</td>\n",
       "      <td>1603848070</td>\n",
       "    </tr>\n",
       "  </tbody>\n",
       "</table>\n",
       "<p>543 rows × 9 columns</p>\n",
       "</div>"
      ],
      "text/plain": [
       "                 Name Country  Real Lat  Real Long  Max temp  Humidity  \\\n",
       "0             goundam      ml     16.41      -3.67     83.46      14.0   \n",
       "1    praia da vitoria      pt     38.73     -27.07     62.60      72.0   \n",
       "2              oboyan      ru     51.21      36.28     39.20      80.0   \n",
       "3               alofi      nu    -19.06    -169.92     78.80      69.0   \n",
       "5            uyemskiy      ru     64.47      40.85     44.60      93.0   \n",
       "..                ...     ...       ...        ...       ...       ...   \n",
       "591          corbelia      br    -24.80     -53.31     62.38      65.0   \n",
       "592         portovelo      ec     -3.72     -79.62     70.95      74.0   \n",
       "593         tilichiki      ru     60.47     166.10     26.46      89.0   \n",
       "594            darhan      mn     49.49     105.92     32.34      84.0   \n",
       "595       henties bay      na    -22.12      14.28     59.00      88.0   \n",
       "\n",
       "     Cloudiness  Wind Speed    Date Rec  \n",
       "0           0.0        6.08  1603847433  \n",
       "1          75.0        5.93  1603847434  \n",
       "2           0.0       11.18  1603847436  \n",
       "3          40.0       19.46  1603847287  \n",
       "5          90.0        6.71  1603847439  \n",
       "..          ...         ...         ...  \n",
       "591         0.0        3.91  1603848081  \n",
       "592       100.0        1.79  1603848082  \n",
       "593         7.0        9.78  1603848039  \n",
       "594         0.0        5.99  1603848085  \n",
       "595        97.0        6.24  1603848070  \n",
       "\n",
       "[543 rows x 9 columns]"
      ]
     },
     "execution_count": 71,
     "metadata": {},
     "output_type": "execute_result"
    }
   ],
   "source": [
    "#Display dataframe\n",
    "city2_df"
   ]
  },
  {
   "cell_type": "code",
   "execution_count": 72,
   "metadata": {},
   "outputs": [
    {
     "data": {
      "text/plain": [
       "Name           object\n",
       "Country        object\n",
       "Real Lat      float64\n",
       "Real Long     float64\n",
       "Max temp      float64\n",
       "Humidity      float64\n",
       "Cloudiness    float64\n",
       "Wind Speed    float64\n",
       "Date Rec       object\n",
       "dtype: object"
      ]
     },
     "execution_count": 72,
     "metadata": {},
     "output_type": "execute_result"
    }
   ],
   "source": [
    "# confirm data types for future work, convert numbers to floats\n",
    "city2_df['Max temp'] = pd.to_numeric(city2_df['Max temp'], errors='coerce')\n",
    "city2_df['Humidity'] = pd.to_numeric(city2_df['Humidity'], errors='coerce')\n",
    "city2_df['Cloudiness'] = pd.to_numeric(city2_df['Cloudiness'], errors='coerce')\n",
    "city2_df['Wind Speed'] = pd.to_numeric(city2_df['Wind Speed'], errors='coerce')\n",
    "city2_df['Real Lat'] = pd.to_numeric(city2_df['Real Lat'], errors='coerce')\n",
    "city2_df['Real Long'] = pd.to_numeric(city2_df['Real Long'], errors='coerce')\n",
    "city2_df.dtypes\n",
    "\n"
   ]
  },
  {
   "cell_type": "code",
   "execution_count": 73,
   "metadata": {},
   "outputs": [],
   "source": [
    "#Write city data to csv file\n",
    "\n",
    "city2_df.to_csv(r'city_list_data.csv')"
   ]
  },
  {
   "cell_type": "markdown",
   "metadata": {},
   "source": [
    "## Inspect the data and remove the cities where the humidity > 100%.\n",
    "----\n",
    "Skip this step if there are no cities that have humidity > 100%. "
   ]
  },
  {
   "cell_type": "code",
   "execution_count": 74,
   "metadata": {},
   "outputs": [
    {
     "data": {
      "text/plain": [
       "100.0"
      ]
     },
     "execution_count": 74,
     "metadata": {},
     "output_type": "execute_result"
    }
   ],
   "source": [
    "#check if Humidity >100%\n",
    "city2_df['Humidity'].max()"
   ]
  },
  {
   "cell_type": "code",
   "execution_count": 75,
   "metadata": {},
   "outputs": [],
   "source": [
    "# No cities have >100% humidity"
   ]
  },
  {
   "cell_type": "markdown",
   "metadata": {},
   "source": [
    "## Plotting the Data\n",
    "* Use proper labeling of the plots using plot titles (including date of analysis) and axes labels.\n",
    "* Save the plotted figures as .pngs."
   ]
  },
  {
   "cell_type": "markdown",
   "metadata": {},
   "source": [
    "## Latitude vs. Temperature Plot"
   ]
  },
  {
   "cell_type": "code",
   "execution_count": 76,
   "metadata": {
    "scrolled": true
   },
   "outputs": [
    {
     "data": {
      "image/png": "[encoded data removed]",
      "text/plain": [
       "<Figure size 432x288 with 1 Axes>"
      ]
     },
     "metadata": {
      "needs_background": "light"
     },
     "output_type": "display_data"
    }
   ],
   "source": [
    "city2_df.plot(kind='scatter', x='Real Lat', y='Max temp')\n",
    "plt.title(\"Latitude vs. Max Temp Plot\")\n",
    "plt.grid()\n",
    "plt.savefig(\"Lat_temp.png\", bbox_inches=\"tight\")\n",
    "\n",
    "# Observations:\n",
    "# temperatures peak around the equator (+/- 25 degrees lat)\n",
    "# seemingly the max temp drops more going north for cities than going south\n",
    "# which is interesting.  Something else is moderating temps in the southern hemisphere\n"
   ]
  },
  {
   "cell_type": "markdown",
   "metadata": {},
   "source": [
    "## Latitude vs. Humidity Plot"
   ]
  },
  {
   "cell_type": "code",
   "execution_count": 77,
   "metadata": {},
   "outputs": [
    {
     "data": {
      "image/png": "[encoded data removed]",
      "text/plain": [
       "<Figure size 432x288 with 1 Axes>"
      ]
     },
     "metadata": {
      "needs_background": "light"
     },
     "output_type": "display_data"
    }
   ],
   "source": [
    "city2_df.plot(kind='scatter', x='Real Lat', y='Humidity')\n",
    "plt.title(\"Latitude vs. Humidity\")\n",
    "plt.grid()\n",
    "plt.savefig(\"Lat_humidity.png\", bbox_inches=\"tight\")\n",
    "\n",
    "# Observations:\n",
    "# Humidity does not seem correlated with latitude\n",
    "# the range of values at <-50 lat, is pretty much the range of values >50 lat "
   ]
  },
  {
   "cell_type": "markdown",
   "metadata": {},
   "source": [
    "## Latitude vs. Cloudiness Plot"
   ]
  },
  {
   "cell_type": "code",
   "execution_count": 79,
   "metadata": {},
   "outputs": [
    {
     "data": {
      "image/png": "[encoded data removed]",
      "text/plain": [
       "<Figure size 432x288 with 1 Axes>"
      ]
     },
     "metadata": {
      "needs_background": "light"
     },
     "output_type": "display_data"
    }
   ],
   "source": [
    "city2_df.plot(kind='scatter', x='Real Lat', y='Cloudiness')\n",
    "plt.title(\"Latitude vs. Cloudiness\")\n",
    "plt.grid()\n",
    "plt.savefig(\"Lat_Cloudiness.png\", bbox_inches=\"tight\")\n",
    "\n",
    "# Observations:\n",
    "# Cloudiness doesn't seem correlated to latitude\n",
    "# maybe a slight bias to higher cloud cover at the extremes in lat\n",
    "# Quite a range of value per cities of like latitude"
   ]
  },
  {
   "cell_type": "markdown",
   "metadata": {},
   "source": [
    "## Latitude vs. Wind Speed Plot"
   ]
  },
  {
   "cell_type": "code",
   "execution_count": 80,
   "metadata": {
    "scrolled": true
   },
   "outputs": [
    {
     "data": {
      "image/png": "[encoded data removed]",
      "text/plain": [
       "<Figure size 432x288 with 1 Axes>"
      ]
     },
     "metadata": {
      "needs_background": "light"
     },
     "output_type": "display_data"
    }
   ],
   "source": [
    "city2_df.plot(kind='scatter', x='Real Lat', y='Wind Speed')\n",
    "plt.title(\"Latitude vs. Wind Speed\")\n",
    "plt.grid()\n",
    "plt.savefig(\"Lat_Wind.png\", bbox_inches=\"tight\")\n",
    "\n",
    "# Observations:\n",
    "# Wind Speed doesn't seem correlated to latitude\n",
    "# a pretty thorough range across all latitudes"
   ]
  },
  {
   "cell_type": "markdown",
   "metadata": {},
   "source": [
    "## Linear Regression"
   ]
  },
  {
   "cell_type": "code",
   "execution_count": 83,
   "metadata": {},
   "outputs": [
    {
     "data": {
      "text/html": [
       "<div>\n",
       "<style scoped>\n",
       "    .dataframe tbody tr th:only-of-type {\n",
       "        vertical-align: middle;\n",
       "    }\n",
       "\n",
       "    .dataframe tbody tr th {\n",
       "        vertical-align: top;\n",
       "    }\n",
       "\n",
       "    .dataframe thead th {\n",
       "        text-align: right;\n",
       "    }\n",
       "</style>\n",
       "<table border=\"1\" class=\"dataframe\">\n",
       "  <thead>\n",
       "    <tr style=\"text-align: right;\">\n",
       "      <th></th>\n",
       "      <th>Name</th>\n",
       "      <th>Country</th>\n",
       "      <th>Real Lat</th>\n",
       "      <th>Real Long</th>\n",
       "      <th>Max temp</th>\n",
       "      <th>Humidity</th>\n",
       "      <th>Cloudiness</th>\n",
       "      <th>Wind Speed</th>\n",
       "      <th>Date Rec</th>\n",
       "    </tr>\n",
       "  </thead>\n",
       "  <tbody>\n",
       "    <tr>\n",
       "      <th>0</th>\n",
       "      <td>goundam</td>\n",
       "      <td>ml</td>\n",
       "      <td>16.41</td>\n",
       "      <td>-3.67</td>\n",
       "      <td>83.46</td>\n",
       "      <td>14.0</td>\n",
       "      <td>0.0</td>\n",
       "      <td>6.08</td>\n",
       "      <td>1603847433</td>\n",
       "    </tr>\n",
       "    <tr>\n",
       "      <th>1</th>\n",
       "      <td>praia da vitoria</td>\n",
       "      <td>pt</td>\n",
       "      <td>38.73</td>\n",
       "      <td>-27.07</td>\n",
       "      <td>62.60</td>\n",
       "      <td>72.0</td>\n",
       "      <td>75.0</td>\n",
       "      <td>5.93</td>\n",
       "      <td>1603847434</td>\n",
       "    </tr>\n",
       "    <tr>\n",
       "      <th>2</th>\n",
       "      <td>oboyan</td>\n",
       "      <td>ru</td>\n",
       "      <td>51.21</td>\n",
       "      <td>36.28</td>\n",
       "      <td>39.20</td>\n",
       "      <td>80.0</td>\n",
       "      <td>0.0</td>\n",
       "      <td>11.18</td>\n",
       "      <td>1603847436</td>\n",
       "    </tr>\n",
       "    <tr>\n",
       "      <th>5</th>\n",
       "      <td>uyemskiy</td>\n",
       "      <td>ru</td>\n",
       "      <td>64.47</td>\n",
       "      <td>40.85</td>\n",
       "      <td>44.60</td>\n",
       "      <td>93.0</td>\n",
       "      <td>90.0</td>\n",
       "      <td>6.71</td>\n",
       "      <td>1603847439</td>\n",
       "    </tr>\n",
       "    <tr>\n",
       "      <th>6</th>\n",
       "      <td>khatanga</td>\n",
       "      <td>ru</td>\n",
       "      <td>71.97</td>\n",
       "      <td>102.50</td>\n",
       "      <td>-6.11</td>\n",
       "      <td>90.0</td>\n",
       "      <td>48.0</td>\n",
       "      <td>10.27</td>\n",
       "      <td>1603847295</td>\n",
       "    </tr>\n",
       "  </tbody>\n",
       "</table>\n",
       "</div>"
      ],
      "text/plain": [
       "               Name Country  Real Lat  Real Long  Max temp  Humidity  \\\n",
       "0           goundam      ml     16.41      -3.67     83.46      14.0   \n",
       "1  praia da vitoria      pt     38.73     -27.07     62.60      72.0   \n",
       "2            oboyan      ru     51.21      36.28     39.20      80.0   \n",
       "5          uyemskiy      ru     64.47      40.85     44.60      93.0   \n",
       "6          khatanga      ru     71.97     102.50     -6.11      90.0   \n",
       "\n",
       "   Cloudiness  Wind Speed    Date Rec  \n",
       "0         0.0        6.08  1603847433  \n",
       "1        75.0        5.93  1603847434  \n",
       "2         0.0       11.18  1603847436  \n",
       "5        90.0        6.71  1603847439  \n",
       "6        48.0       10.27  1603847295  "
      ]
     },
     "execution_count": 83,
     "metadata": {},
     "output_type": "execute_result"
    }
   ],
   "source": [
    "# Create Northern Hemisphere datatable\n",
    "north_df = city2_df.loc[city2_df['Real Lat'] >=0]\n",
    "north_df.head()"
   ]
  },
  {
   "cell_type": "code",
   "execution_count": 84,
   "metadata": {},
   "outputs": [
    {
     "data": {
      "text/html": [
       "<div>\n",
       "<style scoped>\n",
       "    .dataframe tbody tr th:only-of-type {\n",
       "        vertical-align: middle;\n",
       "    }\n",
       "\n",
       "    .dataframe tbody tr th {\n",
       "        vertical-align: top;\n",
       "    }\n",
       "\n",
       "    .dataframe thead th {\n",
       "        text-align: right;\n",
       "    }\n",
       "</style>\n",
       "<table border=\"1\" class=\"dataframe\">\n",
       "  <thead>\n",
       "    <tr style=\"text-align: right;\">\n",
       "      <th></th>\n",
       "      <th>Name</th>\n",
       "      <th>Country</th>\n",
       "      <th>Real Lat</th>\n",
       "      <th>Real Long</th>\n",
       "      <th>Max temp</th>\n",
       "      <th>Humidity</th>\n",
       "      <th>Cloudiness</th>\n",
       "      <th>Wind Speed</th>\n",
       "      <th>Date Rec</th>\n",
       "    </tr>\n",
       "  </thead>\n",
       "  <tbody>\n",
       "    <tr>\n",
       "      <th>3</th>\n",
       "      <td>alofi</td>\n",
       "      <td>nu</td>\n",
       "      <td>-19.06</td>\n",
       "      <td>-169.92</td>\n",
       "      <td>78.80</td>\n",
       "      <td>69.0</td>\n",
       "      <td>40.0</td>\n",
       "      <td>19.46</td>\n",
       "      <td>1603847287</td>\n",
       "    </tr>\n",
       "    <tr>\n",
       "      <th>9</th>\n",
       "      <td>caravelas</td>\n",
       "      <td>br</td>\n",
       "      <td>-17.71</td>\n",
       "      <td>-39.25</td>\n",
       "      <td>77.18</td>\n",
       "      <td>90.0</td>\n",
       "      <td>100.0</td>\n",
       "      <td>10.54</td>\n",
       "      <td>1603847311</td>\n",
       "    </tr>\n",
       "    <tr>\n",
       "      <th>11</th>\n",
       "      <td>hermanus</td>\n",
       "      <td>za</td>\n",
       "      <td>-34.42</td>\n",
       "      <td>19.23</td>\n",
       "      <td>59.00</td>\n",
       "      <td>92.0</td>\n",
       "      <td>100.0</td>\n",
       "      <td>1.99</td>\n",
       "      <td>1603847234</td>\n",
       "    </tr>\n",
       "    <tr>\n",
       "      <th>14</th>\n",
       "      <td>hithadhoo</td>\n",
       "      <td>mv</td>\n",
       "      <td>-0.60</td>\n",
       "      <td>73.08</td>\n",
       "      <td>83.93</td>\n",
       "      <td>66.0</td>\n",
       "      <td>85.0</td>\n",
       "      <td>11.01</td>\n",
       "      <td>1603847224</td>\n",
       "    </tr>\n",
       "    <tr>\n",
       "      <th>15</th>\n",
       "      <td>itapirapua</td>\n",
       "      <td>br</td>\n",
       "      <td>-15.82</td>\n",
       "      <td>-50.61</td>\n",
       "      <td>76.57</td>\n",
       "      <td>82.0</td>\n",
       "      <td>100.0</td>\n",
       "      <td>1.83</td>\n",
       "      <td>1603847450</td>\n",
       "    </tr>\n",
       "  </tbody>\n",
       "</table>\n",
       "</div>"
      ],
      "text/plain": [
       "          Name Country  Real Lat  Real Long  Max temp  Humidity  Cloudiness  \\\n",
       "3        alofi      nu    -19.06    -169.92     78.80      69.0        40.0   \n",
       "9    caravelas      br    -17.71     -39.25     77.18      90.0       100.0   \n",
       "11    hermanus      za    -34.42      19.23     59.00      92.0       100.0   \n",
       "14   hithadhoo      mv     -0.60      73.08     83.93      66.0        85.0   \n",
       "15  itapirapua      br    -15.82     -50.61     76.57      82.0       100.0   \n",
       "\n",
       "    Wind Speed    Date Rec  \n",
       "3        19.46  1603847287  \n",
       "9        10.54  1603847311  \n",
       "11        1.99  1603847234  \n",
       "14       11.01  1603847224  \n",
       "15        1.83  1603847450  "
      ]
     },
     "execution_count": 84,
     "metadata": {},
     "output_type": "execute_result"
    }
   ],
   "source": [
    "# Create Southern Hemisphere datatable\n",
    "south_df = city2_df.loc[city2_df['Real Lat'] <0]\n",
    "south_df.head()"
   ]
  },
  {
   "cell_type": "markdown",
   "metadata": {},
   "source": [
    "####  Northern Hemisphere - Max Temp vs. Latitude Linear Regression"
   ]
  },
  {
   "cell_type": "code",
   "execution_count": 85,
   "metadata": {},
   "outputs": [],
   "source": [
    "# linear regression model\n",
    "from scipy.stats import linregress\n",
    "\n",
    "results = linregress(north_df['Max temp'], north_df['Real Lat'])"
   ]
  },
  {
   "cell_type": "code",
   "execution_count": 86,
   "metadata": {},
   "outputs": [
    {
     "name": "stdout",
     "output_type": "stream",
     "text": [
      "-0.76350868623671 78.56709062053426\n"
     ]
    }
   ],
   "source": [
    "#regression values:\n",
    "slope = results.slope\n",
    "yinter = results.intercept\n",
    "\n",
    "print(slope, yinter)"
   ]
  },
  {
   "cell_type": "code",
   "execution_count": 87,
   "metadata": {},
   "outputs": [
    {
     "name": "stdout",
     "output_type": "stream",
     "text": [
      "Regression eq: Y = -0.76x + 78.57\n"
     ]
    }
   ],
   "source": [
    "#regression line equation\n",
    "\n",
    "line_eq = print(f\"Regression eq: Y = {format('{:.2f}')}x + {format('{:.2f}')}\".format(slope,yinter))\n",
    "#print(line_eq)\n",
    "\n",
    "short_form = f\"Y = {format('{:.2f}')}x + {format('{:.2f}')}\".format(slope,yinter)"
   ]
  },
  {
   "cell_type": "code",
   "execution_count": 88,
   "metadata": {},
   "outputs": [],
   "source": [
    "# R^2 value\n",
    "cor_lat_temp_nor = sts.pearsonr(north_df['Max temp'],north_df['Real Lat'])\n",
    "cor_lat_temp_nor[0]\n",
    "r_sqre = cor_lat_temp_nor[0]*cor_lat_temp_nor[0]\n",
    "r_sqre\n",
    "\n",
    "reg_form = f\"R^2 = {format('{:.2f}')}\".format(r_sqre)"
   ]
  },
  {
   "cell_type": "code",
   "execution_count": 89,
   "metadata": {
    "scrolled": true
   },
   "outputs": [
    {
     "data": {
      "image/png": "[encoded data removed]",
      "text/plain": [
       "<Figure size 432x288 with 1 Axes>"
      ]
     },
     "metadata": {
      "needs_background": "light"
     },
     "output_type": "display_data"
    }
   ],
   "source": [
    "#plot chart with regression line\n",
    "ax = north_df.plot.scatter(x = 'Max temp', y = 'Real Lat')\n",
    "\n",
    "ax.set_title('ScatterPlot: Max Temp vs. Latitude')\n",
    "ax.set_xlabel('Max Temp')\n",
    "ax.set_ylabel('lat')\n",
    "\n",
    "\n",
    "ax.annotate(short_form, xy=(20,25), xytext=(20,30), fontsize=10)\n",
    "ax.annotate(reg_form, xy=(20,25), xytext=(20,25), fontsize=10)\n",
    "\n",
    "x_values = north_df['Max temp']\n",
    "y_values = north_df['Max temp']*slope + yinter\n",
    "\n",
    "plt.plot(x_values, y_values, color='r')\n",
    "\n",
    "plt.show()"
   ]
  },
  {
   "cell_type": "code",
   "execution_count": null,
   "metadata": {},
   "outputs": [],
   "source": [
    "# Linear Regression (Northern temp vs. lat)\n",
    "# Max temp increases pretty well with distance closer to 0 Latitude\n",
    "# pretty good regression coefficient for this: R^2 = 0.74"
   ]
  },
  {
   "cell_type": "markdown",
   "metadata": {},
   "source": [
    "####  Southern Hemisphere - Max Temp vs. Latitude Linear Regression"
   ]
  },
  {
   "cell_type": "code",
   "execution_count": 90,
   "metadata": {},
   "outputs": [],
   "source": [
    "results = linregress(south_df['Max temp'], south_df['Real Lat'])"
   ]
  },
  {
   "cell_type": "code",
   "execution_count": 91,
   "metadata": {},
   "outputs": [],
   "source": [
    "#regression values:\n",
    "slope = results.slope\n",
    "yinter = results.intercept"
   ]
  },
  {
   "cell_type": "code",
   "execution_count": 92,
   "metadata": {},
   "outputs": [
    {
     "name": "stdout",
     "output_type": "stream",
     "text": [
      "Regression eq: Y = 0.89x + -83.13\n"
     ]
    }
   ],
   "source": [
    "#regression line equation\n",
    "\n",
    "line_eq = print(f\"Regression eq: Y = {format('{:.2f}')}x + {format('{:.2f}')}\".format(slope,yinter))\n",
    "#print(line_eq)\n",
    "\n",
    "short_form = f\"Y = {format('{:.2f}')}x + {format('{:.2f}')}\".format(slope,yinter)"
   ]
  },
  {
   "cell_type": "code",
   "execution_count": 93,
   "metadata": {},
   "outputs": [],
   "source": [
    "# R^2 value\n",
    "cor_lat_temp_sth = sts.pearsonr(south_df['Max temp'],south_df['Real Lat'])\n",
    "cor_lat_temp_sth[0]\n",
    "r_sqre = cor_lat_temp_sth[0]*cor_lat_temp_sth[0]\n",
    "r_sqre\n",
    "\n",
    "reg_form = f\"R^2 = {format('{:.2f}')}\".format(r_sqre)"
   ]
  },
  {
   "cell_type": "code",
   "execution_count": 94,
   "metadata": {},
   "outputs": [
    {
     "data": {
      "image/png": "[encoded data removed]",
      "text/plain": [
       "<Figure size 432x288 with 1 Axes>"
      ]
     },
     "metadata": {
      "needs_background": "light"
     },
     "output_type": "display_data"
    }
   ],
   "source": [
    "#plot chart with regression line\n",
    "ax = south_df.plot.scatter(x = 'Max temp', y = 'Real Lat')\n",
    "\n",
    "ax.set_title('ScatterPlot: Max Temp vs. Latitude')\n",
    "ax.set_xlabel('Max Temp')\n",
    "ax.set_ylabel('lat')\n",
    "\n",
    "\n",
    "ax.annotate(short_form, xy=(45,-50), xytext=(45,-50), fontsize=10)\n",
    "ax.annotate(reg_form, xy=(45,-55), xytext=(45,-55), fontsize=10)\n",
    "\n",
    "x_values = south_df['Max temp']\n",
    "y_values = south_df['Max temp']*slope + yinter\n",
    "\n",
    "plt.plot(x_values, y_values, color='r')\n",
    "\n",
    "plt.show()"
   ]
  },
  {
   "cell_type": "code",
   "execution_count": 95,
   "metadata": {
    "scrolled": true
   },
   "outputs": [],
   "source": [
    "# Linear Regression (temp vs. hemipshere lat)\n",
    "# confirms that as the latitude is further away from zero\n",
    "# the temperature drops fairly consistently (similar to moving north away from the 0 Latitude)\n",
    "# the slope is inverted but the magntidue of the slope is quite similar\n",
    "# .74 north vs. .89 South"
   ]
  },
  {
   "cell_type": "markdown",
   "metadata": {},
   "source": [
    "####  Northern Hemisphere - Humidity (%) vs. Latitude Linear Regression"
   ]
  },
  {
   "cell_type": "code",
   "execution_count": 96,
   "metadata": {},
   "outputs": [],
   "source": [
    "results = linregress(north_df['Humidity'], north_df['Real Lat'])"
   ]
  },
  {
   "cell_type": "code",
   "execution_count": 97,
   "metadata": {},
   "outputs": [],
   "source": [
    "#regression values:\n",
    "slope = results.slope\n",
    "yinter = results.intercept"
   ]
  },
  {
   "cell_type": "code",
   "execution_count": 98,
   "metadata": {},
   "outputs": [
    {
     "name": "stdout",
     "output_type": "stream",
     "text": [
      "Regression eq: Y = 0.29x + 17.56\n"
     ]
    }
   ],
   "source": [
    "#regression line equation\n",
    "\n",
    "line_eq = print(f\"Regression eq: Y = {format('{:.2f}')}x + {format('{:.2f}')}\".format(slope,yinter))\n",
    "#print(line_eq)\n",
    "\n",
    "short_form = f\"Y = {format('{:.2f}')}x + {format('{:.2f}')}\".format(slope,yinter)"
   ]
  },
  {
   "cell_type": "code",
   "execution_count": 99,
   "metadata": {},
   "outputs": [],
   "source": [
    "# R^2 value\n",
    "cor_lat_temp_north = sts.pearsonr(north_df['Humidity'],north_df['Real Lat'])\n",
    "cor_lat_temp_north[0]\n",
    "r_sqre = cor_lat_temp_north[0]*cor_lat_temp_north[0]\n",
    "r_sqre\n",
    "\n",
    "reg_form = f\"R^2 = {format('{:.2f}')}\".format(r_sqre)"
   ]
  },
  {
   "cell_type": "code",
   "execution_count": 100,
   "metadata": {},
   "outputs": [
    {
     "data": {
      "image/png": "[encoded data removed]",
      "text/plain": [
       "<Figure size 432x288 with 1 Axes>"
      ]
     },
     "metadata": {
      "needs_background": "light"
     },
     "output_type": "display_data"
    }
   ],
   "source": [
    "#plot chart with regression line\n",
    "ax = north_df.plot.scatter(x = 'Humidity', y = 'Real Lat')\n",
    "\n",
    "ax.set_title('ScatterPlot: Humidity vs. Latitude')\n",
    "ax.set_xlabel('Humidity')\n",
    "ax.set_ylabel('lat')\n",
    "\n",
    "\n",
    "ax.annotate(short_form, xy=(70,30), xytext=(70,30), fontsize=10)\n",
    "ax.annotate(reg_form, xy=(70,25), xytext=(70,25), fontsize=10)\n",
    "\n",
    "x_values = north_df['Humidity']\n",
    "y_values = north_df['Humidity']*slope + yinter\n",
    "\n",
    "plt.plot(x_values, y_values, color='r')\n",
    "\n",
    "plt.show()"
   ]
  },
  {
   "cell_type": "markdown",
   "metadata": {},
   "source": [
    "####  Southern Hemisphere - Humidity (%) vs. Latitude Linear Regression"
   ]
  },
  {
   "cell_type": "code",
   "execution_count": 113,
   "metadata": {},
   "outputs": [],
   "source": [
    "results = linregress(south_df['Humidity'], south_df['Real Lat'])"
   ]
  },
  {
   "cell_type": "code",
   "execution_count": 114,
   "metadata": {},
   "outputs": [],
   "source": [
    "#regression values:\n",
    "slope = results.slope\n",
    "yinter = results.intercept"
   ]
  },
  {
   "cell_type": "code",
   "execution_count": 115,
   "metadata": {},
   "outputs": [
    {
     "name": "stdout",
     "output_type": "stream",
     "text": [
      "Regression eq: Y = 0.13x + -29.86\n"
     ]
    }
   ],
   "source": [
    "#regression line equation\n",
    "\n",
    "line_eq = print(f\"Regression eq: Y = {format('{:.2f}')}x + {format('{:.2f}')}\".format(slope,yinter))\n",
    "#print(line_eq)\n",
    "\n",
    "short_form = f\"Y = {format('{:.2f}')}x + {format('{:.2f}')}\".format(slope,yinter)"
   ]
  },
  {
   "cell_type": "code",
   "execution_count": 116,
   "metadata": {},
   "outputs": [],
   "source": [
    "# R^2 value\n",
    "cor_lat_Humidity_sth = sts.pearsonr(south_df['Humidity'],south_df['Real Lat'])\n",
    "cor_lat_Humidity_sth[0]\n",
    "r_sqre = cor_lat_Humidity_sth[0]*cor_lat_Humidity_sth[0]\n",
    "r_sqre\n",
    "\n",
    "reg_form = f\"R^2 = {format('{:.2f}')}\".format(r_sqre)"
   ]
  },
  {
   "cell_type": "code",
   "execution_count": 117,
   "metadata": {},
   "outputs": [
    {
     "data": {
      "image/png": "[encoded data removed]",
      "text/plain": [
       "<Figure size 432x288 with 1 Axes>"
      ]
     },
     "metadata": {
      "needs_background": "light"
     },
     "output_type": "display_data"
    }
   ],
   "source": [
    "#plot chart with regression line\n",
    "ax = south_df.plot.scatter(x = 'Humidity', y = 'Real Lat')\n",
    "\n",
    "ax.set_title('ScatterPlot: Humidity vs. Latitude')\n",
    "ax.set_xlabel('Humidity')\n",
    "ax.set_ylabel('lat')\n",
    "\n",
    "\n",
    "ax.annotate(short_form, xy=(25,-65), xytext=(25,-65), fontsize=10)\n",
    "ax.annotate(reg_form, xy=(25,-70), xytext=(25,-70), fontsize=10)\n",
    "\n",
    "x_values = south_df['Humidity']\n",
    "y_values = south_df['Humidity']*slope + yinter\n",
    "\n",
    "plt.plot(x_values, y_values, color='r')\n",
    "\n",
    "plt.show()"
   ]
  },
  {
   "cell_type": "code",
   "execution_count": 118,
   "metadata": {},
   "outputs": [],
   "source": [
    "# Observations:  Humidity vs. latitude by hemisphere\n",
    "# NO meaningful R^2 here in either hemisphere.  .29 (magnitude) slope in the north vs. 0.13 slope in the south\n",
    "# in general latitude has little value in predicting humidity."
   ]
  },
  {
   "cell_type": "markdown",
   "metadata": {},
   "source": [
    "####  Northern Hemisphere - Cloudiness (%) vs. Latitude Linear Regression"
   ]
  },
  {
   "cell_type": "code",
   "execution_count": 119,
   "metadata": {},
   "outputs": [
    {
     "name": "stdout",
     "output_type": "stream",
     "text": [
      "Regression eq: Y = 0.05x + 36.11\n"
     ]
    },
    {
     "data": {
      "image/png": "[encoded data removed]",
      "text/plain": [
       "<Figure size 432x288 with 1 Axes>"
      ]
     },
     "metadata": {
      "needs_background": "light"
     },
     "output_type": "display_data"
    }
   ],
   "source": [
    "results = linregress(north_df['Cloudiness'], north_df['Real Lat'])\n",
    "\n",
    "#regression values:\n",
    "slope = results.slope\n",
    "yinter = results.intercept\n",
    "\n",
    "#regression line equation\n",
    "\n",
    "line_eq = print(f\"Regression eq: Y = {format('{:.2f}')}x + {format('{:.2f}')}\".format(slope,yinter))\n",
    "#print(line_eq)\n",
    "\n",
    "short_form = f\"Y = {format('{:.2f}')}x + {format('{:.2f}')}\".format(slope,yinter)\n",
    "\n",
    "# R^2 value\n",
    "cor_lat_Cloudiness_north = sts.pearsonr(north_df['Cloudiness'],north_df['Real Lat'])\n",
    "cor_lat_Cloudiness_north[0]\n",
    "r_sqre = cor_lat_Cloudiness_north[0]*cor_lat_Cloudiness_north[0]\n",
    "r_sqre\n",
    "\n",
    "reg_form = f\"R^2 = {format('{:.2f}')}\".format(r_sqre)\n",
    "\n",
    "#plot chart with regression line\n",
    "ax = north_df.plot.scatter(x = 'Cloudiness', y = 'Real Lat')\n",
    "\n",
    "ax.set_title('ScatterPlot: Cloudiness vs. Latitude')\n",
    "ax.set_xlabel('Cloudiness')\n",
    "ax.set_ylabel('lat')\n",
    "\n",
    "\n",
    "ax.annotate(short_form, xy=(40,30), xytext=(40,30), fontsize=10)\n",
    "ax.annotate(reg_form, xy=(40,25), xytext=(40,25), fontsize=10)\n",
    "\n",
    "x_values = north_df['Cloudiness']\n",
    "y_values = north_df['Cloudiness']*slope + yinter\n",
    "\n",
    "plt.plot(x_values, y_values, color='r')\n",
    "\n",
    "plt.show()"
   ]
  },
  {
   "cell_type": "markdown",
   "metadata": {},
   "source": [
    "####  Southern Hemisphere - Cloudiness (%) vs. Latitude Linear Regression"
   ]
  },
  {
   "cell_type": "code",
   "execution_count": 120,
   "metadata": {},
   "outputs": [
    {
     "name": "stdout",
     "output_type": "stream",
     "text": [
      "Regression eq: Y = 0.06x + -23.56\n"
     ]
    },
    {
     "data": {
      "image/png": "[encoded data removed]",
      "text/plain": [
       "<Figure size 432x288 with 1 Axes>"
      ]
     },
     "metadata": {
      "needs_background": "light"
     },
     "output_type": "display_data"
    }
   ],
   "source": [
    "results = linregress(south_df['Cloudiness'], south_df['Real Lat'])\n",
    "\n",
    "#regression values:\n",
    "slope = results.slope\n",
    "yinter = results.intercept\n",
    "\n",
    "#regression line equation\n",
    "\n",
    "line_eq = print(f\"Regression eq: Y = {format('{:.2f}')}x + {format('{:.2f}')}\".format(slope,yinter))\n",
    "#print(line_eq)\n",
    "\n",
    "short_form = f\"Y = {format('{:.2f}')}x + {format('{:.2f}')}\".format(slope,yinter)\n",
    "\n",
    "# R^2 value\n",
    "cor_lat_Cloudiness_sth = sts.pearsonr(south_df['Cloudiness'],south_df['Real Lat'])\n",
    "cor_lat_Cloudiness_sth[0]\n",
    "r_sqre = cor_lat_Cloudiness_sth[0]*cor_lat_Cloudiness_sth[0]\n",
    "r_sqre\n",
    "\n",
    "reg_form = f\"R^2 = {format('{:.2f}')}\".format(r_sqre)\n",
    "\n",
    "#plot chart with regression line\n",
    "ax = south_df.plot.scatter(x = 'Cloudiness', y = 'Real Lat')\n",
    "\n",
    "ax.set_title('ScatterPlot: Cloudiness vs. Latitude')\n",
    "ax.set_xlabel('Cloudiness')\n",
    "ax.set_ylabel('Real Lat')\n",
    "\n",
    "\n",
    "ax.annotate(short_form, xy=(20,-65), xytext=(20,-65), fontsize=10)\n",
    "ax.annotate(reg_form, xy=(20,-70), xytext=(20,-70), fontsize=10)\n",
    "\n",
    "x_values = south_df['Cloudiness']\n",
    "y_values = south_df['Cloudiness']*slope + yinter\n",
    "\n",
    "plt.plot(x_values, y_values, color='r')\n",
    "\n",
    "plt.show()"
   ]
  },
  {
   "cell_type": "code",
   "execution_count": 121,
   "metadata": {},
   "outputs": [],
   "source": [
    "# Observations:  Cloudiness vs. latitude by hemisphere\n",
    "# NO meaningful R^2 here in either hemisphere.  \n",
    "#.05 (magnitude) slope in the north vs. 0.06 slope in the south is fairly equal\n",
    "# in general latitude has no relationship with cloudiness"
   ]
  },
  {
   "cell_type": "markdown",
   "metadata": {},
   "source": [
    "####  Northern Hemisphere - Wind Speed (mph) vs. Latitude Linear Regression"
   ]
  },
  {
   "cell_type": "code",
   "execution_count": 122,
   "metadata": {},
   "outputs": [
    {
     "name": "stdout",
     "output_type": "stream",
     "text": [
      "Regression eq: Y = 0.64x + 34.35\n"
     ]
    },
    {
     "data": {
      "image/png": "[encoded data removed]",
      "text/plain": [
       "<Figure size 432x288 with 1 Axes>"
      ]
     },
     "metadata": {
      "needs_background": "light"
     },
     "output_type": "display_data"
    }
   ],
   "source": [
    "results = linregress(north_df['Wind Speed'], north_df['Real Lat'])\n",
    "\n",
    "#regression values:\n",
    "slope = results.slope\n",
    "yinter = results.intercept\n",
    "\n",
    "#regression line equation\n",
    "\n",
    "line_eq = print(f\"Regression eq: Y = {format('{:.2f}')}x + {format('{:.2f}')}\".format(slope,yinter))\n",
    "#print(line_eq)\n",
    "\n",
    "short_form = f\"Y = {format('{:.2f}')}x + {format('{:.2f}')}\".format(slope,yinter)\n",
    "\n",
    "# R^2 value\n",
    "cor_lat_wind_north = sts.pearsonr(north_df['Wind Speed'],north_df['Real Lat'])\n",
    "cor_lat_wind_north[0]\n",
    "r_sqre = cor_lat_wind_north[0]*cor_lat_wind_north[0]\n",
    "r_sqre\n",
    "\n",
    "reg_form = f\"R^2 = {format('{:.2f}')}\".format(r_sqre)\n",
    "\n",
    "#plot chart with regression line\n",
    "ax = north_df.plot.scatter(x = 'Wind Speed', y = 'Real Lat')\n",
    "\n",
    "ax.set_title('ScatterPlot: Wind Speed vs. Latitude')\n",
    "ax.set_xlabel('Wind Speed')\n",
    "ax.set_ylabel('lat')\n",
    "\n",
    "\n",
    "ax.annotate(short_form, xy=(4,30), xytext=(4,30), fontsize=10)\n",
    "ax.annotate(reg_form, xy=(4,25), xytext=(4,25), fontsize=10)\n",
    "\n",
    "x_values = north_df['Wind Speed']\n",
    "y_values = north_df['Wind Speed']*slope + yinter\n",
    "\n",
    "plt.plot(x_values, y_values, color='r')\n",
    "\n",
    "plt.show()"
   ]
  },
  {
   "cell_type": "markdown",
   "metadata": {},
   "source": [
    "####  Southern Hemisphere - Wind Speed (mph) vs. Latitude Linear Regression"
   ]
  },
  {
   "cell_type": "code",
   "execution_count": 123,
   "metadata": {},
   "outputs": [
    {
     "name": "stdout",
     "output_type": "stream",
     "text": [
      "Regression eq: Y = -0.83x + -14.47\n"
     ]
    },
    {
     "data": {
      "image/png": "[encoded data removed]",
      "text/plain": [
       "<Figure size 432x288 with 1 Axes>"
      ]
     },
     "metadata": {
      "needs_background": "light"
     },
     "output_type": "display_data"
    }
   ],
   "source": [
    "results = linregress(south_df['Wind Speed'], south_df['Real Lat'])\n",
    "\n",
    "#regression values:\n",
    "slope = results.slope\n",
    "yinter = results.intercept\n",
    "\n",
    "#regression line equation\n",
    "\n",
    "line_eq = print(f\"Regression eq: Y = {format('{:.2f}')}x + {format('{:.2f}')}\".format(slope,yinter))\n",
    "#print(line_eq)\n",
    "\n",
    "short_form = f\"Y = {format('{:.2f}')}x + {format('{:.2f}')}\".format(slope,yinter)\n",
    "\n",
    "# R^2 value\n",
    "cor_lat_wind_sth = sts.pearsonr(south_df['Wind Speed'],south_df['Real Lat'])\n",
    "cor_lat_wind_sth[0]\n",
    "r_sqre = cor_lat_wind_sth[0]*cor_lat_wind_sth[0]\n",
    "r_sqre\n",
    "\n",
    "reg_form = f\"R^2 = {format('{:.2f}')}\".format(r_sqre)\n",
    "\n",
    "#plot chart with regression line\n",
    "ax = south_df.plot.scatter(x = 'Wind Speed', y = 'Real Lat')\n",
    "\n",
    "ax.set_title('ScatterPlot: Wind Speed vs. Latitude')\n",
    "ax.set_xlabel('Wind Speed')\n",
    "ax.set_ylabel('lat')\n",
    "\n",
    "\n",
    "ax.annotate(short_form, xy=(2,-55), xytext=(2,-55), fontsize=10)\n",
    "ax.annotate(reg_form, xy=(2,-60), xytext=(2,-60), fontsize=10)\n",
    "\n",
    "x_values = south_df['Wind Speed']\n",
    "y_values = south_df['Wind Speed']*slope + yinter\n",
    "\n",
    "plt.plot(x_values, y_values, color='r')\n",
    "\n",
    "plt.show()"
   ]
  },
  {
   "cell_type": "code",
   "execution_count": 112,
   "metadata": {},
   "outputs": [],
   "source": [
    "# Observations:  Wind Speed vs. latitude by hemisphere\n",
    "# NO meaningful R^2 here in either hemisphere.  \n",
    "#.64 (magnitude) slope in the north is roughly equal the south magnitude 0.83 but the poor fit\n",
    "# suggests this is not meaningful\n",
    "# in general latitude has no relationship with Wind Speed"
   ]
  },
  {
   "cell_type": "code",
   "execution_count": null,
   "metadata": {},
   "outputs": [],
   "source": []
  },
  {
   "cell_type": "code",
   "execution_count": null,
   "metadata": {},
   "outputs": [],
   "source": []
  }
 ],
 "metadata": {
  "anaconda-cloud": {},
  "kernel_info": {
   "name": "python3"
  },
  "kernelspec": {
   "display_name": "Python [conda env:PythonData]",
   "language": "python",
   "name": "conda-env-PythonData-py"
  },
  "language_info": {
   "codemirror_mode": {
    "name": "ipython",
    "version": 3
   },
   "file_extension": ".py",
   "mimetype": "text/x-python",
   "name": "python",
   "nbconvert_exporter": "python",
   "pygments_lexer": "ipython3",
   "version": "3.6.10"
  },
  "latex_envs": {
   "LaTeX_envs_menu_present": true,
   "autoclose": false,
   "autocomplete": true,
   "bibliofile": "biblio.bib",
   "cite_by": "apalike",
   "current_citInitial": 1,
   "eqLabelWithNumbers": true,
   "eqNumInitial": 1,
   "hotkeys": {
    "equation": "Ctrl-E",
    "itemize": "Ctrl-I"
   },
   "labels_anchors": false,
   "latex_user_defs": false,
   "report_style_numbering": false,
   "user_envs_cfg": false
  },
  "nteract": {
   "version": "0.12.3"
  }
 },
 "nbformat": 4,
 "nbformat_minor": 2
}
